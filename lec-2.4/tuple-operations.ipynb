{
 "cells": [
  {
   "cell_type": "markdown",
   "id": "0d02e6f5",
   "metadata": {},
   "source": [
    "<div style=\"background-color:rgba(50, 81, 100, .9); font-family: 'Bebas Neue'; padding:10px 0;  margin-top:2px; margin-bottom:2px\">\n",
    "\n",
    "   \n",
    " <img align=\"left\" width=\"75\" height=\"75\"  src=\"https://upload.wikimedia.org/wikipedia/en/c/c8/University_of_the_Punjab_logo.png\"  > \n",
    "\n",
    "   \n",
    "<h1><div style=\"text-align: center\"> Department of Data Science</div>\n",
    "<div style=\"text-align: center\"> University of the Punjab, Lahore</div></h1>\n",
    "\n",
    "\n",
    "<h1><div style=\"text-align: center\">Course Title: Tools and Techniques for Data Science</div></h1>\n",
    "\n",
    "   <div style=\"text-align: right; margin-right: 5px; font-size:18px\"> <em><strong>Muhammad Arif Butt, Ph.D.</strong></em></div>\n",
    "    \n",
    "    \n",
    "  "
   ]
  },
  {
   "cell_type": "markdown",
   "id": "09a7c00a",
   "metadata": {},
   "source": [
    "<h2><div style=\"text-align: center\"> \" <u>Lecture 2.4</u> \"</div></h2>"
   ]
  },
  {
   "cell_type": "markdown",
   "id": "b59d7ffa",
   "metadata": {},
   "source": [
    "## _tuple-operations.ipynb_\n",
    "#### [Click me to learn more about Python Tuples](https://www.w3schools.com/python/python_tuples.asp)"
   ]
  },
  {
   "attachments": {},
   "cell_type": "markdown",
   "id": "1285afd4",
   "metadata": {},
   "source": [
    "### 1. Defining Tuples in python\n",
    "* A Tuple in Python is similar to a List. The difference between the two is that we cannot change the elements of a tuple once it is assigned and is created using parenthesis."
   ]
  },
  {
   "cell_type": "code",
   "execution_count": 13,
   "id": "f8763c14",
   "metadata": {},
   "outputs": [
    {
     "name": "stdout",
     "output_type": "stream",
     "text": [
      "(1, 2, 3, 4, 5, 2)\n",
      "('a', 'b', 'c', 'd', 'e')\n",
      "('D', 'a', 't', 'a', ' ', 'S', 'c', 'i', 'e', 'n', 'c', 'e')\n",
      "<class 'tuple'>\n"
     ]
    }
   ],
   "source": [
    "# A tuple is created by placing comma separated values in parenthesis (or without prenthesis as well) \n",
    "\n",
    "t1 = (1, 2, 3, 4, 5, 2)\n",
    "t1 = 1, 2, 3, 4, 5, 2\n",
    "print(t1)\n",
    "\n",
    "t2 = ('a', 'b', 'c', 'd', 'e')\n",
    "print(t2)\n",
    "\n",
    "# you can use tuple() constructor method to create a tuple from a string\n",
    "t3 = tuple(\"Data Science\")\n",
    "print(t3)\n",
    "\n",
    "print(type(t1))\n"
   ]
  },
  {
   "cell_type": "code",
   "execution_count": 2,
   "id": "aea73974",
   "metadata": {},
   "outputs": [
    {
     "data": {
      "text/plain": [
       "()"
      ]
     },
     "execution_count": 2,
     "metadata": {},
     "output_type": "execute_result"
    }
   ],
   "source": [
    "# creating empty tuple\n",
    "t = ()\n",
    "# another way is\n",
    "t = tuple()\n",
    "t"
   ]
  },
  {
   "cell_type": "code",
   "execution_count": 3,
   "id": "51b4c19a",
   "metadata": {},
   "outputs": [
    {
     "data": {
      "text/plain": [
       "(1, 'Hello', [8, 4, 6], (1, 2, 3), 5.5)"
      ]
     },
     "execution_count": 3,
     "metadata": {},
     "output_type": "execute_result"
    }
   ],
   "source": [
    "# nested tuple\n",
    "tup = (1, \"Hello\", [8, 4, 6], (1, 2, 3), 5.5)\n",
    "tup"
   ]
  },
  {
   "cell_type": "code",
   "execution_count": 4,
   "id": "93a155d1",
   "metadata": {},
   "outputs": [
    {
     "name": "stdout",
     "output_type": "stream",
     "text": [
      "<class 'str'>\n",
      "<class 'tuple'>\n"
     ]
    }
   ],
   "source": [
    "# to create a tuple with only one element is a bit tricky\n",
    "str = 'Arif'\n",
    "t = ('Arif',)       # note the comma\n",
    "print(type(str))\n",
    "print(type(t))"
   ]
  },
  {
   "cell_type": "markdown",
   "id": "4e4aeb8b",
   "metadata": {},
   "source": [
    "### 2. Accessing tuple element"
   ]
  },
  {
   "cell_type": "code",
   "execution_count": 5,
   "id": "a243ad11",
   "metadata": {},
   "outputs": [
    {
     "name": "stdout",
     "output_type": "stream",
     "text": [
      "(1, 2, 3)\n",
      "4\n",
      "5.5\n"
     ]
    }
   ],
   "source": [
    "# using [] \n",
    "tup = (1, \"Hello\", (8, 4, 6), (1, 2, 3), 5.5)\n",
    "print(tup[3])\n",
    "\n",
    "#accessing Nested tuple element\n",
    "print(tup[2][1])\n",
    "\n",
    "#negative indexing\n",
    "print(tup[-1])"
   ]
  },
  {
   "cell_type": "markdown",
   "id": "afa60d72",
   "metadata": {},
   "source": [
    "### 3. Tuples are Immutable"
   ]
  },
  {
   "cell_type": "code",
   "execution_count": 6,
   "id": "b8f2c402",
   "metadata": {},
   "outputs": [
    {
     "name": "stdout",
     "output_type": "stream",
     "text": [
      "('p', 'y', 't', 'h', 'o', 'n')\n"
     ]
    }
   ],
   "source": [
    "# you cannot change individual elements of a tuple\n",
    "t1 = (4, 2, 3, [6, 5])\n",
    "#my_tuple[1] = 9                   #error will occur\n",
    "\n",
    "# however, elements of list within a tuple is still mutable\n",
    "t1[3][0] = 9\n",
    "\n",
    "# Tuples can be reassigned\n",
    "t1 = ('p', 'y', 't', 'h', 'o', 'n')\n",
    "print(t1)\n"
   ]
  },
  {
   "cell_type": "markdown",
   "id": "f97f22a3",
   "metadata": {},
   "source": [
    "### 4. Slicing tuples"
   ]
  },
  {
   "cell_type": "code",
   "execution_count": 7,
   "id": "5201ec69",
   "metadata": {},
   "outputs": [
    {
     "name": "stdout",
     "output_type": "stream",
     "text": [
      "('y', 't')\n",
      "('p',)\n",
      "('t', 'h', 'o', 'n')\n",
      "('p', 'y', 't', 'h', 'o', 'n')\n"
     ]
    }
   ],
   "source": [
    "# Slicing operations of tuple are quite similar to Lists\n",
    "my_tuple = ('p', 'y', 't', 'h', 'o', 'n')\n",
    "print(my_tuple[1:3])\n",
    "\n",
    "print(my_tuple[:-5])\n",
    "\n",
    "print(my_tuple[2:])\n",
    "\n",
    "print(my_tuple[:])"
   ]
  },
  {
   "cell_type": "markdown",
   "id": "e882f74e",
   "metadata": {},
   "source": [
    "### 5 Tuple Concatenation and Repetition"
   ]
  },
  {
   "cell_type": "code",
   "execution_count": 8,
   "id": "daec4feb",
   "metadata": {},
   "outputs": [
    {
     "name": "stdout",
     "output_type": "stream",
     "text": [
      "(1, 2, 3, 4, 5, 6)\n",
      "(1, 2, 3, 1, 2, 3)\n",
      "('Arif', 'Arif', 'Arif', 'Arif', 'Arif')\n"
     ]
    }
   ],
   "source": [
    "# Concatenation\n",
    "tup1 = (1, 2, 3)\n",
    "tup2 = (4, 5, 6)\n",
    "tup3 = tup1 + tup2\n",
    "print(tup3)\n",
    "\n",
    "# Repeatition\n",
    "print(tup1 * 2)\n",
    "print((\"Arif\",) * 5)"
   ]
  },
  {
   "cell_type": "markdown",
   "id": "a91043b7",
   "metadata": {},
   "source": [
    "### 5. Tuple Deletion"
   ]
  },
  {
   "cell_type": "code",
   "execution_count": 9,
   "id": "e3c38998",
   "metadata": {
    "scrolled": true
   },
   "outputs": [],
   "source": [
    "#can't delete or remove an individual item of a tuple\n",
    "my_tuple = ('p', 'y', 't', 'h', 'o', 'n')\n",
    "#del my_tuple[1]   \n",
    "# Can delete an entire tuple\n",
    "del my_tuple\n",
    "\n",
    "# following line will give error my_tuple is not defined\n",
    "#print(my_tuple)"
   ]
  },
  {
   "cell_type": "markdown",
   "id": "3a5e996b",
   "metadata": {},
   "source": [
    "### 6. Tuple Comparison"
   ]
  },
  {
   "cell_type": "code",
   "execution_count": 10,
   "id": "45dc24c8",
   "metadata": {},
   "outputs": [
    {
     "name": "stdout",
     "output_type": "stream",
     "text": [
      "True\n",
      "True\n",
      "False\n"
     ]
    }
   ],
   "source": [
    "t1 = (1, 2, 3)\n",
    "t2 = (3, 1, 2)\n",
    "t3 = (1, 2, 3)\n",
    "print(t1 != t2)\n",
    "print(t1 == t3)\n",
    "print(t1 > t2)\n"
   ]
  },
  {
   "cell_type": "markdown",
   "id": "b4649fa3",
   "metadata": {},
   "source": [
    "### 7. Tuple Assignment"
   ]
  },
  {
   "cell_type": "code",
   "execution_count": 11,
   "id": "9c2de934",
   "metadata": {},
   "outputs": [
    {
     "name": "stdout",
     "output_type": "stream",
     "text": [
      "learning is fun\n",
      "<class 'str'>\n",
      "2 1\n"
     ]
    }
   ],
   "source": [
    "t = ('learning', 'is', 'fun')\n",
    "x, y, z = t\n",
    "print (x, y, z)\n",
    "print(type(x))\n",
    "# can swap two numbers in a single statement using this method\n",
    "a, b = 1, 2\n",
    "c, d = b, a\n",
    "print(c, d)"
   ]
  },
  {
   "cell_type": "markdown",
   "id": "d46d9c96",
   "metadata": {},
   "source": [
    "### 8. Built-in operations"
   ]
  },
  {
   "cell_type": "code",
   "execution_count": 12,
   "id": "16d35062",
   "metadata": {},
   "outputs": [
    {
     "name": "stdout",
     "output_type": "stream",
     "text": [
      "<class 'tuple'>\n",
      "3\n",
      "100\n",
      "20\n",
      "150\n"
     ]
    }
   ],
   "source": [
    "t = (20, 30, 100)\n",
    "print(type(t))\n",
    "\n",
    "print(len(t))\n",
    "print(max(t))\n",
    "print(min(t))\n",
    "print(sum(t))"
   ]
  }
 ],
 "metadata": {
  "kernelspec": {
   "display_name": "Python 3 (ipykernel)",
   "language": "python",
   "name": "python3"
  },
  "language_info": {
   "codemirror_mode": {
    "name": "ipython",
    "version": 3
   },
   "file_extension": ".py",
   "mimetype": "text/x-python",
   "name": "python",
   "nbconvert_exporter": "python",
   "pygments_lexer": "ipython3",
   "version": "3.8.10"
  }
 },
 "nbformat": 4,
 "nbformat_minor": 5
}
