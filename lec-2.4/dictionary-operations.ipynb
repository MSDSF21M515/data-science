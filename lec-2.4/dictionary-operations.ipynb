{
 "cells": [
  {
   "cell_type": "markdown",
   "id": "fdbaee30",
   "metadata": {},
   "source": [
    "<div style=\"background-color:rgba(50, 81, 100, .9); font-family: 'Bebas Neue'; padding:10px 0;  margin-top:2px; margin-bottom:2px\">\n",
    "\n",
    "   \n",
    " <img align=\"left\" width=\"75\" height=\"75\"  src=\"https://upload.wikimedia.org/wikipedia/en/c/c8/University_of_the_Punjab_logo.png\"  > \n",
    "\n",
    "   \n",
    "<h1><div style=\"text-align: center\"> Department of Data Science</div>\n",
    "<div style=\"text-align: center\"> University of the Punjab, Lahore</div></h1>\n",
    "\n",
    "\n",
    "<h1><div style=\"text-align: center\">Course Title: Tools and Techniques for Data Science</div></h1>\n",
    "\n",
    "   <div style=\"text-align: right; margin-right: 5px; font-size:18px\"> <em><strong>Muhammad Arif Butt, Ph.D.</strong></em></div>\n",
    "    \n",
    "    \n",
    "  "
   ]
  },
  {
   "cell_type": "markdown",
   "id": "817ccf01",
   "metadata": {},
   "source": [
    "<h2><div style=\"text-align: center\"> \" <u>Lecture 2.4</u> \"</div></h2>\n",
    "\n"
   ]
  },
  {
   "cell_type": "markdown",
   "id": "1ef646dd",
   "metadata": {},
   "source": [
    "## _dictionary-operations.ipynb_\n",
    "#### [Click me to learn more about Python Dictionaries](https://www.w3schools.com/python/python_dictionaries.asp)"
   ]
  },
  {
   "attachments": {},
   "cell_type": "markdown",
   "id": "af8bbaae",
   "metadata": {},
   "source": [
    "### 1. Defining Dictionary in python\n",
    "* Dictionaries are used to store elements in key:value pairs and created using curly braces.\n",
    "* From Python version 3.7 onwards, dictionaries are ordered.\n",
    "* Data type of key can be int, string, tuple \n",
    "* Key must be unique "
   ]
  },
  {
   "cell_type": "code",
   "execution_count": 21,
   "id": "995ebd25",
   "metadata": {},
   "outputs": [
    {
     "name": "stdout",
     "output_type": "stream",
     "text": [
      "{'arif': 51, 'rauf': 52, 'hadeed': 20}\n",
      "{2580: 'var1', 2582: 'var2', 2586: 'var3'}\n",
      "<class 'dict'>\n"
     ]
    }
   ],
   "source": [
    "# placing items inside curly braces {} separated by commas\n",
    "\n",
    "#dictionary with string keys, showing age of persons\n",
    "dict1 = {\n",
    "    'arif':51, \n",
    "    'rauf':52, \n",
    "    'hadeed':20\n",
    "}\n",
    "print(dict1)\n",
    "\n",
    "#dictionary with integer keys, showing symbol table\n",
    "dict2 = {\n",
    "    2580:'var1', \n",
    "    2582:'var2', \n",
    "    2586:'var3'\n",
    "}\n",
    "print(dict2)\n",
    "\n",
    "print(type(dict2))\n",
    "\n"
   ]
  },
  {
   "cell_type": "code",
   "execution_count": 22,
   "id": "ab057403",
   "metadata": {},
   "outputs": [
    {
     "data": {
      "text/plain": [
       "{'name': 'kakamanna', 1: [10, 20, 30]}"
      ]
     },
     "execution_count": 22,
     "metadata": {},
     "output_type": "execute_result"
    }
   ],
   "source": [
    "# dictionary with mixed keys\n",
    "dict3 = {\n",
    "    'name': 'kakamanna', \n",
    "    1: [10,20,30]\n",
    "}\n",
    "dict3"
   ]
  },
  {
   "cell_type": "code",
   "execution_count": 7,
   "id": "b7e5113d",
   "metadata": {},
   "outputs": [
    {
     "name": "stdout",
     "output_type": "stream",
     "text": [
      "{}\n",
      "{}\n"
     ]
    },
    {
     "data": {
      "text/plain": [
       "{1: 'hello', 2: 'bye'}"
      ]
     },
     "execution_count": 7,
     "metadata": {},
     "output_type": "execute_result"
    }
   ],
   "source": [
    "# dict() function creates a new dictionary with no items\n",
    "dict4 = dict()\n",
    "print(dict4)\n",
    "\n",
    "# other way to create empty dictionary\n",
    "dict5 = {}\n",
    "print(dict5)\n",
    "\n",
    "# creating dictionary with values using dict()\n",
    "dict6 = dict({1: 'hello', 2: 'bye'})\n",
    "dict6"
   ]
  },
  {
   "cell_type": "markdown",
   "id": "88771d63",
   "metadata": {},
   "source": [
    "### 2. Accessing dictionary elements\n",
    "* a dictionary uses keys to access values \n",
    "* Keys can be used either inside square brackets [] or with the get() method"
   ]
  },
  {
   "cell_type": "code",
   "execution_count": 11,
   "id": "654fa102",
   "metadata": {},
   "outputs": [
    {
     "name": "stdout",
     "output_type": "stream",
     "text": [
      "Johar Town Lahore\n",
      "None\n",
      "[60, 75, 80]\n"
     ]
    }
   ],
   "source": [
    "# use [] brackets\n",
    "d1 = {\n",
    "    'name':'kakamanna', \n",
    "    'age':22, \n",
    "    'address':'Johar Town Lahore', \n",
    "    'marks':[60, 75, 80]\n",
    "}\n",
    "print (d1['address'])\n",
    "\n",
    "# in case of incorrect key, error occurs\n",
    "#print (d1[22])\n",
    "\n",
    "#to avoid errors, get() function can be used\n",
    "print (d1.get(22))\n",
    "\n",
    "# get returns none in case of wrong key\n",
    "print (d1.get('marks'))"
   ]
  },
  {
   "cell_type": "markdown",
   "id": "3c2d1ad8",
   "metadata": {},
   "source": [
    "### 3. Dictionaries are mutable"
   ]
  },
  {
   "cell_type": "code",
   "execution_count": 35,
   "id": "0681e855",
   "metadata": {},
   "outputs": [
    {
     "name": "stdout",
     "output_type": "stream",
     "text": [
      "{'nam': 'kakamanna', 'age': 22, 'address': 'Johar Town', 'marks': [63, 78, 83]}\n",
      "{'age': 22, 'address': 'Johar Town', 'marks': [63, 78, 83], 'name': 'kakamanna'}\n",
      "{'age': 22, 'address': 'Johar Town', 'marks': [63, 78, 83], 'name': 'kakamanna', 'cell': '03214432145'}\n",
      "{'age': 22, 'address': 'Johar Town', 'marks': [63, 78, 83], 'name': 'kakamanna', 'cell': '03214432145', 'city': 'Lahore'}\n"
     ]
    }
   ],
   "source": [
    "# changing value corresponding to a particular key\n",
    "d1 = {'nam':'kakamanna', \n",
    "      'age':22, \n",
    "      'address':'Johar Town', \n",
    "      'marks':[60, 75, 80]\n",
    "     }\n",
    "d1['marks'] = [63, 78, 83]\n",
    "print (d1)\n",
    "\n",
    "# changing old key with a new key\n",
    "d1['name'] = d1.pop('nam')   # d1[new_key] = d1.pop(old_key)\n",
    "print(d1)\n",
    "\n",
    "# adding new element\n",
    "d1['cell'] = '03214432145'\n",
    "print (d1)\n",
    "\n",
    "#can use update method\n",
    "d1.update({'city':'Lahore'})\n",
    "print (d1)"
   ]
  },
  {
   "cell_type": "markdown",
   "id": "eb406256",
   "metadata": {},
   "source": [
    "### 4. Removing items from Dictionary"
   ]
  },
  {
   "cell_type": "code",
   "execution_count": 36,
   "id": "dce3452c",
   "metadata": {},
   "outputs": [
    {
     "name": "stdout",
     "output_type": "stream",
     "text": [
      "22\n",
      "{'name': 'kakamanna', 'address': 'Johar Town', 'marks': [60, 75, 80]}\n",
      "('marks', [60, 75, 80])\n",
      "{'name': 'kakamanna', 'address': 'Johar Town'}\n",
      "{}\n"
     ]
    }
   ],
   "source": [
    "# pop() method is given the key and it removes the corresponding key-value pair from dictionary, and returns its value\n",
    "d1 = {'name':'kakamanna', \n",
    "      'age':22, \n",
    "      'address':'Johar Town', \n",
    "      'marks':[60, 75, 80]}\n",
    "print(d1.pop('age'))\n",
    "print(d1)\n",
    "\n",
    "# popitem() removes last item, and return (key,value)\n",
    "print(d1.popitem())\n",
    "print(d1)\n",
    "\n",
    "# clear() remove all items\n",
    "d1.clear()\n",
    "print(d1)\n",
    "\n",
    "# del keyword is normally used to delete the directory from memory (may also be used to remove individual items by giving the key)\n",
    "del d1\n",
    "#print(d1)  # will generate an error now"
   ]
  },
  {
   "cell_type": "markdown",
   "id": "ff2432a5",
   "metadata": {},
   "source": [
    "### 5. Misc Dictionary Methods"
   ]
  },
  {
   "cell_type": "code",
   "execution_count": 47,
   "id": "da924a6b",
   "metadata": {},
   "outputs": [
    {
     "name": "stdout",
     "output_type": "stream",
     "text": [
      "True\n",
      "False\n",
      "True\n",
      "length of dictiornary 4\n",
      "dict_keys(['name', 'age', 'address', 'marks'])\n",
      "dict_values(['kakamanna', 22, 'Johar Town', [60, 75, 80]])\n",
      "Johar Town\n"
     ]
    }
   ],
   "source": [
    "# Membership operators\n",
    "d1 = {'name':'kakamanna', \n",
    "      'age':22, \n",
    "      'address':'Johar Town', \n",
    "      'marks':[60, 75, 80]}\n",
    "\n",
    "print ('age' in d1)\n",
    "print ('name' not in d1)\n",
    "print ('city' not in d1)\n",
    "\n",
    "# length of dictionary\n",
    "print('length of dictiornary', len(d1))\n",
    "\n",
    "# keys() method returns a list of keys in the dictionary\n",
    "list_of_keys = d1.keys()\n",
    "print(list_of_keys)\n",
    "\n",
    "# values() method returns a list of values in the dictionary\n",
    "list_of_values = d1.values()\n",
    "print(list_of_values)\n",
    "\n",
    "\n",
    "# get() method returns a the value of the specified key\n",
    "print(d1.get('address'))\n"
   ]
  },
  {
   "cell_type": "markdown",
   "id": "183ba461",
   "metadata": {},
   "source": [
    "### 6. Iterating through a dictionary"
   ]
  },
  {
   "cell_type": "code",
   "execution_count": 53,
   "id": "b458ee75",
   "metadata": {},
   "outputs": [
    {
     "name": "stdout",
     "output_type": "stream",
     "text": [
      "{'Name': 'Kakamanna', 'Sex': 'Male', 'Age': 23, 'Height': 6.1, 'Occupation': 'Student'}\n",
      "Iterating through a dictionary keys:\n",
      "Name\n",
      "Sex\n",
      "Age\n",
      "Height\n",
      "Occupation\n",
      "Iterating through a dictionary values:\n",
      "Kakamanna\n",
      "Male\n",
      "23\n",
      "6.1\n",
      "Student\n"
     ]
    }
   ],
   "source": [
    "d1 = {\n",
    "    'Name': 'Kakamanna', \n",
    "    'Sex': 'Male', \n",
    "    'Age': 23, \n",
    "    'Height': 6.1, \n",
    "    'Occupation': 'Student'\n",
    "}\n",
    "print(d1)\n",
    "\n",
    "#\n",
    "print(\"Iterating through a dictionary keys:\")\n",
    "for i in d1:\n",
    "    print(i)\n",
    "    \n",
    "    \n",
    "# Iterating through the values\n",
    "print(\"Iterating through a dictionary values:\")\n",
    "for i in dictionary:\n",
    "    print(d1[i])\n",
    "    "
   ]
  },
  {
   "cell_type": "markdown",
   "id": "2ad05aad",
   "metadata": {},
   "source": [
    "### 7. Tuple, list and dictionary Conversion"
   ]
  },
  {
   "cell_type": "code",
   "execution_count": 57,
   "id": "9a5bb951",
   "metadata": {},
   "outputs": [
    {
     "name": "stdout",
     "output_type": "stream",
     "text": [
      "{'Name': 'Kakamanna', 'Sex': 'Male', 'Age': 23, 'Height': 6.1, 'Occupation': 'Student'}\n",
      "(('Name', 'Kakamanna'), ('Sex', 'Male'), ('Age', 23), ('Height', 6.1), ('Occupation', 'Student'))\n",
      "<class 'tuple'>\n",
      "(1, 3, 4, 6)\n",
      "<class 'tuple'>\n"
     ]
    }
   ],
   "source": [
    "d1 = {\n",
    "    'Name': 'Kakamanna', \n",
    "    'Sex': 'Male', \n",
    "    'Age': 23, \n",
    "    'Height': 6.1, \n",
    "    'Occupation': 'Student'\n",
    "}\n",
    "print(d1)\n",
    "\n",
    "#converting dictionary into tuple\n",
    "t1 = tuple(d1.items())\n",
    "print(t1)\n",
    "print(type(t1))\n",
    "\n",
    "#converting list into tuple\n",
    "l1 = [1,3,4,6]\n",
    "t2 = tuple(l1)\n",
    "print(t2)\n",
    "print(type(t2))"
   ]
  },
  {
   "cell_type": "code",
   "execution_count": null,
   "id": "4eb9140c",
   "metadata": {},
   "outputs": [],
   "source": []
  }
 ],
 "metadata": {
  "kernelspec": {
   "display_name": "Python 3 (ipykernel)",
   "language": "python",
   "name": "python3"
  },
  "language_info": {
   "codemirror_mode": {
    "name": "ipython",
    "version": 3
   },
   "file_extension": ".py",
   "mimetype": "text/x-python",
   "name": "python",
   "nbconvert_exporter": "python",
   "pygments_lexer": "ipython3",
   "version": "3.8.10"
  }
 },
 "nbformat": 4,
 "nbformat_minor": 5
}
