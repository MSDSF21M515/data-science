{
 "cells": [
  {
   "cell_type": "markdown",
   "id": "a6651c01",
   "metadata": {},
   "source": [
    "<div style=\"background-color:rgba(50, 81, 100, .9); font-family: 'Bebas Neue'; padding:10px 0;  margin-top:2px; margin-bottom:2px\">\n",
    "\n",
    "   \n",
    " <img align=\"left\" width=\"75\" height=\"75\"  src=\"https://upload.wikimedia.org/wikipedia/en/c/c8/University_of_the_Punjab_logo.png\"  > \n",
    "\n",
    "   \n",
    "<h1><div style=\"text-align: center\"> Department of Data Science</div>\n",
    "<div style=\"text-align: center\"> University of the Punjab, Lahore</div></h1>\n",
    "\n",
    "\n",
    "<h1><div style=\"text-align: center\">Course Title: Tools and Techniques for Data Science</div></h1>\n",
    "\n",
    "   <div style=\"text-align: right; margin-right: 5px; font-size:18px\"> <em><strong>Muhammad Arif Butt, Ph.D.</strong></em></div>\n",
    "    \n",
    "    \n",
    "  "
   ]
  },
  {
   "cell_type": "markdown",
   "id": "a363bc39",
   "metadata": {},
   "source": [
    "<h2><div style=\"text-align: center\"> \" <u>Lecture 2.4</u> \"</div></h2>\n",
    "\n"
   ]
  },
  {
   "cell_type": "markdown",
   "id": "95de41a5",
   "metadata": {},
   "source": [
    "## _list-operations.ipynb_\n",
    "#### [Click me to learn more about Python Lists](https://www.w3schools.com/python/python_lists.asp)"
   ]
  },
  {
   "attachments": {},
   "cell_type": "markdown",
   "id": "7c109b0c",
   "metadata": {},
   "source": [
    "### 1. Defining lists in Python\n",
    "* A List is a numerically ordered sequence of elements that can store multiple items of heterogeneous types in a single variable. Lists are created using square brackets and allows duplicate elements."
   ]
  },
  {
   "cell_type": "code",
   "execution_count": 29,
   "id": "88801cf7",
   "metadata": {},
   "outputs": [
    {
     "name": "stdout",
     "output_type": "stream",
     "text": [
      "[1, 2, 3, 4, 5, 2]\n",
      "[3.7, 6, 3, 7.95, 6]\n",
      "['hello', 'this', 'F', 'good show']\n",
      "[True, False, True]\n"
     ]
    },
    {
     "data": {
      "text/plain": [
       "list"
      ]
     },
     "execution_count": 29,
     "metadata": {},
     "output_type": "execute_result"
    }
   ],
   "source": [
    "# A list is created by placing comma separated values in square brackets [] \n",
    "\n",
    "list1 = [1,2,3,4,5, 2]   #list of integers\n",
    "print(list1)\n",
    "\n",
    "list1 = [3.7, 6, 3, 7.95, 6 ]   #list of integers and floats\n",
    "print(list1)\n",
    "\n",
    "list1 = [\"hello\", \"this\", \"F\", \"good show\"]   #list of strings\n",
    "print(list1)\n",
    "\n",
    "list1 = [True, False, True]   #list of boolean\n",
    "print(list1)\n",
    "\n",
    "type(list1)"
   ]
  },
  {
   "cell_type": "code",
   "execution_count": 2,
   "id": "3e0e4c31",
   "metadata": {},
   "outputs": [
    {
     "name": "stdout",
     "output_type": "stream",
     "text": [
      "['Arif', 30, 5.5]\n"
     ]
    }
   ],
   "source": [
    "# strings are heterogeneous, as their elements/items can be of any data type\n",
    "list2 = [\"Arif\", 30, 5.5]\n",
    "print(list2)"
   ]
  },
  {
   "cell_type": "code",
   "execution_count": 3,
   "id": "458957c8",
   "metadata": {},
   "outputs": [
    {
     "name": "stdout",
     "output_type": "stream",
     "text": [
      "['Arif', 30, 5.5, [10, 'rauf']]\n"
     ]
    }
   ],
   "source": [
    "# Nested list: list can also have another list as an item\n",
    "list3 = [\"Arif\", 30, 5.5, [10,'rauf']]\n",
    "print(list3)"
   ]
  },
  {
   "cell_type": "code",
   "execution_count": 4,
   "id": "539f6d47",
   "metadata": {},
   "outputs": [
    {
     "name": "stdout",
     "output_type": "stream",
     "text": [
      "[]\n"
     ]
    }
   ],
   "source": [
    "# we can create empty list\n",
    "empty_list = []\n",
    "print (empty_list)"
   ]
  },
  {
   "cell_type": "code",
   "execution_count": 5,
   "id": "a11b5b3f",
   "metadata": {},
   "outputs": [
    {
     "name": "stdout",
     "output_type": "stream",
     "text": [
      "[1, 2, 3, 4, 5] ['Arif', 30, 5.5, [10, 'rauf']] []\n"
     ]
    }
   ],
   "source": [
    "#printing multiple lists\n",
    "list1 = [1,2,3,4,5]\n",
    "list3 = [\"Arif\", 30, 5.5, [10,'rauf']]\n",
    "empty_list = []\n",
    "\n",
    "print(list1, list3, empty_list)"
   ]
  },
  {
   "cell_type": "markdown",
   "id": "418db83b",
   "metadata": {},
   "source": [
    "### 2. Accessing list elements in Python"
   ]
  },
  {
   "cell_type": "code",
   "execution_count": 27,
   "id": "d42c7653",
   "metadata": {},
   "outputs": [
    {
     "name": "stdout",
     "output_type": "stream",
     "text": [
      "[10, 'rauf']\n",
      "i\n",
      "rauf\n",
      "learning is fun\n",
      "<class 'str'>\n"
     ]
    }
   ],
   "source": [
    "#list indexing\n",
    "list3 = [\"Arif\", 30, 5.5, [10,'rauf']]\n",
    "print(list3[3])\n",
    "\n",
    "#accessing Nested string element\n",
    "print(list3[0][2])              #accessing third element of string at index 0\n",
    "\n",
    "print(list3[3][1])              #accessing second element of Nested list\n",
    "\n",
    "\n",
    "# you can assign individual elements of list to string variables\n",
    "mylist = ('learning', 'is', 'fun')\n",
    "x, y, z = mylist # the number of variables on the left must match the length of string\n",
    "print (x, y, z)\n",
    "print(type(x))"
   ]
  },
  {
   "cell_type": "code",
   "execution_count": 7,
   "id": "9616725c",
   "metadata": {},
   "outputs": [
    {
     "name": "stdout",
     "output_type": "stream",
     "text": [
      "[10, 'rauf']\n",
      "5.5\n"
     ]
    }
   ],
   "source": [
    "#Negative indexing\n",
    "\n",
    "list3 = [\"Arif\", 30, 5.5, [10,'rauf']]\n",
    "print(list3[-1])                    #accessing last element\n",
    "print(list3[-2])\n",
    "\n",
    "#index should be of integer type\n",
    "#print(list3[1.5])"
   ]
  },
  {
   "cell_type": "markdown",
   "id": "44fa6d30",
   "metadata": {},
   "source": [
    "### 3. Lists are mutable"
   ]
  },
  {
   "cell_type": "code",
   "execution_count": 8,
   "id": "83890637",
   "metadata": {},
   "outputs": [
    {
     "name": "stdout",
     "output_type": "stream",
     "text": [
      "num[2]:  30\n",
      "num[2]:  15\n"
     ]
    }
   ],
   "source": [
    "# List elements can be changed, unlike strings, use assinment = operator for this purpose\n",
    "\n",
    "num = [10, 20, 30, 40, 50]\n",
    "print(\"num[2]: \", num[2])\n",
    "\n",
    "num[2] = 15\n",
    "print(\"num[2]: \", num[2])"
   ]
  },
  {
   "cell_type": "markdown",
   "id": "1daee9e5",
   "metadata": {},
   "source": [
    "### 4. List are Ordered and allow duplicates"
   ]
  },
  {
   "cell_type": "code",
   "execution_count": 9,
   "id": "b06b4314",
   "metadata": {},
   "outputs": [
    {
     "data": {
      "text/plain": [
       "['PF', 'OOP', 'Operating System', 'DSA', 'OOP']"
      ]
     },
     "execution_count": 9,
     "metadata": {},
     "output_type": "execute_result"
    }
   ],
   "source": [
    "# ordered means every element is associated by an index, and every time you access list elements they will show up in same sequence\n",
    "subjects = ['PF', 'OOP', 'Operating System', 'DSA', 'OOP']\n",
    "subjects"
   ]
  },
  {
   "cell_type": "markdown",
   "id": "c9517d91",
   "metadata": {},
   "source": [
    "### 5. Slicing Lists"
   ]
  },
  {
   "cell_type": "code",
   "execution_count": 10,
   "id": "8221022c",
   "metadata": {},
   "outputs": [
    {
     "name": "stdout",
     "output_type": "stream",
     "text": [
      "['a', 'b', 'c', 'd', 'e', 'f', 'g', 'h', 'i']\n",
      "['c', 'd', 'e']\n",
      "['a', 'b', 'c', 'd']\n",
      "['a', 'b', 'c', 'd', 'e', 'f', 'g']\n",
      "['e', 'f', 'g', 'h', 'i']\n",
      "['f', 'g', 'h', 'i']\n",
      "['a', 3, 5, 7, 'e', 'f', 'g', 'h', 'i']\n",
      "['a']\n"
     ]
    }
   ],
   "source": [
    "# List slicing in Python\n",
    "my_list = ['a','b','c','d','e','f','g','h','i']\n",
    "\n",
    "# elements start to end\n",
    "print(my_list[:])\n",
    "\n",
    "# Will display element from first index (inclusive) to last index (not inclusive). (index starts from zero)\n",
    "print(my_list[2:5])\n",
    "\n",
    "# First four elements\n",
    "print(my_list[:4])\n",
    "\n",
    "# elements start to third last element (inclusive)\n",
    "print(my_list[:-2])\n",
    "\n",
    "# elements 3rd to end\n",
    "print(my_list[4:])\n",
    "\n",
    "# elements 6th to end\n",
    "print(my_list[5:])\n",
    "\n",
    "\n",
    "# can change items\n",
    "my_list[1:4] = [3, 5, 7]\n",
    "print(my_list)\n",
    "\n",
    "# reverse the list using step value as -1\n",
    "my_list[::-1]\n",
    "\n",
    "\n",
    "l1 = [1, 'a', 2.5]\n",
    "print(l1[1:2])"
   ]
  },
  {
   "cell_type": "markdown",
   "id": "8f109f45",
   "metadata": {},
   "source": [
    "### 6. List Concatenation and Repetition"
   ]
  },
  {
   "cell_type": "code",
   "execution_count": 11,
   "id": "d4208107",
   "metadata": {},
   "outputs": [
    {
     "name": "stdout",
     "output_type": "stream",
     "text": [
      "['fruits', 'bread', 'veggies', 'meat', 'spices', 'burger']\n",
      "['fruits', 'bread', 'veggies', 25, 33, 41]\n",
      "[1, 2, 3, 4, 5, 6, [7, 8]]\n"
     ]
    }
   ],
   "source": [
    "# use + operator to concatenate two strings\n",
    "\n",
    "food_items1 = ['fruits', 'bread', 'veggies'] \n",
    "food_items2 = ['meat', 'spices', 'burger']\n",
    "\n",
    "food = food_items1 + food_items2\n",
    "print(food)\n",
    "\n",
    "food_price = food_items1 + [25, 33, 41]\n",
    "print(food_price)\n",
    "\n",
    "num1 = [1,2,3]\n",
    "num2 = num1 + [4, 5, 6, [7, 8]]\n",
    "print (num2)"
   ]
  },
  {
   "cell_type": "code",
   "execution_count": 12,
   "id": "d39a5559",
   "metadata": {},
   "outputs": [
    {
     "name": "stdout",
     "output_type": "stream",
     "text": [
      "['Arif', 'Hadeed', 'Mujahid', 'Arif', 'Hadeed', 'Mujahid', 'Arif', 'Hadeed', 'Mujahid']\n",
      "['A', 'A', 'A', 'A', 'A', 'A', 'A', 'A', 'A', 'A', 'A', 'A', 'A', 'A', 'A', 'A', 'A', 'A', 'A', 'A', 'A', 'A', 'A', 'A', 'A', 'A', 'A', 'A', 'A', 'A', 'A', 'A', 'A', 'A', 'A', 'A', 'A', 'A', 'A', 'A', 'A', 'A', 'A', 'A', 'A', 'A', 'A', 'A', 'A', 'A', 'A', 'A', 'A', 'A', 'A', 'A', 'A', 'A', 'A', 'A', 'A', 'A', 'A', 'A', 'A', 'A', 'A', 'A', 'A', 'A', 'A', 'A', 'A', 'A', 'A', 'A', 'A', 'A', 'A', 'A', 'A', 'A', 'A', 'A', 'A', 'A', 'A', 'A', 'A', 'A', 'A', 'A', 'A', 'A', 'A', 'A', 'A', 'A', 'A', 'A']\n"
     ]
    }
   ],
   "source": [
    "# use * operator to create larger lists\n",
    "\n",
    "name = ['Arif', 'Hadeed', 'Mujahid']\n",
    "print (name * 3)\n",
    "\n",
    "#list of 100 A's\n",
    "buffer = ['A']\n",
    "print (buffer * 100)\n"
   ]
  },
  {
   "cell_type": "markdown",
   "id": "a1ff447f",
   "metadata": {},
   "source": [
    "### 7.  Append and Extend methods"
   ]
  },
  {
   "cell_type": "code",
   "execution_count": 31,
   "id": "428a0b95",
   "metadata": {},
   "outputs": [
    {
     "name": "stdout",
     "output_type": "stream",
     "text": [
      "Original list:  [2, 4, 6, 8]\n",
      "After append:  [2, 4, 6, 8, 10]\n",
      "Extended list:  [2, 4, 6, 8, 10, 12, 14, 16]\n",
      "['apple', 'banana', 'cherry', 'potato', 'tomato', 'radish']\n"
     ]
    }
   ],
   "source": [
    "# append() method is used to insert single element at the end of the list\n",
    "list1 = [2, 4, 6, 8]\n",
    "print(\"Original list: \", list1)\n",
    "list1.append(10)\n",
    "print(\"After append: \", list1)\n",
    "\n",
    "# extend() method is used to insert multiple elements at the end of the list\n",
    "list1.extend([12,14,16])\n",
    "print(\"Extended list: \", list1)\n",
    "\n",
    "\n",
    "# another example of extend\n",
    "fruits = ['apple', 'banana', 'cherry']\n",
    "vegs = ['potato', 'tomato', 'radish']\n",
    "fruits.extend(vegs)\n",
    "print(fruits)\n"
   ]
  },
  {
   "cell_type": "markdown",
   "id": "11567455",
   "metadata": {},
   "source": [
    "### 7.  Insert, Delete, Remove, pop, clear"
   ]
  },
  {
   "cell_type": "code",
   "execution_count": 14,
   "id": "9e93b0b1",
   "metadata": {},
   "outputs": [
    {
     "name": "stdout",
     "output_type": "stream",
     "text": [
      "['Maaz', 'hadeed', 'kakamanna', 'zalaid']\n",
      "['Maaz', [10, 20], 'hadeed', 'kakamanna', 'zalaid']\n"
     ]
    }
   ],
   "source": [
    "# use insert(index, value) method to insert element at a specific location\n",
    "name_list = [\"Maaz\", 'hadeed', 'zalaid']\n",
    "name_list.insert(2,'kakamanna')\n",
    "print(name_list)\n",
    "\n",
    "\n",
    "# inserting another list\n",
    "name_list.insert(1,[10, 20])\n",
    "print(name_list)"
   ]
  },
  {
   "cell_type": "code",
   "execution_count": 15,
   "id": "39c23b88",
   "metadata": {},
   "outputs": [
    {
     "name": "stdout",
     "output_type": "stream",
     "text": [
      "['p', 'u', 'n', 'a', 'b', 'university']\n",
      "['p', 'a', 'b', 'university']\n"
     ]
    }
   ],
   "source": [
    "# use del keyword to delete one or more list items by using index\n",
    "list1 = ['p', 'u', 'n', 'j', 'a', 'b', 'university']\n",
    "del list1[3]\n",
    "print(list1)\n",
    "\n",
    "#to delete multiple items\n",
    "del list1[1:3]\n",
    "print(list1)\n",
    "\n",
    "#to delete entire list\n",
    "del list1\n",
    "#print(list1)"
   ]
  },
  {
   "cell_type": "code",
   "execution_count": 16,
   "id": "8e1978c9",
   "metadata": {},
   "outputs": [
    {
     "name": "stdout",
     "output_type": "stream",
     "text": [
      "['learning', 'is', 'with', 'arif', 'butt']\n",
      "['learning', 'is', 'with', 'arif']\n",
      "['learning', 'is', 'arif']\n",
      "[]\n"
     ]
    }
   ],
   "source": [
    "# The remove() method takes exactly one argument, which the list item to be removed\n",
    "list1 = ['learning', 'is', 'fun', 'with', 'arif', 'butt']\n",
    "list1.remove('fun')\n",
    "print(list1)\n",
    "\n",
    "\n",
    "# The pop() method without any argument removes the last item in the list\n",
    "list1.pop()\n",
    "print(list1)\n",
    "\n",
    "# The pop() method if given an argument, will remove that item from the list whose index is given\n",
    "list1.pop(2)\n",
    "print(list1)\n",
    "\n",
    "\n",
    "#use the clear() method to empty a list\n",
    "list1.clear()\n",
    "print(list1)"
   ]
  },
  {
   "cell_type": "markdown",
   "id": "fbf88b2e",
   "metadata": {},
   "source": [
    "### 8. Misc List methods in Python"
   ]
  },
  {
   "cell_type": "code",
   "execution_count": 17,
   "id": "dd1b54d4",
   "metadata": {},
   "outputs": [
    {
     "name": "stdout",
     "output_type": "stream",
     "text": [
      "Sorted numbers list:  [0, 1, 3, 4, 6, 8, 8]\n",
      "Sorted names list:  ['ABC', 'ARIF', 'MNO', 'XYZ']\n",
      "Index of item 3 in numbers list:  2\n",
      "Index of item ARIF in names list:  1\n",
      "Reversed list:  ['XYZ', 'MNO', 'ARIF', 'ABC']\n",
      "length of list:  7\n",
      "max element in list:  8\n",
      "min element in list:  0\n",
      "Sum of element in list:  30\n",
      "False\n",
      "True\n"
     ]
    }
   ],
   "source": [
    "# Use the sort() method to sort list elements\n",
    "list_num = [3, 8, 1, 6, 0, 8, 4]\n",
    "list_num.sort()\n",
    "print(\"Sorted numbers list: \", list_num)\n",
    "\n",
    "list_names = [\"XYZ\", \"ABC\", \"MNO\", \"ARIF\"]\n",
    "list_names.sort()\n",
    "print(\"Sorted names list: \", list_names)\n",
    "\n",
    "# index() method returns the index of the first matched item\n",
    "print(\"Index of item 3 in numbers list: \", list_num.index(3))\n",
    "print(\"Index of item ARIF in names list: \", list_names.index('ARIF'))\n",
    "\n",
    "# reverse() method reverses the order of the list emements\n",
    "list_names.reverse()\n",
    "print(\"Reversed list: \",list_names)\n",
    "\n",
    "# Misc methods\n",
    "\n",
    "print(\"length of list: \", len(list_num))\n",
    "\n",
    "print(\"max element in list: \", max(list_num))\n",
    "\n",
    "print(\"min element in list: \",min(list_num))\n",
    "\n",
    "print(\"Sum of element in list: \",sum(list_num))\n",
    "\n",
    "# Membership (in) operator\n",
    "rv1 = 9 in list_num\n",
    "print(rv1)\n",
    "\n",
    "rv2 = \"ARIF\" in list_names\n",
    "print(rv2)"
   ]
  },
  {
   "cell_type": "markdown",
   "id": "b79f2be5",
   "metadata": {},
   "source": [
    "<h3><div style=\"text-align: center\"> \" <u>Lists and Strings</u> \"</div></h3>"
   ]
  },
  {
   "cell_type": "markdown",
   "id": "0f4dd1c2",
   "metadata": {},
   "source": [
    "### 9. Type Casting"
   ]
  },
  {
   "cell_type": "code",
   "execution_count": 18,
   "id": "24e78729",
   "metadata": {},
   "outputs": [
    {
     "name": "stdout",
     "output_type": "stream",
     "text": [
      "<class 'str'>\n",
      "Be Happy\n",
      "<class 'list'>\n",
      "['B', 'e', ' ', 'H', 'a', 'p', 'p', 'y']\n"
     ]
    }
   ],
   "source": [
    "# convert a string into list using list()\n",
    "str1 = 'Be Happy'    #this is a string\n",
    "print(type(str1))\n",
    "print(str1)\n",
    "t = list(str1)\n",
    "print(type(t))\n",
    "print(t)"
   ]
  },
  {
   "cell_type": "markdown",
   "id": "8dad5ce1",
   "metadata": {},
   "source": [
    "### 10. Split and Join"
   ]
  },
  {
   "cell_type": "code",
   "execution_count": 19,
   "id": "75449b89",
   "metadata": {},
   "outputs": [
    {
     "name": "stdout",
     "output_type": "stream",
     "text": [
      "['Learning', 'is', 'fun', 'with', 'Arif', 'Butt']\n",
      "Learning is fun with Arif\n"
     ]
    }
   ],
   "source": [
    "# split() is method of string class, which returns a list having tokens of the string based on spaces\n",
    "str2 = 'Learning is fun with Arif Butt'\n",
    "rv = str2.split()\n",
    "print(rv)\n",
    "\n",
    "\n",
    "#join is the reverse of split\n",
    "str4 = ['Learning', 'is', 'fun', 'with', 'Arif']\n",
    "delimeter = ' '\n",
    "mylist = delimeter.join(str4)\n",
    "print(mylist)"
   ]
  },
  {
   "cell_type": "markdown",
   "id": "ff517f2e",
   "metadata": {},
   "source": [
    "### 11. Objects and Values"
   ]
  },
  {
   "cell_type": "code",
   "execution_count": 20,
   "id": "5ba0e04b",
   "metadata": {},
   "outputs": [
    {
     "name": "stdout",
     "output_type": "stream",
     "text": [
      "In case of string True\n",
      "In case of list: False\n"
     ]
    }
   ],
   "source": [
    "# in case of strings, both a and b refers to the same memory location containing string 'hello'\n",
    "a = 'hello'\n",
    "b = 'hello'\n",
    "print (\"In case of string\", a is b)\n",
    "\n",
    "# in case of list, both a and b refers to two different objects in the memory having same values\n",
    "a = ['hello']\n",
    "b = ['hello']\n",
    "\n",
    "print (\"In case of list:\", a is b)"
   ]
  },
  {
   "cell_type": "markdown",
   "id": "0f4febac",
   "metadata": {},
   "source": [
    "### 12. Aliasing"
   ]
  },
  {
   "cell_type": "code",
   "execution_count": 21,
   "id": "d8248e80",
   "metadata": {},
   "outputs": [
    {
     "name": "stdout",
     "output_type": "stream",
     "text": [
      "False\n",
      "True\n",
      "['a', 'b', 'e']\n",
      "['a', 'b', 'c']\n",
      "['a', 'b', 'e']\n"
     ]
    }
   ],
   "source": [
    "# alias_list1 is an alias to list1. i.e., both names refer to same object.\n",
    "# Draw diagram to understand\n",
    "list1 = ['a', 'b', 'c']\n",
    "list2 = ['a', 'b', 'c']\n",
    "alias_list1 = list1\n",
    "\n",
    "\n",
    "print(list1 is list2)\n",
    "print(alias_list1 is list1)\n",
    "\n",
    "#making change in one will effect the other\n",
    "list1[2] = 'e'\n",
    "print(list1)\n",
    "print(list2)\n",
    "print(alias_list1)"
   ]
  },
  {
   "cell_type": "code",
   "execution_count": 24,
   "id": "596c6b8d",
   "metadata": {},
   "outputs": [
    {
     "name": "stdout",
     "output_type": "stream",
     "text": [
      "True\n",
      "True\n",
      "False\n"
     ]
    }
   ],
   "source": [
    "# you can use comparison operators on list\n",
    "l1 = [1, 2, 3]\n",
    "l2 = [3, 1, 2]\n",
    "l3 = [1, 2, 3]\n",
    "print(l1 != l2)\n",
    "print(l1 == l3)\n",
    "print(l2 < l1)\n",
    "\n"
   ]
  },
  {
   "cell_type": "code",
   "execution_count": null,
   "id": "66f11550",
   "metadata": {},
   "outputs": [],
   "source": []
  }
 ],
 "metadata": {
  "kernelspec": {
   "display_name": "Python 3 (ipykernel)",
   "language": "python",
   "name": "python3"
  },
  "language_info": {
   "codemirror_mode": {
    "name": "ipython",
    "version": 3
   },
   "file_extension": ".py",
   "mimetype": "text/x-python",
   "name": "python",
   "nbconvert_exporter": "python",
   "pygments_lexer": "ipython3",
   "version": "3.8.10"
  }
 },
 "nbformat": 4,
 "nbformat_minor": 5
}
