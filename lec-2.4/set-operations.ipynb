{
 "cells": [
  {
   "cell_type": "markdown",
   "id": "0c95a919",
   "metadata": {},
   "source": [
    "<div style=\"background-color:rgba(50, 81, 100, .9); font-family: 'Bebas Neue'; padding:10px 0;  margin-top:2px; margin-bottom:2px\">\n",
    "\n",
    "   \n",
    " <img align=\"left\" width=\"75\" height=\"75\"  src=\"https://upload.wikimedia.org/wikipedia/en/c/c8/University_of_the_Punjab_logo.png\"  > \n",
    "\n",
    "   \n",
    "<h1><div style=\"text-align: center\"> Department of Data Science</div>\n",
    "<div style=\"text-align: center\"> University of the Punjab, Lahore</div></h1>\n",
    "\n",
    "\n",
    "<h1><div style=\"text-align: center\">Course Title: Tools and Techniques for Data Science</div></h1>\n",
    "\n",
    "   <div style=\"text-align: right; margin-right: 5px; font-size:18px\"> <em><strong>Muhammad Arif Butt, Ph.D.</strong></em></div>\n",
    "    \n",
    "    \n",
    "  "
   ]
  },
  {
   "cell_type": "markdown",
   "id": "12fdff00",
   "metadata": {},
   "source": [
    "<h2><div style=\"text-align: center\"> \" <u>Lecture 2.4</u> \"</div></h2>\n",
    "\n"
   ]
  },
  {
   "cell_type": "markdown",
   "id": "13b360b4",
   "metadata": {},
   "source": [
    "## _set-operations.ipynb_\n",
    "#### [Click me to learn more about Python Sets](https://www.w3schools.com/python/python_sets.asp)"
   ]
  },
  {
   "attachments": {},
   "cell_type": "markdown",
   "id": "1f6e0ad7",
   "metadata": {},
   "source": [
    "### 1. Defining sets in python\n",
    "* A Set is an unordered and unindexed collection of heterogeneous items. Sets are created using curly brackets and does not allow duplicate elements. "
   ]
  },
  {
   "cell_type": "code",
   "execution_count": 1,
   "id": "71696780",
   "metadata": {},
   "outputs": [
    {
     "name": "stdout",
     "output_type": "stream",
     "text": [
      "{2, 4, 5, 6, 8}\n",
      "{1, 'hi', 5.5, 6}\n",
      "{'hadeed', 'zalaid', 'arif'}\n",
      "{1, 2, 3, 4}\n",
      "set()\n",
      "<class 'set'>\n"
     ]
    }
   ],
   "source": [
    "# can use braces to create a set\n",
    "s1 = {2, 4, 5, 6, 8}\n",
    "print(s1)\n",
    "\n",
    "s2 = {1, 'hi', 5.5, 6}\n",
    "print(s2)\n",
    "\n",
    "s3 = {'hadeed', 'zalaid', 'arif'}\n",
    "print(s3)\n",
    "\n",
    "# to create a set using set()\n",
    "s4 = set([1, 2, 3, 4])\n",
    "print(s4)\n",
    "\n",
    "# creating an empty set\n",
    "#s = {}  # this is not correct way\n",
    "\n",
    "# to create empty set, we can use set()\n",
    "s5 = set()\n",
    "print(s5)\n",
    "print(type(s1))"
   ]
  },
  {
   "cell_type": "code",
   "execution_count": 2,
   "id": "35677373",
   "metadata": {},
   "outputs": [
    {
     "name": "stdout",
     "output_type": "stream",
     "text": [
      "{2, 3, 4, 5, 6, 7, 8}\n",
      "{'arif'}\n",
      "[2, 4, 5, 6, 8, 7, 3, 3, 2]\n",
      "{2, 3, 4, 5, 6, 7, 8}\n"
     ]
    }
   ],
   "source": [
    "#set doesn't allow duplication, that is why they represent unique objects\n",
    "s1 = {2, 4, 5, 6, 8, 7, 3, 3, 2}\n",
    "print(s1)\n",
    "\n",
    "s2 = {'arif', 'arif'}\n",
    "print(s2)\n",
    "\n",
    "#can remove duplication from list by converting it into set\n",
    "list1 = [2, 4, 5, 6, 8, 7, 3, 3,2]\n",
    "print(list1)\n",
    "s3 = set(list1)\n",
    "print(s3)"
   ]
  },
  {
   "cell_type": "markdown",
   "id": "0e7f99e1",
   "metadata": {},
   "source": [
    "### 2. sets are mutable, but unordered\n",
    "* Unordered means, after set creation sequence of values are different, when they initialized "
   ]
  },
  {
   "cell_type": "code",
   "execution_count": 3,
   "id": "26e633f1",
   "metadata": {},
   "outputs": [
    {
     "name": "stdout",
     "output_type": "stream",
     "text": [
      "{2, 3, 4, 5, 6, 7, 8, 9}\n"
     ]
    }
   ],
   "source": [
    "# unordered example\n",
    "s1 = {9, 2, 4, 5, 6, 8, 7, 3, 3, 2}\n",
    "print(s1)\n",
    "\n",
    "# That is why can't use indexing and slicing\n",
    "#print(s1[5])"
   ]
  },
  {
   "cell_type": "code",
   "execution_count": 4,
   "id": "d5345fdb",
   "metadata": {},
   "outputs": [
    {
     "name": "stdout",
     "output_type": "stream",
     "text": [
      "{1, 3}\n",
      "{'arif', 1, 3, 7}\n",
      "{1, 3, 4, 7, 'arif'}\n",
      "{1, 3, 4, 7, 19, 'arif'}\n"
     ]
    }
   ],
   "source": [
    "#add element in set\n",
    "set1 = {1, 3}\n",
    "print(set1)\n",
    "\n",
    "# use add() method to add a single element in a set\n",
    "set1.add('arif')\n",
    "set1.add(7)\n",
    "print(set1)\n",
    "\n",
    "#  use update() method to add list elements in a set\n",
    "set1.update([3, 4])\n",
    "print(set1)\n",
    "\n",
    "#  use update() method to add tuple elements in a set\n",
    "set1.update([19, 4])\n",
    "print(set1)\n",
    "\n",
    "#  use update() method to add list elements as well as tuple elements in a set\n",
    "set1.update(['rauf', 1], {1, 2.9, 3.6})\n",
    "\n",
    "\n",
    "# However a set cannot have mutable items such as a list inside it\n",
    "#my_set = {1, 2, [3, 4]}"
   ]
  },
  {
   "cell_type": "markdown",
   "id": "cd08a1ec",
   "metadata": {},
   "source": [
    "### 3. Delete a set element"
   ]
  },
  {
   "cell_type": "code",
   "execution_count": 5,
   "id": "5456e7be",
   "metadata": {},
   "outputs": [
    {
     "name": "stdout",
     "output_type": "stream",
     "text": [
      "{9, 11.2, 'arif', 30}\n",
      "{11.2, 'arif', 30}\n",
      "{'arif', 30}\n",
      "set()\n"
     ]
    }
   ],
   "source": [
    "# using remove()\n",
    "s = {'arif', 5, 9, 11.2, 30}\n",
    "s.remove(5)\n",
    "print(s)\n",
    "\n",
    "#if element doesn't exist, error will occur\n",
    "# s.remove(9)\n",
    "# print(s)\n",
    "\n",
    "# to avoid error, use discard()\n",
    "s.discard(9)\n",
    "print(s)\n",
    "\n",
    "\n",
    "# The pop() method will remove an arbitrary element\n",
    "s.pop()\n",
    "print(s)\n",
    "\n",
    "# to remove all the elements\n",
    "s.clear()\n",
    "print(s)"
   ]
  },
  {
   "cell_type": "markdown",
   "id": "2f23223b",
   "metadata": {},
   "source": [
    "### 4. Union of sets"
   ]
  },
  {
   "cell_type": "code",
   "execution_count": 6,
   "id": "851bc030",
   "metadata": {},
   "outputs": [
    {
     "name": "stdout",
     "output_type": "stream",
     "text": [
      "{'maaz', 'rauf', 'arif', 'hadeed'}\n"
     ]
    },
    {
     "data": {
      "text/plain": [
       "{'arif', 'hadeed', 'maaz', 'rauf'}"
      ]
     },
     "execution_count": 6,
     "metadata": {},
     "output_type": "execute_result"
    }
   ],
   "source": [
    "s1 = {'arif', 'rauf'}\n",
    "s2 = {'maaz', 'hadeed'}\n",
    "\n",
    "print (s1 | s2)\n",
    "\n",
    "# alternative method is to use union() method\n",
    "s3 = s1.union(s2)\n",
    "s3"
   ]
  },
  {
   "cell_type": "markdown",
   "id": "05d37115",
   "metadata": {},
   "source": [
    "### 5. Intersection of sets"
   ]
  },
  {
   "cell_type": "code",
   "execution_count": 7,
   "id": "e16d9162",
   "metadata": {},
   "outputs": [
    {
     "name": "stdout",
     "output_type": "stream",
     "text": [
      "{'arif'}\n"
     ]
    },
    {
     "data": {
      "text/plain": [
       "{'arif'}"
      ]
     },
     "execution_count": 7,
     "metadata": {},
     "output_type": "execute_result"
    }
   ],
   "source": [
    "s1 = {'arif', 'rauf'}\n",
    "s2 = {'maaz', 'hadeed', 'arif'}\n",
    "\n",
    "print (s1 & s2)\n",
    "\n",
    "# alternative method is to use intersection() method\n",
    "s3 = s1.intersection(s2)\n",
    "s3"
   ]
  },
  {
   "cell_type": "markdown",
   "id": "6dd70d7c",
   "metadata": {},
   "source": [
    "### 6. Set difference"
   ]
  },
  {
   "cell_type": "code",
   "execution_count": 8,
   "id": "25540647",
   "metadata": {},
   "outputs": [
    {
     "name": "stdout",
     "output_type": "stream",
     "text": [
      "{'rauf'}\n",
      "{'rauf'}\n"
     ]
    }
   ],
   "source": [
    "s1 = {'arif', 'rauf'}\n",
    "s2 = {'maaz', 'hadeed', 'arif'}\n",
    "\n",
    "# The difference() method returns a set containing the difference between two or more sets\n",
    "s3 = s1.difference(s2)\n",
    "print(s3)\n",
    "# another way is\n",
    "s4 = s1 - s2\n",
    "print (s4)\n"
   ]
  },
  {
   "cell_type": "markdown",
   "id": "465f7cfe",
   "metadata": {},
   "source": [
    "### 7. Symmetric difference"
   ]
  },
  {
   "cell_type": "code",
   "execution_count": 9,
   "id": "0a9e4d64",
   "metadata": {},
   "outputs": [
    {
     "name": "stdout",
     "output_type": "stream",
     "text": [
      "{'maaz', 'rauf', 'hadeed'}\n",
      "{'maaz', 'rauf', 'hadeed'}\n"
     ]
    }
   ],
   "source": [
    "# Symmetric_difference() method returns a set that contains a mixt of elements\n",
    "# that are not present in both sets\n",
    "\n",
    "s1 = {'arif', 'rauf'}\n",
    "s2 = {'maaz', 'hadeed', 'arif'}\n",
    "s3 = s1.symmetric_difference(s2)\n",
    "print(s3)\n",
    "\n",
    "\n",
    "# alternative method is to use ^ symbol\n",
    "s4 = s1 ^ s2\n",
    "print(s4)"
   ]
  },
  {
   "cell_type": "markdown",
   "id": "5ecca51f",
   "metadata": {},
   "source": [
    "### 8. Subset, superset and disjoint"
   ]
  },
  {
   "cell_type": "code",
   "execution_count": 10,
   "id": "72292d8f",
   "metadata": {},
   "outputs": [
    {
     "name": "stdout",
     "output_type": "stream",
     "text": [
      "True\n",
      "False\n"
     ]
    }
   ],
   "source": [
    "s1 = {1,2,3,4,5,6,7}\n",
    "s2 = {1,2,3,4}\n",
    "\n",
    "# To check if one set is a subset of other set use issubset() method or <= operator\n",
    "# issubset() method returns whether another set contains this set or not\n",
    "print(s2.issubset(s1))\n",
    "\n",
    "# alternative method is to use <= symbol\n",
    "print(s1 <= s2) # is s1 a subset of s2\n"
   ]
  },
  {
   "cell_type": "code",
   "execution_count": 11,
   "id": "bc58ed21",
   "metadata": {},
   "outputs": [
    {
     "name": "stdout",
     "output_type": "stream",
     "text": [
      "True\n",
      "True\n"
     ]
    }
   ],
   "source": [
    "s1 = {1,2,3,4,5,6,7}\n",
    "s2 = {1,2,3,4}\n",
    "# to check if one set is a superset of anoter set use issuperset() method or >= operator\n",
    "print(s1.issuperset(s2)) # is s1 a superset of s2\n",
    "print(s1 >= s2)"
   ]
  },
  {
   "cell_type": "code",
   "execution_count": 12,
   "id": "e94dad2e",
   "metadata": {},
   "outputs": [
    {
     "name": "stdout",
     "output_type": "stream",
     "text": [
      "False\n",
      "True\n"
     ]
    }
   ],
   "source": [
    "# To check if two sets are disjoint (no intersection) use isdisjoint() method\n",
    "s1 = {1,2,3,4,5,6,7}\n",
    "s2 = {1,2,3,4}\n",
    "print(s1.isdisjoint(s2))\n",
    "\n",
    "# Another example\n",
    "s3 = {1,2,3,4}\n",
    "s4 = {5,6,7,8}\n",
    "print(s3.isdisjoint(s4))\n",
    "\n"
   ]
  },
  {
   "cell_type": "markdown",
   "id": "6a70b8a7",
   "metadata": {},
   "source": [
    "### 9. Membership operator on sets"
   ]
  },
  {
   "cell_type": "code",
   "execution_count": 13,
   "id": "f04d7c85",
   "metadata": {},
   "outputs": [
    {
     "name": "stdout",
     "output_type": "stream",
     "text": [
      "True\n",
      "False\n"
     ]
    }
   ],
   "source": [
    "s1 = {5,6,7,8}\n",
    "print(8 in s1)\n",
    "print(10 in s1)"
   ]
  },
  {
   "cell_type": "markdown",
   "id": "ef814c12",
   "metadata": {},
   "source": [
    "### 10. Frozenset"
   ]
  },
  {
   "cell_type": "code",
   "execution_count": 14,
   "id": "3f26d907",
   "metadata": {},
   "outputs": [
    {
     "name": "stdout",
     "output_type": "stream",
     "text": [
      "Original list: ['Honda', 'Kia', 'Suzuki', 'Toyota']\n",
      "Changed list:  ['Honda', 'Kia', 'Daihatsu', 'Toyota']\n",
      "List now converted to type frozenset frozenset({'Kia', 'Daihatsu', 'Toyota', 'Honda'})\n",
      "<class 'frozenset'>\n"
     ]
    }
   ],
   "source": [
    "'''\n",
    "Sets are mutable\n",
    "The frozenset() is a built in function that takes an iterable object as input and makes them immutable/unchangeable\n",
    "This function takes input as any iterable object and converts them into an immutable object.\n",
    "'''\n",
    "\n",
    "# Lists are mutable\n",
    "list1 = [\"Honda\", 'Kia', 'Suzuki', 'Toyota']\n",
    "print(\"Original list:\", list1)\n",
    "list1[2] = 'Daihatsu'\n",
    "print(\"Changed list: \", list1)\n",
    "\n",
    "# let us make this list immutable by making it a frozenset object, which does not support item assignment\n",
    "fs = frozenset(list1)\n",
    "print(\"List now converted to type frozenset\", fs)\n",
    "\n",
    "print(type(fs))\n",
    "#fs[2] = 'Kia'  # this line will generate an error now\n",
    "\n"
   ]
  },
  {
   "cell_type": "code",
   "execution_count": null,
   "id": "1430b5e6",
   "metadata": {},
   "outputs": [],
   "source": []
  }
 ],
 "metadata": {
  "kernelspec": {
   "display_name": "Python 3 (ipykernel)",
   "language": "python",
   "name": "python3"
  },
  "language_info": {
   "codemirror_mode": {
    "name": "ipython",
    "version": 3
   },
   "file_extension": ".py",
   "mimetype": "text/x-python",
   "name": "python",
   "nbconvert_exporter": "python",
   "pygments_lexer": "ipython3",
   "version": "3.8.10"
  }
 },
 "nbformat": 4,
 "nbformat_minor": 5
}
