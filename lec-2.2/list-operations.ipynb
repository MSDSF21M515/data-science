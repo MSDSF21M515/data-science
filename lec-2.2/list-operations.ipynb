{
 "cells": [
  {
   "cell_type": "markdown",
   "id": "a6651c01",
   "metadata": {},
   "source": [
    "<div style=\"background-color:rgba(50, 81, 100, .9); font-family: 'Bebas Neue'; padding:10px 0;  margin-top:2px; margin-bottom:2px\">\n",
    "\n",
    "   \n",
    " <img align=\"left\" width=\"75\" height=\"75\"  src=\"https://upload.wikimedia.org/wikipedia/en/c/c8/University_of_the_Punjab_logo.png\"  > \n",
    "\n",
    "   \n",
    "<h1><div style=\"text-align: center\"> Department of Data Science</div>\n",
    "<div style=\"text-align: center\"> University of the Punjab, Lahore</div></h1>\n",
    "\n",
    "\n",
    "<h1><div style=\"text-align: center\">Course Title: Tools and Techniques for Data Science</div></h1>\n",
    "\n",
    "   <div style=\"text-align: right; margin-right: 5px; font-size:18px\"> <em><strong>Muhammad Arif Butt, Ph.D.</strong></em></div>\n",
    "    \n",
    "    \n",
    "  "
   ]
  },
  {
   "cell_type": "markdown",
   "id": "3097b677",
   "metadata": {},
   "source": [
    "<h2><div style=\"text-align: center\"> \" <u>Lists</u> \"</div></h2>"
   ]
  },
  {
   "cell_type": "markdown",
   "id": "7c109b0c",
   "metadata": {},
   "source": [
    "### 1- Defining lists in python"
   ]
  },
  {
   "cell_type": "code",
   "execution_count": null,
   "id": "88801cf7",
   "metadata": {},
   "outputs": [],
   "source": [
    "#put comma separated values\n",
    "#in square brackets [] \n",
    "\n",
    "list1 = [1,2,3,4,5]                                      #list of integers\n",
    "list1"
   ]
  },
  {
   "cell_type": "code",
   "execution_count": null,
   "id": "3e0e4c31",
   "metadata": {},
   "outputs": [],
   "source": [
    "# strings holds only character values\n",
    "# lists are heterogeneous, as their elements/items can be of any data type\n",
    "\n",
    "list2 = [\"Arif\", 30, 5.5]\n",
    "print(list2)"
   ]
  },
  {
   "cell_type": "code",
   "execution_count": null,
   "id": "458957c8",
   "metadata": {},
   "outputs": [],
   "source": [
    "# Nested list: list can also have another list as an item\n",
    "\n",
    "list3 = [\"Arif\", 30, 5.5, [10,'rauf']]\n",
    "list3"
   ]
  },
  {
   "cell_type": "code",
   "execution_count": null,
   "id": "539f6d47",
   "metadata": {},
   "outputs": [],
   "source": [
    "# can create empty list\n",
    "\n",
    "empty_list = []\n",
    "print (empty_list)"
   ]
  },
  {
   "cell_type": "code",
   "execution_count": null,
   "id": "a11b5b3f",
   "metadata": {},
   "outputs": [],
   "source": [
    "#printing multiple lists\n",
    "\n",
    "list1 = [1,2,3,4,5]\n",
    "list3 = [\"Arif\", 30, 5.5, [10,'rauf']]\n",
    "empty_list = []\n",
    "\n",
    "print(list1, list3, empty_list)"
   ]
  },
  {
   "cell_type": "markdown",
   "id": "418db83b",
   "metadata": {},
   "source": [
    "### 2- Accessing list elements in Python"
   ]
  },
  {
   "cell_type": "code",
   "execution_count": null,
   "id": "d42c7653",
   "metadata": {},
   "outputs": [],
   "source": [
    "#list indexing\n",
    "\n",
    "list3 = [\"Arif\", 30, 5.5, [10,'rauf']]\n",
    "print(list3[3])\n",
    "\n",
    "#accessing Nested string element\n",
    "print(list3[0][1])                              #accessing second element of string \"Arif\"\n",
    "\n",
    "\n",
    "print(list3[3][1])                              #accessing second element of Nested list\n",
    "\n"
   ]
  },
  {
   "cell_type": "code",
   "execution_count": null,
   "id": "9616725c",
   "metadata": {},
   "outputs": [],
   "source": [
    "#Negative indexing\n",
    "\n",
    "list3 = [\"Arif\", 30, 5.5, [10,'rauf']]\n",
    "list3[-1]                                #accessing last element\n",
    "\n",
    "\n",
    "#index should be of integer type\n",
    "#print(list3[1.5])"
   ]
  },
  {
   "cell_type": "markdown",
   "id": "44fa6d30",
   "metadata": {},
   "source": [
    "### 3- lists are mutable"
   ]
  },
  {
   "cell_type": "code",
   "execution_count": null,
   "id": "83890637",
   "metadata": {},
   "outputs": [],
   "source": [
    "#their elements can be changed, unlike strings\n",
    "#use assinment = operator for this purpose\n",
    "\n",
    "num = [10, 20, 30, 40, 50]\n",
    "print(\"before: \", num[2])\n",
    "\n",
    "num[2] = 15\n",
    "print(\"After: \", num[2])"
   ]
  },
  {
   "cell_type": "markdown",
   "id": "1daee9e5",
   "metadata": {},
   "source": [
    "### 4- ordered lists\n",
    " * lists are ordered, as they hold elements in the same ordered, they were initialized <br>\n",
    " * lists allow duplication of elements "
   ]
  },
  {
   "cell_type": "code",
   "execution_count": null,
   "id": "b06b4314",
   "metadata": {},
   "outputs": [],
   "source": [
    "subjects = ['PF', 'OOP', 'Operating System', 'DSA', 'OOP']\n",
    "subjects"
   ]
  },
  {
   "cell_type": "markdown",
   "id": "b8bf1f7d",
   "metadata": {},
   "source": [
    "<h3><div style=\"text-align: center\"> \" <u>List Operations</u> \"</div></h3>"
   ]
  },
  {
   "cell_type": "markdown",
   "id": "c9517d91",
   "metadata": {},
   "source": [
    "### 1- Slicing"
   ]
  },
  {
   "cell_type": "code",
   "execution_count": null,
   "id": "8221022c",
   "metadata": {},
   "outputs": [],
   "source": [
    "# List slicing in Python\n",
    "\n",
    "my_list = ['a','b','c','d','e','f','g','h','i']\n",
    "\n",
    "# elements 3rd to 5th\n",
    "print(my_list[2:5])\n",
    "\n",
    "# elements beginning to 4th\n",
    "print(my_list[:-5])\n",
    "\n",
    "# elements 6th to end\n",
    "print(my_list[5:])\n",
    "\n",
    "# elements beginning to end\n",
    "print(my_list[:])\n",
    "\n",
    "# can change items\n",
    "my_list[1:4] = [3, 5, 7]\n",
    "print(my_list)\n",
    "\n",
    "# reverse the list using step value as -1\n",
    "my_list[::-1]"
   ]
  },
  {
   "cell_type": "markdown",
   "id": "8f109f45",
   "metadata": {},
   "source": [
    "### 2- List Concatenation and Repetition"
   ]
  },
  {
   "cell_type": "code",
   "execution_count": null,
   "id": "d4208107",
   "metadata": {},
   "outputs": [],
   "source": [
    "# use + operator to concatenate two strings\n",
    "\n",
    "food_items1 = ['fruits', 'bread', 'veggies'] \n",
    "food_items2 = ['meat', 'spices', 'burger']\n",
    "\n",
    "food = food_items1 + food_items2\n",
    "print(food)\n",
    "\n",
    "# food1 = food_items1 + []\n",
    "# print(food1)\n",
    "\n",
    "# numbers = [1,2,3]\n",
    "# print (numbers + [4,5,6, [7,8]])"
   ]
  },
  {
   "cell_type": "code",
   "execution_count": null,
   "id": "d39a5559",
   "metadata": {},
   "outputs": [],
   "source": [
    "# use * operator to create larger lists\n",
    "\n",
    "# name = ['arif', 'rauf', 'hadeed']\n",
    "# print (name * 3)\n",
    "\n",
    "#list of 100 A's\n",
    "buffer = ['A']\n",
    "print (buffer * 100)\n"
   ]
  },
  {
   "cell_type": "markdown",
   "id": "a1ff447f",
   "metadata": {},
   "source": [
    "### 3-  Append, Extend, Insert, Delete, Remove, pop, clear"
   ]
  },
  {
   "cell_type": "code",
   "execution_count": null,
   "id": "428a0b95",
   "metadata": {},
   "outputs": [],
   "source": [
    "# append() method is used to insert single element at the end of the list\n",
    "# list of even numbers\n",
    "\n",
    "list1 = [2, 4, 6, 8]\n",
    "list1.append(10)\n",
    "print(\"append list: \", list1)\n",
    "\n",
    "# extend() method is used to insert multiple elements at the end of the list\n",
    "list1.extend([12,14,16])\n",
    "print(\"extend list: \", list1)\n"
   ]
  },
  {
   "cell_type": "code",
   "execution_count": null,
   "id": "9e93b0b1",
   "metadata": {},
   "outputs": [],
   "source": [
    "# use insert(index, value) method to insert element at a specific location\n",
    "name_list = ['hadeed', 'zalaid', 'maaz']\n",
    "name_list.insert(2,'kakamanna')\n",
    "print(name_list)\n",
    "\n",
    "#insert multiple items by squeezing it into an empty slice of a list\n",
    "name_list[3:3] = ['rauf', 'amir']\n",
    "print(name_list)\n",
    "\n",
    "# inserting another list\n",
    "name_list.insert(1,[10, 20])\n",
    "print(name_list)"
   ]
  },
  {
   "cell_type": "code",
   "execution_count": null,
   "id": "39c23b88",
   "metadata": {},
   "outputs": [],
   "source": [
    "#delete one or more items or entire list using del keyword (if don't want to return the deleted item)\n",
    "delete_list = ['p', 'u', 'n', 'j', 'a', 'b', 'university']\n",
    "del delete_list[3]\n",
    "print(delete_list)\n",
    "\n",
    "#to delete multiple items\n",
    "del delete_list[1:3]\n",
    "print(delete_list)\n",
    "\n",
    "#to delete entire list\n",
    "# del delete_list\n"
   ]
  },
  {
   "cell_type": "code",
   "execution_count": null,
   "id": "8e1978c9",
   "metadata": {},
   "outputs": [],
   "source": [
    "#use remove() method to remove the given item (When item is known, rather tha index)\n",
    "new_list = ['p', 'u', 'n', 'j', 'a', 'b']\n",
    "new_list.remove('p')\n",
    "print(new_list)\n",
    "\n",
    "# use pop() method to remove and return an item (if index is known)\n",
    "print(new_list.pop(2))\n",
    "\n",
    "#pop() method removes and returns the last item if the index is not provided\n",
    "print(new_list.pop())\n",
    "\n",
    "#use the clear() method to empty a list\n",
    "new_list.clear()\n",
    "print(new_list)\n",
    "\n",
    "#can also delete items in a list by assigning an empty list to a slice of elements\n",
    "# new_list [:] = []\n",
    "# print(new_list)\n"
   ]
  },
  {
   "cell_type": "markdown",
   "id": "fbf88b2e",
   "metadata": {},
   "source": [
    "### 4- some list methods in python"
   ]
  },
  {
   "cell_type": "code",
   "execution_count": null,
   "id": "dd1b54d4",
   "metadata": {},
   "outputs": [],
   "source": [
    "#sort list\n",
    "list_num = [3, 8, 1, 6, 0, 8, 4]\n",
    "list_num.sort()\n",
    "print(\"sorted list: \", list_num)\n",
    "\n",
    "#index() Returns the index of the first matched item\n",
    "print(\"Returning index: \", list_num.index(8))\n",
    "\n",
    "# to Reverse the order of items in the list\n",
    "list_num.reverse()\n",
    "print(\"Reversed list: \",list_num)\n",
    "\n",
    "print(\"length of list: \", len(list_num))\n",
    "\n",
    "print(\"max element in list: \", max(list_num))\n",
    "\n",
    "print(\"min element in list: \",min(list_num))\n",
    "\n",
    "print(\"Sum of element in list: \",sum(list_num))\n",
    "\n",
    "# Membership (in) operator\n",
    "3 in list_num"
   ]
  },
  {
   "cell_type": "markdown",
   "id": "b79f2be5",
   "metadata": {},
   "source": [
    "<h3><div style=\"text-align: center\"> \" <u>Lists and Strings</u> \"</div></h3>"
   ]
  },
  {
   "cell_type": "markdown",
   "id": "0f4dd1c2",
   "metadata": {},
   "source": [
    "### 1- Type Casting"
   ]
  },
  {
   "cell_type": "code",
   "execution_count": null,
   "id": "24e78729",
   "metadata": {},
   "outputs": [],
   "source": [
    "# convert a string into list using list()\n",
    "str1 = 'Happy'    #this is a string\n",
    "t = list(str1)\n",
    "print(t)"
   ]
  },
  {
   "cell_type": "markdown",
   "id": "8dad5ce1",
   "metadata": {},
   "source": [
    "### 2- Split and Join"
   ]
  },
  {
   "cell_type": "code",
   "execution_count": null,
   "id": "75449b89",
   "metadata": {},
   "outputs": [],
   "source": [
    "#split the string \n",
    "str2 = 'Learning is fun with Arif Butt'\n",
    "t1 = str2.split()\n",
    "print(t1)\n",
    "\n",
    "# str3 = 'Life-goes-on'\n",
    "# t = str3.split()\n",
    "# print(t)\n",
    "\n",
    "#join is the reverse of split\n",
    "t3 = ['learning', 'is', 'fun']\n",
    "delimeter = '-'\n",
    "t2 = delimeter.join(t3)\n",
    "print(t2)\n"
   ]
  },
  {
   "cell_type": "markdown",
   "id": "ff517f2e",
   "metadata": {},
   "source": [
    "### 3- Objects and Values\n",
    "\n",
    " * case 1: a and b refer to two different objects, having same values \n",
    " * case 2: Both refer to the same object "
   ]
  },
  {
   "cell_type": "code",
   "execution_count": null,
   "id": "5ba0e04b",
   "metadata": {},
   "outputs": [],
   "source": [
    "# in case of strings, both refers to the same object\n",
    "a = 'hello'\n",
    "b = 'hello'\n",
    "\n",
    "print (\"in case of string:\", a is b)\n",
    "\n",
    "# in case of list, both refers to the different objects having same values\n",
    "a = ['hello']\n",
    "b = ['hello']\n",
    "\n",
    "print (\"in case of list:\", a is b)"
   ]
  },
  {
   "cell_type": "markdown",
   "id": "0f4febac",
   "metadata": {},
   "source": [
    "### 4- Aliasing\n",
    "* An object with more than one reference, has more than one name, which means object is aliased "
   ]
  },
  {
   "cell_type": "code",
   "execution_count": null,
   "id": "d8248e80",
   "metadata": {},
   "outputs": [],
   "source": [
    "#Both variables refer to same object\n",
    "alist = ['a', 'b', 'c']\n",
    "blist = alist\n",
    "\n",
    "print(blist is alist)\n",
    "\n",
    "#making change in one will effect the other\n",
    "alist[1] = 'e'\n",
    "print(blist[1])"
   ]
  }
 ],
 "metadata": {
  "kernelspec": {
   "display_name": "Python 3",
   "language": "python",
   "name": "python3"
  },
  "language_info": {
   "codemirror_mode": {
    "name": "ipython",
    "version": 3
   },
   "file_extension": ".py",
   "mimetype": "text/x-python",
   "name": "python",
   "nbconvert_exporter": "python",
   "pygments_lexer": "ipython3",
   "version": "3.8.8"
  }
 },
 "nbformat": 4,
 "nbformat_minor": 5
}
