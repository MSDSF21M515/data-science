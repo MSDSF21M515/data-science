{
 "cells": [
  {
   "cell_type": "markdown",
   "id": "a74820f5",
   "metadata": {},
   "source": [
    "<div style=\"background-color:rgba(50, 81, 100, .9); font-family: 'Bebas Neue'; padding:10px 0;  margin-top:2px; margin-bottom:2px\">\n",
    "\n",
    "   \n",
    " <img align=\"left\" width=\"75\" height=\"75\"  src=\"https://upload.wikimedia.org/wikipedia/en/c/c8/University_of_the_Punjab_logo.png\"  > \n",
    "\n",
    "   \n",
    "<h1><div style=\"text-align: center\"> Department of Data Science</div>\n",
    "<div style=\"text-align: center\"> University of the Punjab, Lahore</div></h1>\n",
    "\n",
    "\n",
    "<h1><div style=\"text-align: center\">Course Title: Tools and Techniques for Data Science</div></h1>\n",
    "\n",
    "   <div style=\"text-align: right; margin-right: 5px; font-size:18px\"> <em><strong>Muhammad Arif Butt, Ph.D.</strong></em></div>\n",
    "    \n",
    "    "
   ]
  },
  {
   "cell_type": "markdown",
   "id": "3b9f2264",
   "metadata": {},
   "source": [
    "<h2><div style=\"text-align: center\"> \" <u>Operators</u> \"</div></h2>"
   ]
  },
  {
   "cell_type": "markdown",
   "id": "92f688b7",
   "metadata": {},
   "source": [
    "### 1- Arithmetic operators in Python"
   ]
  },
  {
   "cell_type": "code",
   "execution_count": null,
   "id": "5dc01fb7",
   "metadata": {},
   "outputs": [],
   "source": [
    "#Arithmetic operators in Python\n",
    "\n",
    "x = 10\n",
    "y = 3\n",
    "\n",
    "# Output: x + y \n",
    "print('x + y =',x+y)\n",
    "\n",
    "# Output: x - y \n",
    "print('x - y =',x-y)\n",
    "\n",
    "# Output: x * y \n",
    "print('x * y =',x*y)\n",
    "\n",
    "# Output: x / y \n",
    "print('x / y =',x/y)\n",
    "\n",
    "# Floor Division: Output: x // y \n",
    "print('x // y =',x//y)\n",
    "\n",
    "# Output: x ** y \n",
    "print('x ** y =',x**y)"
   ]
  },
  {
   "cell_type": "markdown",
   "id": "b8f41edc",
   "metadata": {},
   "source": [
    "### 2- Bitwise operators in Python"
   ]
  },
  {
   "cell_type": "code",
   "execution_count": null,
   "id": "150256a7",
   "metadata": {},
   "outputs": [],
   "source": [
    "#Bitwise operators in Python\n",
    "x = 10\n",
    "y = 4\n",
    "\n",
    "\n",
    "# Bitwise and\n",
    "print('x & y is',x&y)\n",
    "\n",
    "# Bitwise or\n",
    "print('x | y is',x|y)\n",
    "\n",
    "# Bitwise not\n",
    "print('~x is',~x)\n",
    "\n",
    "# Bitwise XOR\n",
    "print('x^y is',x^y)\n",
    "\n",
    "# Bitwise right shift\n",
    "print('x>>2 is',x>>2)\n",
    "\n",
    "# Bitwise left shift\n",
    "print('x<<2 is',x<<2)"
   ]
  },
  {
   "cell_type": "markdown",
   "id": "16a60ba4",
   "metadata": {},
   "source": [
    "### 3- Assignment operators in Python"
   ]
  },
  {
   "cell_type": "code",
   "execution_count": null,
   "id": "943aebc8",
   "metadata": {},
   "outputs": [],
   "source": [
    "#Assignment operators in Python\n",
    "x = 4\n",
    "\n",
    "#    x = x + 5\n",
    "#     x += 5  \n",
    "\n",
    "\n",
    "#    x = x - 5\n",
    "#    x -= 5       \n",
    "\n",
    "#    x = x * 5\n",
    "#    x *= 5       \n",
    "\n",
    "#    x = x / 5\n",
    "#    x /= 5       \n",
    "\n",
    "#    x = x % 5\n",
    "#    x %= 5       \n",
    "\n",
    "#    x = x // 5\n",
    "#    x //= 5      \n",
    "\n",
    "#    x = x ** 5\n",
    "#    x **= 5      \n",
    "\n",
    "#    x = x & 5\n",
    "#    x &= 5       \n",
    "\n",
    "#    x = x | 5\n",
    "#    x |= 5       \n",
    "\n",
    "#    x = x ^ 5\n",
    "#    x ^= 5       \n",
    "\n",
    "#    x = x >> 5\n",
    "#    x >>= 5      \n",
    "\n",
    "#     x = x << 5\n",
    "#     x <<= 5"
   ]
  },
  {
   "cell_type": "markdown",
   "id": "f7cec4ab",
   "metadata": {},
   "source": [
    "### 4-Comparison operators in Python"
   ]
  },
  {
   "cell_type": "code",
   "execution_count": null,
   "id": "d735d6bc",
   "metadata": {},
   "outputs": [],
   "source": [
    "#Comparison operators in Python\n",
    "\n",
    "x = 10\n",
    "y = 12\n",
    "\n",
    "# Output: x > y \n",
    "print('x > y is',x>y)\n",
    "\n",
    "# Output: x < y \n",
    "print('x < y is',x<y)\n",
    "\n",
    "# Output: x == y \n",
    "print('x == y is',x==y)\n",
    "\n",
    "# Output: x != y \n",
    "print('x != y is',x!=y)\n",
    "\n",
    "# Output: x >= y \n",
    "print('x >= y is',x>=y)\n",
    "\n",
    "# Output: x <= y \n",
    "print('x <= y is',x<=y)\n",
    "\n",
    "\n",
    "a= x<=y\n",
    "print(a)"
   ]
  },
  {
   "cell_type": "markdown",
   "id": "68d9b695",
   "metadata": {},
   "source": [
    "### 5- Logical operators in Python"
   ]
  },
  {
   "cell_type": "code",
   "execution_count": null,
   "id": "9b6803b2",
   "metadata": {},
   "outputs": [],
   "source": [
    "#Logical Operators in Python\n",
    "\n",
    "x = True\n",
    "y = False\n",
    "\n",
    "print('x and y is',x and y)\n",
    "\n",
    "print('x or y is',x or y)\n",
    "\n",
    "print('not x is',not x)"
   ]
  },
  {
   "cell_type": "markdown",
   "id": "cf10f921",
   "metadata": {},
   "source": [
    "### 6- Identity operators in Python"
   ]
  },
  {
   "cell_type": "code",
   "execution_count": null,
   "id": "cb150232",
   "metadata": {},
   "outputs": [],
   "source": [
    "#Identity operators in Python\n",
    "\n",
    "x1 = 5\n",
    "y1 = 5\n",
    "x2 = 'Hello'\n",
    "y2 = 'Hello'\n",
    "\n",
    "\n",
    "# Output: False\n",
    "print(x1 is not y1)\n",
    "\n",
    "# Output: True\n",
    "print(x2 is y2)"
   ]
  }
 ],
 "metadata": {
  "kernelspec": {
   "display_name": "Python 3 (ipykernel)",
   "language": "python",
   "name": "python3"
  },
  "language_info": {
   "codemirror_mode": {
    "name": "ipython",
    "version": 3
   },
   "file_extension": ".py",
   "mimetype": "text/x-python",
   "name": "python",
   "nbconvert_exporter": "python",
   "pygments_lexer": "ipython3",
   "version": "3.8.10"
  }
 },
 "nbformat": 4,
 "nbformat_minor": 5
}
