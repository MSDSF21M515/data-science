{
 "cells": [
  {
   "cell_type": "markdown",
   "id": "52cb0aec",
   "metadata": {},
   "source": [
    "<div style=\"background-color:rgba(50, 81, 100, .9); font-family: 'Bebas Neue'; padding:10px 0;  margin-top:2px; margin-bottom:2px\">\n",
    "\n",
    "   \n",
    " <img align=\"left\" width=\"75\" height=\"75\"  src=\"https://upload.wikimedia.org/wikipedia/en/c/c8/University_of_the_Punjab_logo.png\"  > \n",
    "\n",
    "   \n",
    "<h1><div style=\"text-align: center\"> Department of Data Science</div>\n",
    "<div style=\"text-align: center\"> University of the Punjab, Lahore</div></h1>\n",
    "\n",
    "\n",
    "<h1><div style=\"text-align: center\">Course Title: Tools and Techniques for Data Science</div></h1>\n",
    "\n",
    "   <div style=\"text-align: right; margin-right: 5px; font-size:18px\"> <em><strong>Muhammad Arif Butt, Ph.D.</strong></em></div>\n",
    "    \n",
    "    "
   ]
  },
  {
   "cell_type": "markdown",
   "id": "e224b328",
   "metadata": {},
   "source": [
    "<h2><div style=\"text-align: center\"> \" <u>Lecture 2.2</u> \"</div></h2>\n",
    "\n"
   ]
  },
  {
   "cell_type": "code",
   "execution_count": 2,
   "id": "dfeb8856",
   "metadata": {},
   "outputs": [
    {
     "ename": "ZeroDivisionError",
     "evalue": "division by zero",
     "output_type": "error",
     "traceback": [
      "\u001b[0;31m---------------------------------------------------------------------------\u001b[0m",
      "\u001b[0;31mZeroDivisionError\u001b[0m                         Traceback (most recent call last)",
      "\u001b[0;32m/var/folders/1t/g3ylw8h50cjdqmk5d6jh1qmm0000gn/T/ipykernel_2832/427906223.py\u001b[0m in \u001b[0;36m<module>\u001b[0;34m\u001b[0m\n\u001b[1;32m      2\u001b[0m \u001b[0my\u001b[0m \u001b[0;34m=\u001b[0m \u001b[0;32mTrue\u001b[0m\u001b[0;34m\u001b[0m\u001b[0;34m\u001b[0m\u001b[0m\n\u001b[1;32m      3\u001b[0m \u001b[0;32mif\u001b[0m \u001b[0my\u001b[0m\u001b[0;34m:\u001b[0m\u001b[0;34m\u001b[0m\u001b[0;34m\u001b[0m\u001b[0m\n\u001b[0;32m----> 4\u001b[0;31m     \u001b[0mz\u001b[0m \u001b[0;34m=\u001b[0m \u001b[0;36m1\u001b[0m\u001b[0;34m/\u001b[0m\u001b[0;36m0\u001b[0m\u001b[0;34m\u001b[0m\u001b[0;34m\u001b[0m\u001b[0m\n\u001b[0m",
      "\u001b[0;31mZeroDivisionError\u001b[0m: division by zero"
     ]
    }
   ],
   "source": [
    "x = 'hello'\n",
    "y = True\n",
    "if y:\n",
    "    z = 1/0"
   ]
  },
  {
   "cell_type": "code",
   "execution_count": null,
   "id": "906744e0",
   "metadata": {},
   "outputs": [
    {
     "name": "stdout",
     "output_type": "stream",
     "text": [
      "> \u001b[0;32m/var/folders/1t/g3ylw8h50cjdqmk5d6jh1qmm0000gn/T/ipykernel_2832/427906223.py\u001b[0m(4)\u001b[0;36m<module>\u001b[0;34m()\u001b[0m\n",
      "\u001b[0;32m      1 \u001b[0;31m\u001b[0mx\u001b[0m \u001b[0;34m=\u001b[0m \u001b[0;34m'hello'\u001b[0m\u001b[0;34m\u001b[0m\u001b[0;34m\u001b[0m\u001b[0m\n",
      "\u001b[0m\u001b[0;32m      2 \u001b[0;31m\u001b[0my\u001b[0m \u001b[0;34m=\u001b[0m \u001b[0;32mTrue\u001b[0m\u001b[0;34m\u001b[0m\u001b[0;34m\u001b[0m\u001b[0m\n",
      "\u001b[0m\u001b[0;32m      3 \u001b[0;31m\u001b[0;32mif\u001b[0m \u001b[0my\u001b[0m\u001b[0;34m:\u001b[0m\u001b[0;34m\u001b[0m\u001b[0;34m\u001b[0m\u001b[0m\n",
      "\u001b[0m\u001b[0;32m----> 4 \u001b[0;31m    \u001b[0mz\u001b[0m \u001b[0;34m=\u001b[0m \u001b[0;36m1\u001b[0m\u001b[0;34m/\u001b[0m\u001b[0;36m0\u001b[0m\u001b[0;34m\u001b[0m\u001b[0;34m\u001b[0m\u001b[0m\n",
      "\u001b[0m\n",
      "ipdb> x\n",
      "'hello'\n",
      "ipdb> y\n",
      "True\n",
      "ipdb> z\n",
      "*** NameError: name 'z' is not defined\n",
      "ipdb> z=1/0\n",
      "*** ZeroDivisionError: division by zero\n"
     ]
    }
   ],
   "source": [
    "%debug"
   ]
  },
  {
   "cell_type": "markdown",
   "id": "f3a7ddf3",
   "metadata": {},
   "source": [
    "# [Built-in Magic commands](https://ipython.readthedocs.io/en/stable/interactive/magics.html)"
   ]
  },
  {
   "cell_type": "code",
   "execution_count": null,
   "id": "83d21665",
   "metadata": {},
   "outputs": [],
   "source": []
  },
  {
   "cell_type": "code",
   "execution_count": null,
   "id": "1d935b84",
   "metadata": {},
   "outputs": [],
   "source": []
  },
  {
   "cell_type": "code",
   "execution_count": 2,
   "id": "21c31da7",
   "metadata": {},
   "outputs": [],
   "source": [
    "mkdir ddd"
   ]
  },
  {
   "cell_type": "code",
   "execution_count": 4,
   "id": "492e2217",
   "metadata": {},
   "outputs": [
    {
     "name": "stdout",
     "output_type": "stream",
     "text": [
      "\u001b[34mclass1\u001b[m\u001b[m                    hellojupyter.ipynb        markdown-cheetsheet.ipynb\r\n",
      "\u001b[34mddd\u001b[m\u001b[m                       helloworld.ipynb\r\n"
     ]
    }
   ],
   "source": [
    "!ls"
   ]
  },
  {
   "cell_type": "code",
   "execution_count": null,
   "id": "78872635",
   "metadata": {},
   "outputs": [],
   "source": [
    "#We can use both single or double quotes in python to print a value\n",
    "#print('Hello, World!!')\n",
    "\n",
    "print(\"Hello, World!!\")        "
   ]
  },
  {
   "cell_type": "code",
   "execution_count": null,
   "id": "8e40ef1b",
   "metadata": {},
   "outputs": [],
   "source": [
    "10+2"
   ]
  },
  {
   "cell_type": "code",
   "execution_count": null,
   "id": "9adaf194",
   "metadata": {},
   "outputs": [],
   "source": [
    "10+2\n",
    "20*2\n",
    "\n",
    "# print(10+2)\n",
    "# print(20+2)"
   ]
  },
  {
   "cell_type": "code",
   "execution_count": null,
   "id": "bb8aff2c",
   "metadata": {},
   "outputs": [],
   "source": [
    "print() #by pressing tab can check the suggestions"
   ]
  },
  {
   "cell_type": "markdown",
   "id": "b6342788",
   "metadata": {},
   "source": [
    "<h2><div style=\"text-align: center\"> \" <u>Comments</u> \"</div></h2>"
   ]
  },
  {
   "cell_type": "code",
   "execution_count": null,
   "id": "1bf354ab",
   "metadata": {},
   "outputs": [],
   "source": [
    "#This is a comment\n",
    "\n",
    "\"\"\"\n",
    "This is \n",
    "also a comment\n",
    "\n",
    "\"\"\"\n",
    "a=10"
   ]
  },
  {
   "cell_type": "code",
   "execution_count": null,
   "id": "8ff34505",
   "metadata": {},
   "outputs": [],
   "source": []
  },
  {
   "cell_type": "markdown",
   "id": "08562aef",
   "metadata": {},
   "source": [
    "<h2><div style=\"text-align: center\"> \" <u>Help in Python</u> \"</div></h2>"
   ]
  },
  {
   "cell_type": "code",
   "execution_count": null,
   "id": "0156393e",
   "metadata": {},
   "outputs": [],
   "source": [
    "help()"
   ]
  },
  {
   "cell_type": "code",
   "execution_count": null,
   "id": "1265aa77",
   "metadata": {},
   "outputs": [],
   "source": [
    "help(str.)"
   ]
  },
  {
   "cell_type": "code",
   "execution_count": null,
   "id": "45b805fa",
   "metadata": {},
   "outputs": [],
   "source": []
  }
 ],
 "metadata": {
  "kernelspec": {
   "display_name": "Python 3 (ipykernel)",
   "language": "python",
   "name": "python3"
  },
  "language_info": {
   "codemirror_mode": {
    "name": "ipython",
    "version": 3
   },
   "file_extension": ".py",
   "mimetype": "text/x-python",
   "name": "python",
   "nbconvert_exporter": "python",
   "pygments_lexer": "ipython3",
   "version": "3.8.10"
  }
 },
 "nbformat": 4,
 "nbformat_minor": 5
}
