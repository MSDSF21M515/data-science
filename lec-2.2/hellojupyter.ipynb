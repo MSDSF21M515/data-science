{
 "cells": [
  {
   "cell_type": "markdown",
   "id": "52cb0aec",
   "metadata": {},
   "source": [
    "<div style=\"background-color:rgba(50, 81, 100, .9); font-family: 'Bebas Neue'; padding:10px 0;  margin-top:2px; margin-bottom:2px\">\n",
    "\n",
    "   \n",
    " <img align=\"left\" width=\"75\" height=\"75\"  src=\"https://upload.wikimedia.org/wikipedia/en/c/c8/University_of_the_Punjab_logo.png\"  > \n",
    "\n",
    "   \n",
    "<h1><div style=\"text-align: center\"> Department of Data Science</div>\n",
    "<div style=\"text-align: center\"> University of the Punjab, Lahore</div></h1>\n",
    "\n",
    "\n",
    "<h1><div style=\"text-align: center\">Course Title: Tools and Techniques for Data Science</div></h1>\n",
    "\n",
    "   <div style=\"text-align: right; margin-right: 5px; font-size:18px\"> <em><strong>Muhammad Arif Butt, Ph.D.</strong></em></div>\n",
    "    \n",
    "    "
   ]
  },
  {
   "cell_type": "markdown",
   "id": "e224b328",
   "metadata": {},
   "source": [
    "<h2><div style=\"text-align: center\"> \" <u>Lecture 2.2</u> \"</div></h2>"
   ]
  },
  {
   "cell_type": "markdown",
   "id": "6065d4a7",
   "metadata": {},
   "source": [
    "## _hellojupyter.ipynb_"
   ]
  },
  {
   "cell_type": "markdown",
   "id": "d01cae8f",
   "metadata": {},
   "source": [
    "## [Click to visit a Zoo of Jupyter notebooks](https://github.com/jupyter/jupyter/wiki)"
   ]
  },
  {
   "attachments": {},
   "cell_type": "markdown",
   "id": "4cd487ed",
   "metadata": {},
   "source": [
    "## A review of the Jupyter notebook Interface\n",
    "1. **Header:**  At the top of the notebook document is the header which contains the _notebook title_, _menu bar_, and _toolbar_, which are used to control notebook navigation and document structure.\n",
    "2. **Body:** The body of a notebook is composed of cells. Each cell contains either markdown, code input, code output, or raw text.\n",
    "3. **Types of cells:**\n",
    "    - **Markdown cells** are used to build a nicely formatted narrative around the code in the document. These cells can either be rendered or unrendered. When they are rendered, a nice formatted representation of the cell's contents will be presented. When they are unrendered, the raw text source of the cell will be presented.\n",
    "    - **Code cells**  are used to define the computational code in the document. They come in two forms:\n",
    "        - **Input cell** where the user types the code to be executed, and  \n",
    "        - **output cell** which is the representation of the executed code. Depending on the code, this representation may be a simple scalar value, or something more complex like a plot or an interactive widget.\n",
    "    -**Raw cells:** These are used when text needs to be included in raw form, without execution or transformation.\n",
    "4. **Modes of a cell:**\n",
    "    - **Edit mode** is indicated by a green cell border and a prompt showing in the editor area. When a cell is in edit mode, you can type into the cell, like a normal text editor. Enter edit mode by pressing `Enter` or using the mouse to click on a cell's editor area.\n",
    "    - **Command mode** is indicated by a blue cell border. When in command mode, the structure of the notebook can be modified as a whole, but the text in individual cells cannot be changed. Most importantly, the keyboard is mapped to a set of shortcuts for efficiently performing notebook and cell actions. Enter command mode by pressing `Esc` or using the mouse to click *outside* a cell's editor area.\n",
    "\n",
    "5. **Keyboard Short cuts:** Keyboard shortcuts are a very popular aspect of the Jupyter environment because they facilitate a speedy cell-based workflow. Following shortcuts work in command mode:\n",
    "    - Press H to see the list of short cuts\n",
    "    - Shift+Enter to execute code of a code-cell and to render the contents of a markdown cell\n",
    "    - Scroll up and down your cells with your Up and Down keys.\n",
    "    - Press A or B to insert a new cell above or below the active cell.\n",
    "    - DD (D twice) will delete the active cell.\n",
    "    - Z will undo cell deletion. \n",
    "    - M will transform the active cell to a Markdown cell.\n",
    "    - Y will set the active cell to a code cell.\n",
    "    - Hold Shift and press Up or Down to select multiple cells at once. With multiple cells selected, Shift + M will merge your selection."
   ]
  },
  {
   "cell_type": "markdown",
   "id": "b6342788",
   "metadata": {},
   "source": [
    "## 1. Use of Comments"
   ]
  },
  {
   "cell_type": "code",
   "execution_count": 1,
   "id": "1bf354ab",
   "metadata": {},
   "outputs": [
    {
     "data": {
      "text/plain": [
       "10"
      ]
     },
     "execution_count": 1,
     "metadata": {},
     "output_type": "execute_result"
    }
   ],
   "source": [
    "# This is a single line comment\n",
    "\n",
    "\"\"\"\n",
    "A multi-line comment\n",
    "starts and ends with a tripple double quotes\n",
    "\"\"\"\n",
    "\n",
    "'''\n",
    "A multi-line comment\n",
    "starts and ends with a tripple single quotes\n",
    "'''\n",
    "x=10  # ends with newline\n",
    "x"
   ]
  },
  {
   "cell_type": "markdown",
   "id": "b4933e01",
   "metadata": {},
   "source": [
    "## 2. Use of print() statement"
   ]
  },
  {
   "cell_type": "code",
   "execution_count": 2,
   "id": "2e203634",
   "metadata": {},
   "outputs": [
    {
     "data": {
      "text/plain": [
       "15"
      ]
     },
     "execution_count": 2,
     "metadata": {},
     "output_type": "execute_result"
    }
   ],
   "source": [
    "# Note only the last command appears in output\n",
    "a=10\n",
    "b=a-5\n",
    "c=a+b\n",
    "a\n",
    "b\n",
    "c"
   ]
  },
  {
   "cell_type": "code",
   "execution_count": 3,
   "id": "86a5809c",
   "metadata": {},
   "outputs": [
    {
     "name": "stdout",
     "output_type": "stream",
     "text": [
      "10\n",
      "5\n",
      "15\n",
      "This is fun\n"
     ]
    }
   ],
   "source": [
    "# Therefore better to use print() statement\n",
    "a=10\n",
    "b=a-5\n",
    "c=a+b\n",
    "print(a)\n",
    "print(b)\n",
    "print(c)\n",
    "print('This is fun')"
   ]
  },
  {
   "cell_type": "markdown",
   "id": "08562aef",
   "metadata": {},
   "source": [
    "## 3. Getting help() and collapsing cells"
   ]
  },
  {
   "cell_type": "code",
   "execution_count": null,
   "id": "06381fb4",
   "metadata": {},
   "outputs": [],
   "source": [
    "help()"
   ]
  },
  {
   "cell_type": "code",
   "execution_count": 4,
   "id": "1e2a078d",
   "metadata": {},
   "outputs": [
    {
     "name": "stdout",
     "output_type": "stream",
     "text": [
      "Learning is fun with Arif Butt\n",
      "Today's message is:  Learning is fun with Arif Butt\n",
      "Message of arif is  Learning is fun with Arif Butt and today's date is  October 5, 2021\n"
     ]
    }
   ],
   "source": [
    "msg = \"Learning is fun with Arif Butt\"\n",
    "date = \"October 5, 2021\"\n",
    "msg\n",
    "print(msg)\n",
    "print(\"Today's message is: \", msg)\n",
    "print(\"Message of arif is \", msg, \"and today's date is \", date)"
   ]
  },
  {
   "cell_type": "markdown",
   "id": "7f1d545d",
   "metadata": {},
   "source": [
    "## 4. Use dir()  to check the scope of variables and the Kernel running, interrupting, ..."
   ]
  },
  {
   "cell_type": "code",
   "execution_count": 5,
   "id": "b6657b15",
   "metadata": {},
   "outputs": [
    {
     "data": {
      "text/plain": [
       "['In',\n",
       " 'Out',\n",
       " '_',\n",
       " '_1',\n",
       " '_2',\n",
       " '__',\n",
       " '___',\n",
       " '__builtin__',\n",
       " '__builtins__',\n",
       " '__doc__',\n",
       " '__loader__',\n",
       " '__name__',\n",
       " '__package__',\n",
       " '__spec__',\n",
       " '_dh',\n",
       " '_i',\n",
       " '_i1',\n",
       " '_i2',\n",
       " '_i3',\n",
       " '_i4',\n",
       " '_i5',\n",
       " '_ih',\n",
       " '_ii',\n",
       " '_iii',\n",
       " '_oh',\n",
       " 'a',\n",
       " 'b',\n",
       " 'c',\n",
       " 'date',\n",
       " 'exit',\n",
       " 'get_ipython',\n",
       " 'msg',\n",
       " 'quit',\n",
       " 'x']"
      ]
     },
     "execution_count": 5,
     "metadata": {},
     "output_type": "execute_result"
    }
   ],
   "source": [
    "dir()"
   ]
  },
  {
   "cell_type": "markdown",
   "id": "33375f96",
   "metadata": {},
   "source": [
    "## 5. Running bash shell commands"
   ]
  },
  {
   "cell_type": "code",
   "execution_count": 6,
   "id": "b783dc85",
   "metadata": {},
   "outputs": [
    {
     "name": "stdout",
     "output_type": "stream",
     "text": [
      "/Users/arif/Documents/DS-522/Demo-Files/Section-2/Lec-2.2\n",
      "Tue Sep  7 21:20:14 PKT 2021\n",
      "Notebook Basics.ipynb     f1.txt                    helloworld.ipynb\n",
      "\u001b[34mclass1\u001b[m\u001b[m                    first-notebook.ipynb      markdown-cheetsheet.ipynb\n",
      "\u001b[34mddd\u001b[m\u001b[m                       hellojupyter.ipynb        untitled.txt\n"
     ]
    }
   ],
   "source": [
    "!pwd\n",
    "!date\n",
    "!touch f1.txt\n",
    "! ls"
   ]
  },
  {
   "cell_type": "markdown",
   "id": "f3a7ddf3",
   "metadata": {},
   "source": [
    "## 6. Built-in Magic commands\n",
    "#### [To learn more click me](https://ipython.readthedocs.io/en/stable/interactive/magics.html)"
   ]
  },
  {
   "cell_type": "code",
   "execution_count": null,
   "id": "dfeb8856",
   "metadata": {
    "scrolled": true
   },
   "outputs": [],
   "source": [
    "x = 'hello'\n",
    "y = True\n",
    "if y:\n",
    "    z = 1/0"
   ]
  },
  {
   "cell_type": "code",
   "execution_count": null,
   "id": "906744e0",
   "metadata": {},
   "outputs": [],
   "source": [
    "%debug"
   ]
  }
 ],
 "metadata": {
  "kernelspec": {
   "display_name": "Python 3 (ipykernel)",
   "language": "python",
   "name": "python3"
  },
  "language_info": {
   "codemirror_mode": {
    "name": "ipython",
    "version": 3
   },
   "file_extension": ".py",
   "mimetype": "text/x-python",
   "name": "python",
   "nbconvert_exporter": "python",
   "pygments_lexer": "ipython3",
   "version": "3.8.10"
  }
 },
 "nbformat": 4,
 "nbformat_minor": 5
}
