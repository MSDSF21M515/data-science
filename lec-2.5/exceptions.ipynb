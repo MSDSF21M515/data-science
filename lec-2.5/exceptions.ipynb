{
 "cells": [
  {
   "cell_type": "markdown",
   "id": "ca09f7e7",
   "metadata": {},
   "source": [
    "<div style=\"background-color:rgba(50, 81, 100, .9); font-family: 'Bebas Neue'; padding:10px 0;  margin-top:2px; margin-bottom:2px\">\n",
    "\n",
    "   \n",
    " <img align=\"left\" width=\"75\" height=\"75\"  src=\"https://upload.wikimedia.org/wikipedia/en/c/c8/University_of_the_Punjab_logo.png\"  > \n",
    "\n",
    "   \n",
    "<h1><div style=\"text-align: center\"> Department of Data Science</div>\n",
    "<div style=\"text-align: center\"> University of the Punjab, Lahore</div></h1>\n",
    "\n",
    "\n",
    "<h1><div style=\"text-align: center\">Course Title: Tools and Techniques for Data Science</div></h1>\n",
    "\n",
    "   <div style=\"text-align: right; margin-right: 5px; font-size:18px\"> <em><strong>Muhammad Arif Butt, Ph.D.</strong></em></div>\n",
    "    \n",
    "    \n",
    "  "
   ]
  },
  {
   "cell_type": "markdown",
   "id": "19663b8b",
   "metadata": {},
   "source": [
    "<h2><div style=\"text-align: center\"> \" <u>Lecture 2.5</u> \"</div></h2>"
   ]
  },
  {
   "cell_type": "markdown",
   "id": "037b9831",
   "metadata": {},
   "source": [
    "## _exceptions.ipynb_"
   ]
  },
  {
   "cell_type": "markdown",
   "id": "27711bd2",
   "metadata": {},
   "source": [
    "### Learning agenda of this notebook\n",
    "\n",
    "1. Syntax errors vs Logical errors in Python\n",
    "2. Handling exceptions using try:except block\n",
    "3. Types of exceptions in Python\n",
    "4. Multiple except blocks\n",
    "5. Try-except with else clause\n",
    "6. Finally keyword in Python\n",
    "7. Raising an exception\n",
    "8. User defined exceptions"
   ]
  },
  {
   "cell_type": "markdown",
   "id": "78f5914d",
   "metadata": {},
   "source": [
    "### 1. Syntax Errors vs Logical Errors in Python\n",
    "#### - Syntax errors / Parsing errors: \n",
    "Raised before the program/script actually starts its execution. Some common parsing errors in Python are: incorrect indentation, leaving out a symbol (e.g., collon), empty block, ...\n",
    "#### - Logical errors / Exceptions: \n",
    "Raised during the execution of a syntactically correct program that disrupts the normal flow of the program's instructions. An exception is a Python object that represents an error. Some common exceptions in Python are, **ZeroDivisionError** (Raised when you perform a division by zero), **ValueError** (Raised when a function or built-in operation receives an argument which may be of correct type but does not have suitable value), **IndexError** (Raised when you try to refer a sequence which is out of range), **IOError** (Raised when an IO operation fails, e.g.,  trying to open a file that do not exist), **EOFError** (Raised when there is no input from input() function and the end of file is reached), **ImportError** (Raised whan an import statement fails to find the module)\n",
    "#### - Checked vs Unchecked Exceptions\n",
    "Checked Exceptions are the exceptions which occur at compile time (e.g., file not found, no such function, ...)\n",
    "Unchecked Exception arethe exceptions which are not checked by the compiler (e.g., arithmetic exception, array out of bound, ...). If not handled by programmer properly, the program terminate at runtime. Almost no language but Java has checked exceptions. Since Python is not compiled, so checked exceptions don't make much sense."
   ]
  },
  {
   "cell_type": "code",
   "execution_count": 1,
   "id": "350f4af0",
   "metadata": {},
   "outputs": [
    {
     "ename": "SyntaxError",
     "evalue": "unmatched ')' (945601118.py, line 5)",
     "output_type": "error",
     "traceback": [
      "\u001b[0;36m  File \u001b[0;32m\"/var/folders/1t/g3ylw8h50cjdqmk5d6jh1qmm0000gn/T/ipykernel_10829/945601118.py\"\u001b[0;36m, line \u001b[0;32m5\u001b[0m\n\u001b[0;31m    print(\"hello\"))\u001b[0m\n\u001b[0m                  ^\u001b[0m\n\u001b[0;31mSyntaxError\u001b[0m\u001b[0;31m:\u001b[0m unmatched ')'\n"
     ]
    }
   ],
   "source": [
    "# Example of Syntax Error\n",
    "\n",
    "print(\"This will not be printed\")\n",
    "\n",
    "print(\"hello\"))\n"
   ]
  },
  {
   "cell_type": "code",
   "execution_count": null,
   "id": "c7bb9b30",
   "metadata": {},
   "outputs": [],
   "source": [
    "# Example of Exception division by zero\n",
    "print(\"This will be printed\")\n",
    "1/0"
   ]
  },
  {
   "cell_type": "code",
   "execution_count": null,
   "id": "50d834be",
   "metadata": {},
   "outputs": [],
   "source": [
    "# Parsing error example is incorrect indentation\n",
    "1/0               # note this error is not raised\n",
    "print('This will not be printed')\n",
    "if True:\n",
    "print(\"Hello\")"
   ]
  },
  {
   "cell_type": "code",
   "execution_count": null,
   "id": "ef1b498d",
   "metadata": {},
   "outputs": [],
   "source": [
    "# ValueError is raised because the operation expect a number but is receiving a string\n",
    "far = float(input(\"Enter Fahrenheit Temprature: \"))\n",
    "cel = (far - 32.0) * 5.0/9.0\n",
    "print (cel)"
   ]
  },
  {
   "cell_type": "code",
   "execution_count": null,
   "id": "3b9c12e7",
   "metadata": {},
   "outputs": [],
   "source": [
    "mylist = [5, 33, 21]\n",
    "print(mylist[3])"
   ]
  },
  {
   "cell_type": "markdown",
   "id": "ea326a8a",
   "metadata": {},
   "source": [
    "### 2. Handling Exceptions using try and except\n",
    "In Python **try** and **except** keywords are used to catch and handle exceptions respectively. Instructions that can raise exceptions are kept inside the try block and the instructions that handle the exception are written inside except block. The code inside the except block will execute only in case, when the program encounters some error in the preceding try block."
   ]
  },
  {
   "cell_type": "code",
   "execution_count": null,
   "id": "32e9af8f",
   "metadata": {},
   "outputs": [],
   "source": [
    "# Basic Example of handling exception\n",
    "try:\n",
    "    far = float(input(\"Enter Fahrenheit Temprature: \"))\n",
    "    cel = (far - 32.0) * 5.0/9.0\n",
    "    print (cel)\n",
    "    \n",
    "except:\n",
    "    print(\"Sorry, you must enter a number\")"
   ]
  },
  {
   "cell_type": "code",
   "execution_count": null,
   "id": "24ae669f",
   "metadata": {},
   "outputs": [],
   "source": [
    "# This kind of a try-except statement catches all the exceptions that occur. \n",
    "# Using this kind of try-except statement is not considered a good programming practice though, \n",
    "# because it catches all exceptions but does not make the programmer identify the root cause of the problem\n",
    "\n",
    "try:\n",
    "    z = 45 / 0\n",
    "    print(z)\n",
    "    a = 34 + 'hello'\n",
    "    \n",
    "# This block will exectue the program without any crash\n",
    "except:\n",
    "    print(\"An error occurred\")"
   ]
  },
  {
   "cell_type": "markdown",
   "id": "954ccc09",
   "metadata": {},
   "source": [
    "### 3. Types of Exceptions in Python\n",
    "- There are several built-in exceptions in Python that are raised when an error occur.\n",
    "- Some common examples of Python built-in exceptions are ZeroDivisionError, NameError, TypeError and so on. \n",
    "- When an exception occurs the appropriate Exception class object is sent to the except clause as an argument.\n",
    "- One way to capture an exception's argument is by receiving it in the Exception class object\n",
    "- The Exception class object received contains additional information about the raised exception, so as to handle it accordingly."
   ]
  },
  {
   "cell_type": "code",
   "execution_count": null,
   "id": "ef4a15c7",
   "metadata": {},
   "outputs": [],
   "source": [
    "# Example code that specifies the type of exception raised\n",
    "try:\n",
    "   # z = 45 / 0\n",
    "   # print(z)\n",
    "    a = 34 + 'hello'\n",
    "    \n",
    "# This block will exectue the program without any crash\n",
    "except Exception as e:\n",
    "    print(\"Exception occured: \", e)"
   ]
  },
  {
   "cell_type": "markdown",
   "id": "710fc4dd",
   "metadata": {},
   "source": [
    "### 4. Multiple except clauses\n",
    "To handle different types of exceptions that can be raised from within a try block. A try block can have multiple except blocks. This way a programmer can write different handlers for different exceptions. Please note that at most one handler will be executed. Moreover, in Python there is no concept of default catch block as in C++"
   ]
  },
  {
   "cell_type": "code",
   "execution_count": 2,
   "id": "d112145f",
   "metadata": {},
   "outputs": [
    {
     "name": "stdout",
     "output_type": "stream",
     "text": [
      "ZeroDivisionError Occurred and Handled\n"
     ]
    }
   ],
   "source": [
    "try:\n",
    "    z = 45 / 0\n",
    "    #print(z)\n",
    "    #a = 34 + 'hello'\n",
    "    #list1 = [1, 5, 9]\n",
    "    #print(list1[3])\n",
    "    #import kakamanna             #ModuleNotFounderror\n",
    "except ZeroDivisionError:\n",
    "    print(\"ZeroDivisionError Occurred and Handled\")\n",
    "except NameError:\n",
    "    print(\"NameError Occurred and Handled\")\n",
    "except TypeError:\n",
    "    print(\"TypeError Occurred and Handled\")\n",
    "except IndexError:\n",
    "    print(\"IndexError Occurred and Handled\")\n",
    "except ...:           # In Python, catching classes that do not inherit from BaseException is not allowed\n",
    "    print(\"Handler for an exception that does not match with above Exception types\")"
   ]
  },
  {
   "cell_type": "markdown",
   "id": "1b4c8ab0",
   "metadata": {},
   "source": [
    "### 5. Try-except with else clause\n",
    "In python, you can also use the **else clause** in the try-except block which must be present after all the except clauses. The code enters the else block only if the try clause does not raise an exception."
   ]
  },
  {
   "cell_type": "code",
   "execution_count": 3,
   "id": "47ee21e1",
   "metadata": {},
   "outputs": [
    {
     "name": "stdout",
     "output_type": "stream",
     "text": [
      "List Elements are:  [1, 5, 9]\n",
      "ZeroDivisionError Occurred and Handled\n"
     ]
    }
   ],
   "source": [
    "try:\n",
    "    list1 = [1, 5, 9]\n",
    "    print(\"List Elements are: \", list1)\n",
    "    5/0\n",
    "\n",
    "except ZeroDivisionError:\n",
    "    print(\"ZeroDivisionError Occurred and Handled\")\n",
    "except NameError:\n",
    "    print(\"NameError Occurred and Handled\")\n",
    "except TypeError:\n",
    "    print(\"TypeError Occurred and Handled\")\n",
    "except IndexError:\n",
    "    print(\"IndexError Occurred and Handled\")\n",
    "else:           \n",
    "    print(\"This will execute if try clause does not raise an exception\")"
   ]
  },
  {
   "cell_type": "markdown",
   "id": "4141c81b",
   "metadata": {},
   "source": [
    "### 6. Finally Keyword in Python\n",
    "In python, you can also use the **finally clause** in the try-except block, which must be present after all the except clauses. The finally: block is a place to put any code that must execute, whether the try-block raised an exception or not. Used to define clean-up actions that must be executed under all circumstances"
   ]
  },
  {
   "cell_type": "code",
   "execution_count": 4,
   "id": "d20ab9d9",
   "metadata": {},
   "outputs": [
    {
     "name": "stdout",
     "output_type": "stream",
     "text": [
      "List Elements are:  [1, 5, 9]\n",
      "ZeroDivisionError Occurred and Handled\n",
      "This will always be executed\n"
     ]
    }
   ],
   "source": [
    "try:\n",
    "    list1 = [1, 5, 9]\n",
    "    print(\"List Elements are: \", list1)\n",
    "    5/0\n",
    "\n",
    "except ZeroDivisionError:\n",
    "    print(\"ZeroDivisionError Occurred and Handled\")\n",
    "except NameError:\n",
    "    print(\"NameError Occurred and Handled\")\n",
    "except TypeError:\n",
    "    print(\"TypeError Occurred and Handled\")\n",
    "except IndexError:\n",
    "    print(\"IndexError Occurred and Handled\")\n",
    "else:           \n",
    "    print(\"This will execute if try clause does not raise an exception\")\n",
    "finally:\n",
    "    print(\"This will always be executed\")"
   ]
  },
  {
   "cell_type": "markdown",
   "id": "10542042",
   "metadata": {},
   "source": [
    "### 7. Raising an Exception\n",
    "As a Python developer you can choose to throw an exception if a condition occurs. To throw (or raise) an exception, use the **raise** keyword. This must be either an exception instance or an exception class (a class that derives from Exception)."
   ]
  },
  {
   "cell_type": "code",
   "execution_count": 5,
   "id": "76cca07a",
   "metadata": {},
   "outputs": [
    {
     "name": "stdout",
     "output_type": "stream",
     "text": [
      "Exception raised and received in Exception object named e:  -5\n"
     ]
    }
   ],
   "source": [
    "def functionName(level):\n",
    "   if level <1:\n",
    "      raise Exception(level)\n",
    "      # The code below this would not be executed if we raise the exception\n",
    "   return level\n",
    "\n",
    "try:\n",
    "   l = functionName(-5)\n",
    "   print (\"level = \",l)\n",
    "except Exception as e:\n",
    "   print (\"Exception raised and received in Exception object named e: \",e.args[0])"
   ]
  },
  {
   "cell_type": "markdown",
   "id": "b083e435",
   "metadata": {},
   "source": [
    "### 8. User-Defined Exceptions\n",
    "- Python also allows you to create your own exception classes by deriving them from the standard built-in exceptions.\n",
    "- This is useful when you need to display more specific information when an exception is caught.\n",
    "- Although not mandatory, most of the exceptions are named as names that end in “Error” similar to the naming of the standard exceptions in python\n",
    "### [This is Object Oriented Concept. Visit Python Documentation](https://docs.python.org/3/tutorial/errors.html#user-defined-exceptions)"
   ]
  },
  {
   "cell_type": "code",
   "execution_count": null,
   "id": "99ffa41d",
   "metadata": {},
   "outputs": [],
   "source": []
  }
 ],
 "metadata": {
  "kernelspec": {
   "display_name": "Python 3 (ipykernel)",
   "language": "python",
   "name": "python3"
  },
  "language_info": {
   "codemirror_mode": {
    "name": "ipython",
    "version": 3
   },
   "file_extension": ".py",
   "mimetype": "text/x-python",
   "name": "python",
   "nbconvert_exporter": "python",
   "pygments_lexer": "ipython3",
   "version": "3.8.10"
  }
 },
 "nbformat": 4,
 "nbformat_minor": 5
}
