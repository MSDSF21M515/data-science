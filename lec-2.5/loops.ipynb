{
 "cells": [
  {
   "cell_type": "markdown",
   "id": "cd9bf0ba",
   "metadata": {},
   "source": [
    "<div style=\"background-color:rgba(50, 81, 100, .9); font-family: 'Bebas Neue'; padding:10px 0;  margin-top:2px; margin-bottom:2px\">\n",
    "\n",
    "   \n",
    " <img align=\"left\" width=\"75\" height=\"75\"  src=\"https://upload.wikimedia.org/wikipedia/en/c/c8/University_of_the_Punjab_logo.png\"  > \n",
    "\n",
    "   \n",
    "<h1><div style=\"text-align: center\"> Department of Data Science</div>\n",
    "<div style=\"text-align: center\"> University of the Punjab, Lahore</div></h1>\n",
    "\n",
    "\n",
    "<h1><div style=\"text-align: center\">Course Title: Tools and Techniques for Data Science</div></h1>\n",
    "\n",
    "   <div style=\"text-align: right; margin-right: 5px; font-size:18px\"> <em><strong>Muhammad Arif Butt, Ph.D.</strong></em></div>\n",
    "    \n",
    "    \n",
    "  "
   ]
  },
  {
   "cell_type": "markdown",
   "id": "14003b31",
   "metadata": {},
   "source": [
    "<h2><div style=\"text-align: center\"> \" <u>Lecture 2.5</u> \"</div></h2>"
   ]
  },
  {
   "cell_type": "markdown",
   "id": "f90308da",
   "metadata": {},
   "source": [
    "## _loops.ipynb_"
   ]
  },
  {
   "cell_type": "markdown",
   "id": "fa7840eb",
   "metadata": {},
   "source": [
    "### Learning agenda of this notebook\n",
    "There are scenarios is programming, where we need to repeat a set of instructions specified number of times or until a condition is met. Python provides three ways for executing the loops. While all the ways provide similar basic functionality, they differ in their syntax and condition checking time statements.\n",
    "1. While loop\n",
    "2. Jump statements in Python\n",
    "    a. Infinite loop and break statement\n",
    "    b. Continue statement\n",
    "    c. While loop with else statement\n",
    "3. For loop\n",
    "    a. Range function\n",
    "    b. Range function and for loop\n",
    "    c. For loop with else, break and continue\n",
    "    d. Nested for loop\n",
    "4. Misc Examples"
   ]
  },
  {
   "cell_type": "markdown",
   "id": "efe70ed5",
   "metadata": {},
   "source": [
    "### 1. While loop\n",
    "* The code in a while clause will be executed as long as the while statement’s condition is True\n",
    "* While loop is generally used, when we don't know the number of times to iterate beforehand"
   ]
  },
  {
   "cell_type": "code",
   "execution_count": null,
   "id": "7d1a532b",
   "metadata": {},
   "outputs": [],
   "source": [
    "# initialize loop variable - check condition - update loop variable\n",
    "number = 0\n",
    "while (number < 7):\n",
    "    print(number)\n",
    "    number = number + 1\n",
    "print(\"Bye-Bye\")"
   ]
  },
  {
   "cell_type": "code",
   "execution_count": null,
   "id": "edd4a13e",
   "metadata": {},
   "outputs": [],
   "source": [
    "#Take input from user\n",
    "n = int(input(\"Enter number: \"))\n",
    "# initialize sum and counter\n",
    "sum = 0\n",
    "i = 1\n",
    "while i <= n:\n",
    "    sum = sum + i\n",
    "    i = i+1   # update counter\n",
    "# print the sum\n",
    "print(\"The sum is\", sum)"
   ]
  },
  {
   "cell_type": "markdown",
   "id": "566a05d1",
   "metadata": {},
   "source": [
    "### 2. Jump Statements in Python (break and continue)"
   ]
  },
  {
   "cell_type": "markdown",
   "id": "73c2c76b",
   "metadata": {},
   "source": [
    "#### a. Infinite loop and break statement: \n",
    "    - Python break statement causes a program to break out of a loop"
   ]
  },
  {
   "cell_type": "code",
   "execution_count": null,
   "id": "f4957e8f",
   "metadata": {},
   "outputs": [],
   "source": [
    "n = 0\n",
    "while True:\n",
    "    n = n + 1\n",
    "    if n == 5:\n",
    "        break\n",
    "    print(n)"
   ]
  },
  {
   "cell_type": "code",
   "execution_count": null,
   "id": "8337b5df",
   "metadata": {},
   "outputs": [],
   "source": [
    "fruits = [\"apple\", \"banana\", \"cherry\", \"guava\"]\n",
    "for x in fruits:\n",
    "  if x == \"cherry\":\n",
    "    break\n",
    "  print(x)"
   ]
  },
  {
   "cell_type": "code",
   "execution_count": null,
   "id": "de092cb7",
   "metadata": {},
   "outputs": [],
   "source": [
    "n = 10\n",
    "while n > 0:\n",
    "    n = n - 1\n",
    "    if n == 5:\n",
    "        break\n",
    "    print(n)"
   ]
  },
  {
   "cell_type": "markdown",
   "id": "27079c95",
   "metadata": {},
   "source": [
    "#### b. Continue statement: \n",
    "    - The continue statement gives you the option to skip over the part of a loop, but then continue through the rest of the loop"
   ]
  },
  {
   "cell_type": "code",
   "execution_count": null,
   "id": "7fe06b75",
   "metadata": {},
   "outputs": [],
   "source": [
    "n = 10\n",
    "while n > 0:\n",
    "    n = n - 1\n",
    "    if (n == 5 or n == 7):\n",
    "        continue\n",
    "    print(n)"
   ]
  },
  {
   "cell_type": "code",
   "execution_count": null,
   "id": "e35adee2",
   "metadata": {},
   "outputs": [],
   "source": [
    "# do not print banana\n",
    "fruits = [\"apple\", \"banana\", \"cherry\", \"guava\"]\n",
    "for x in fruits:\n",
    "  if x == \"banana\":\n",
    "    continue\n",
    "  print(x)"
   ]
  },
  {
   "cell_type": "markdown",
   "id": "e35ee7fa",
   "metadata": {},
   "source": [
    "#### c. While loop with else statement: \n",
    "    - When the condition becomes False and the loop runs normally, the else clause will execute. However, if the loop is terminated prematurely by either a break or return statement, the else clause won’t execute at all."
   ]
  },
  {
   "cell_type": "markdown",
   "id": "fc73772b",
   "metadata": {},
   "source": [
    "![alt text](https://www.pythontutorial.net/wp-content/uploads/2020/10/Python-while-else.png)"
   ]
  },
  {
   "cell_type": "code",
   "execution_count": null,
   "id": "34c87a59",
   "metadata": {},
   "outputs": [],
   "source": [
    "# Loop runs normally, else clause will execute when the loop condition becomes false\n",
    "n = 5\n",
    "while n > 0:\n",
    "    n = n - 1\n",
    "    print(n)\n",
    "else:\n",
    "    print(\"Loop is finished\")"
   ]
  },
  {
   "cell_type": "code",
   "execution_count": null,
   "id": "2c1aac05",
   "metadata": {},
   "outputs": [],
   "source": [
    "# You stop the loop using break statement, else clause will not excecute, \n",
    "n = 5\n",
    "while n > 0:\n",
    "    n = n - 1\n",
    "    if n == 1:\n",
    "        break\n",
    "    print(n)\n",
    "else:\n",
    "    print(\"Loop is finished\")"
   ]
  },
  {
   "cell_type": "markdown",
   "id": "e0aa81c0",
   "metadata": {},
   "source": [
    "### 3. For loop\n",
    "* We use for loop when we want to run a block of code for known set of items."
   ]
  },
  {
   "cell_type": "code",
   "execution_count": null,
   "id": "4a7feeee",
   "metadata": {},
   "outputs": [],
   "source": [
    "for i in (1, 2, 3, 4, 5):\n",
    "    print(i)"
   ]
  },
  {
   "cell_type": "code",
   "execution_count": null,
   "id": "21dca621",
   "metadata": {},
   "outputs": [],
   "source": [
    "# print elements of a list\n",
    "fruits = [\"apple\", \"banana\", \"cherry\"]\n",
    "for x in fruits:\n",
    "  print(x)"
   ]
  },
  {
   "cell_type": "code",
   "execution_count": null,
   "id": "24f52411",
   "metadata": {},
   "outputs": [],
   "source": [
    "# Loop through the letters in a string\n",
    "for i in (\"Be Happy\"):\n",
    "    print(i)"
   ]
  },
  {
   "cell_type": "code",
   "execution_count": null,
   "id": "df85a7eb",
   "metadata": {},
   "outputs": [],
   "source": [
    "# iterate a list using for loop\n",
    "# Program to find the sum of all numbers stored in a list\n",
    "\n",
    "mylist = [6, 5, 3, 8, 4, 2, 5, 4, 11]\n",
    "sum = 0\n",
    "# iterate over the list\n",
    "for val in mylist:\n",
    "    sum = sum + val\n",
    "print(\"The sum is\", sum)"
   ]
  },
  {
   "cell_type": "code",
   "execution_count": null,
   "id": "8cef87e4",
   "metadata": {},
   "outputs": [],
   "source": [
    "# iterate a tuple using for loop\n",
    "friends = ('arif', 'rauf', 'hadeed', 'zalaid')\n",
    "\n",
    "for friend in friends:\n",
    "    print(friend)\n",
    "    \n",
    "type(friends)"
   ]
  },
  {
   "cell_type": "code",
   "execution_count": null,
   "id": "8c88e8c2",
   "metadata": {},
   "outputs": [],
   "source": [
    "# iterate a set using for loop\n",
    "val = {1,2,3,4,5,6}\n",
    "\n",
    "for k in val:\n",
    "    print(k)\n",
    "type(val)"
   ]
  },
  {
   "cell_type": "code",
   "execution_count": null,
   "id": "9df35eaa",
   "metadata": {},
   "outputs": [],
   "source": [
    "# iterate a dictionary using for 'loop'\n",
    "vals = {1: 'school', 2:'college', 3: 'university'}\n",
    "\n",
    "for k in vals.items():\n",
    "    print(k)\n",
    "type(vals)"
   ]
  },
  {
   "cell_type": "markdown",
   "id": "61ace3e6",
   "metadata": {},
   "source": [
    "#### a. Range function\n",
    "* We can generate a sequence of numbers using range() function. range(10) will generate numbers from 0 to 9 \n",
    "* We can also define the start, stop and step size as range(start, stop,step_size). step_size defaults to 1 if not provided"
   ]
  },
  {
   "cell_type": "code",
   "execution_count": 1,
   "id": "6ef351d4",
   "metadata": {},
   "outputs": [
    {
     "name": "stdout",
     "output_type": "stream",
     "text": [
      "range(0, 10)\n",
      "[0, 1, 2, 3, 4, 5, 6, 7, 8, 9]\n",
      "[2, 3, 4, 5, 6, 7]\n",
      "[2, 5, 8, 11, 14, 17]\n"
     ]
    }
   ],
   "source": [
    "print(range(10))\n",
    "\n",
    "print(list(range(10)))\n",
    "\n",
    "print(list(range(2, 8)))\n",
    "\n",
    "print(list(range(2, 20, 3)))"
   ]
  },
  {
   "cell_type": "markdown",
   "id": "9bee1a34",
   "metadata": {},
   "source": [
    "#### b. Range function and for loop"
   ]
  },
  {
   "cell_type": "code",
   "execution_count": null,
   "id": "b27e4300",
   "metadata": {},
   "outputs": [],
   "source": [
    "for number in range(4):\n",
    "    print(number)"
   ]
  },
  {
   "cell_type": "code",
   "execution_count": null,
   "id": "95765099",
   "metadata": {},
   "outputs": [],
   "source": [
    "for number in range(4, 8):\n",
    "     print(number)"
   ]
  },
  {
   "cell_type": "code",
   "execution_count": null,
   "id": "7d95c156",
   "metadata": {},
   "outputs": [],
   "source": [
    "for number in range(1, 10, 2):\n",
    "     print(number)"
   ]
  },
  {
   "cell_type": "markdown",
   "id": "47a222ed",
   "metadata": {},
   "source": [
    "#### c. For loop with else, break, and continue"
   ]
  },
  {
   "cell_type": "code",
   "execution_count": null,
   "id": "78392ef5",
   "metadata": {},
   "outputs": [],
   "source": [
    "student_name = input('enter name: ')\n",
    "\n",
    "marks = {'hassan': 90, 'Ahmed': 55, 'Ali': 77}\n",
    "\n",
    "for student in marks:\n",
    "    if student == student_name:\n",
    "        print(marks[student])\n",
    "        break\n",
    "else:\n",
    "    print('No entry with that name found.')"
   ]
  },
  {
   "cell_type": "code",
   "execution_count": null,
   "id": "1f71aa58",
   "metadata": {},
   "outputs": [],
   "source": [
    "#ignore even numbers, print odd numbers\n",
    "for i in range(1,12):\n",
    "    if i%2 == 0:\n",
    "        continue\n",
    "    print(i)"
   ]
  },
  {
   "cell_type": "markdown",
   "id": "eb71393a",
   "metadata": {},
   "source": [
    "#### d. Nested for loop"
   ]
  },
  {
   "cell_type": "code",
   "execution_count": null,
   "id": "3e4844c1",
   "metadata": {},
   "outputs": [],
   "source": [
    "# define the range of outer loop\n",
    "for outer_loop_number in range(1, 3):\n",
    "    for inner_loop_character in \"ABC\":\n",
    "        print(outer_loop_number, inner_loop_character)"
   ]
  },
  {
   "cell_type": "markdown",
   "id": "d5a3c2e8",
   "metadata": {},
   "source": [
    "### 4. Misc Examples"
   ]
  },
  {
   "cell_type": "code",
   "execution_count": 3,
   "id": "bbd16925",
   "metadata": {},
   "outputs": [
    {
     "name": "stdout",
     "output_type": "stream",
     "text": [
      "Original list: [25, 15, -6, 8, 2]\n",
      "-6\n",
      "2\n",
      "8\n",
      "15\n",
      "25\n"
     ]
    }
   ],
   "source": [
    "# Bubble Sort\n",
    "mylist = [25, 15, -6, 8, 2]\n",
    "print (\"Original list:\", mylist)\n",
    "n = len(mylist)\n",
    "for i in range(0, n-1,1):\n",
    "        for j in range(0, n-i-1,1):\n",
    "            if mylist[j] > mylist[j + 1] :\n",
    "                mylist[j], mylist[j + 1] = mylist[j + 1], mylist[j]                \n",
    "for i in range(len(mylist)):\n",
    "    print (mylist[i])"
   ]
  },
  {
   "cell_type": "code",
   "execution_count": 4,
   "id": "b277c5c9",
   "metadata": {},
   "outputs": [
    {
     "name": "stdout",
     "output_type": "stream",
     "text": [
      "Original list: [25, 15, -6, 8, 2]\n",
      "Sorted list: [-6, 2, 8, 15, 25]\n"
     ]
    }
   ],
   "source": [
    "# Selection Sort\n",
    "mylist = [25, 15, -6, 8, 2]\n",
    "print (\"Original list:\", mylist)\n",
    "n = len(mylist)\n",
    "for i in range(0,n,1):\n",
    "    min_idx = i\n",
    "    for j in range(i+1, n):\n",
    "                   if mylist[min_idx] > mylist[j]:\n",
    "                        min_idx = j\n",
    "    # Swap the found minimum element with the first element        \n",
    "    mylist[i], mylist[min_idx] = mylist[min_idx], mylist[i]\n",
    "print (\"Sorted list:\", mylist) \n"
   ]
  },
  {
   "cell_type": "code",
   "execution_count": 6,
   "id": "b37e2a6b",
   "metadata": {},
   "outputs": [
    {
     "name": "stdout",
     "output_type": "stream",
     "text": [
      "Original list: [25, 15, -6, 9, 2]\n",
      "Sorted list: [-6, 2, 9, 15, 25]\n"
     ]
    }
   ],
   "source": [
    "# Insertion Sort\n",
    "mylist = [25, 15, -6, 9, 2]\n",
    "print (\"Original list:\", mylist)\n",
    "n = len(mylist)\n",
    "for i in range(1, n):\n",
    "    key = mylist[i] #extraction\n",
    "    j = i -1\n",
    "    while j >=0 and key < mylist[j] :\n",
    "        mylist[j+1] = mylist[j] #right shift\n",
    "        j = j - 1\n",
    "    mylist[j+1] = key  #insertion\n",
    " \n",
    "print (\"Sorted list:\", mylist) "
   ]
  },
  {
   "cell_type": "code",
   "execution_count": null,
   "id": "f85bf5c8",
   "metadata": {},
   "outputs": [],
   "source": []
  }
 ],
 "metadata": {
  "kernelspec": {
   "display_name": "Python 3 (ipykernel)",
   "language": "python",
   "name": "python3"
  },
  "language_info": {
   "codemirror_mode": {
    "name": "ipython",
    "version": 3
   },
   "file_extension": ".py",
   "mimetype": "text/x-python",
   "name": "python",
   "nbconvert_exporter": "python",
   "pygments_lexer": "ipython3",
   "version": "3.8.10"
  }
 },
 "nbformat": 4,
 "nbformat_minor": 5
}
