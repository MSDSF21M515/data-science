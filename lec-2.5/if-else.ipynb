{
 "cells": [
  {
   "cell_type": "markdown",
   "id": "dbd5aa33",
   "metadata": {},
   "source": [
    "<div style=\"background-color:rgba(50, 81, 100, .9); font-family: 'Bebas Neue'; padding:10px 0;  margin-top:2px; margin-bottom:2px\">\n",
    "\n",
    "   \n",
    " <img align=\"left\" width=\"75\" height=\"75\"  src=\"https://upload.wikimedia.org/wikipedia/en/c/c8/University_of_the_Punjab_logo.png\"  > \n",
    "\n",
    "   \n",
    "<h1><div style=\"text-align: center\"> Department of Data Science</div>\n",
    "<div style=\"text-align: center\"> University of the Punjab, Lahore</div></h1>\n",
    "\n",
    "\n",
    "<h1><div style=\"text-align: center\">Course Title: Tools and Techniques for Data Science</div></h1>\n",
    "\n",
    "   <div style=\"text-align: right; margin-right: 5px; font-size:18px\"> <em><strong>Muhammad Arif Butt, Ph.D.</strong></em></div>\n",
    "    \n",
    "    \n",
    "  "
   ]
  },
  {
   "cell_type": "markdown",
   "id": "04d0e813",
   "metadata": {},
   "source": [
    "<h2><div style=\"text-align: center\"> \" <u>Lecture 2.5</u> \"</div></h2>"
   ]
  },
  {
   "cell_type": "markdown",
   "id": "c0ed614c",
   "metadata": {},
   "source": [
    "## _if-else.ipynb_"
   ]
  },
  {
   "cell_type": "markdown",
   "id": "85ce601a",
   "metadata": {},
   "source": [
    "### Learning agenda of this notebook\n",
    "There are scenarios is programming, where we need to make a decision and based on that decision we want the flow of execution to move to one block of code or the other. In Python this decision making is done using if-else statements.\n",
    "1. Python Indentation\n",
    "2. if-statement\n",
    "3. if-else statement\n",
    "4. The pass statement\n",
    "5. Python3 input() function\n",
    "6. Nested if statements\n",
    "7. if-elif ladder\n",
    "8. Misc Examples"
   ]
  },
  {
   "cell_type": "markdown",
   "id": "a1f0d3ad",
   "metadata": {},
   "source": [
    "### 1. Python Indentation\n",
    "\n",
    "Python indentation is a way of telling a Python interpreter that the group of statements belongs to a particular block of code. A block is a combination of all these statements. Block can be regarded as the grouping of statements for a specific purpose. Most of the programming languages like C, C++, Java use braces { } to define a block of code. Python uses indentation to highlight the blocks of code. Whitespace is used for indentation in Python. All statements with the same distance to the right belong to the same block of code. If a block has to be more deeply nested, it is simply indented further to the right. You can understand it better by looking at the following lines of code. Python uses 4 spaces as indentation by default. However, the number of spaces is up to you, but a minimum of 1 space has to be used."
   ]
  },
  {
   "cell_type": "code",
   "execution_count": 3,
   "id": "56fdda25",
   "metadata": {},
   "outputs": [
    {
     "ename": "IndentationError",
     "evalue": "unexpected indent (2261510560.py, line 2)",
     "output_type": "error",
     "traceback": [
      "\u001b[0;36m  File \u001b[0;32m\"/var/folders/1t/g3ylw8h50cjdqmk5d6jh1qmm0000gn/T/ipykernel_10023/2261510560.py\"\u001b[0;36m, line \u001b[0;32m2\u001b[0m\n\u001b[0;31m    b = 6 # unexpected extra space will give us an error\u001b[0m\n\u001b[0m    ^\u001b[0m\n\u001b[0;31mIndentationError\u001b[0m\u001b[0;31m:\u001b[0m unexpected indent\n"
     ]
    }
   ],
   "source": [
    "a = 5\n",
    "    b = 6 # unexpected extra space will give us an error"
   ]
  },
  {
   "cell_type": "code",
   "execution_count": 4,
   "id": "411afb08",
   "metadata": {},
   "outputs": [
    {
     "ename": "IndentationError",
     "evalue": "expected an indented block (1392932363.py, line 2)",
     "output_type": "error",
     "traceback": [
      "\u001b[0;36m  File \u001b[0;32m\"/var/folders/1t/g3ylw8h50cjdqmk5d6jh1qmm0000gn/T/ipykernel_10023/1392932363.py\"\u001b[0;36m, line \u001b[0;32m2\u001b[0m\n\u001b[0;31m    print('True Statement')  #error\u001b[0m\n\u001b[0m    ^\u001b[0m\n\u001b[0;31mIndentationError\u001b[0m\u001b[0;31m:\u001b[0m expected an indented block\n"
     ]
    }
   ],
   "source": [
    "if (2 == 2):\n",
    "print('True Statement')  #error"
   ]
  },
  {
   "cell_type": "markdown",
   "id": "5f2e034e",
   "metadata": {},
   "source": [
    "### 2. if statement\n",
    "\n",
    "if statement is the most simple decision making statement. It is used to decide whether a certain statement or block of statements will be executed or not i.e if a certain condition is true then a block of statement is executed otherwise not."
   ]
  },
  {
   "cell_type": "code",
   "execution_count": 16,
   "id": "3a5c1e7a",
   "metadata": {},
   "outputs": [
    {
     "name": "stdout",
     "output_type": "stream",
     "text": [
      "This will execute, only if the condition is true\n",
      "This will always execute\n"
     ]
    }
   ],
   "source": [
    "# Example:\n",
    "x = 1\n",
    "if (x == 1): # you can put braces around condition, but it is OK if you dont\n",
    "    print('This will execute, only if the condition is true')\n",
    "print('This will always execute')"
   ]
  },
  {
   "cell_type": "markdown",
   "id": "59bdac9b",
   "metadata": {},
   "source": [
    "### 3 if-else statement\n",
    "The if statement alone tells us that if a condition is true it will execute a block of statements and if the condition is false it won’t. But what if we want to do something else if the condition is false. Here comes the else statement. We can use the else statement with if statement to execute a block of code when the condition is false."
   ]
  },
  {
   "cell_type": "code",
   "execution_count": 8,
   "id": "c8198dab",
   "metadata": {},
   "outputs": [
    {
     "name": "stdout",
     "output_type": "stream",
     "text": [
      "a is smaller than b.\n",
      "i'm in else Block\n",
      "i'm neither in the if-block, nor in the else-block\n"
     ]
    }
   ],
   "source": [
    "#Example\n",
    "a = 5\n",
    "b = 10\n",
    "if (a > b):\n",
    "    print('a is greater than b.')\n",
    "    print (\"i'm in if Block\")\n",
    "\n",
    "else :\n",
    "    print('a is smaller than b.')\n",
    "    print (\"i'm in else Block\")\n",
    "print (\"i'm neither in the if-block, nor in the else-block\")\n"
   ]
  },
  {
   "cell_type": "markdown",
   "id": "5aa7fd27",
   "metadata": {},
   "source": [
    "### 4. The pass statement (Do nothing)\n",
    "The pass statement is generally used as a placeholder i.e. when the user does not know what code to write. So user simply places pass at that line. So user can simply place pass where empty code is not allowed, like in loops, function definitions, class definitions, or in if statements."
   ]
  },
  {
   "cell_type": "code",
   "execution_count": 29,
   "id": "3a631e5c",
   "metadata": {},
   "outputs": [
    {
     "name": "stdout",
     "output_type": "stream",
     "text": [
      "I will place code when the condition is true, later :)\n"
     ]
    }
   ],
   "source": [
    "# A simple example of pass:\n",
    "x = 6\n",
    "if x < 0:\n",
    "    pass\n",
    "print(\"I will place code when the condition is true, later :)\")"
   ]
  },
  {
   "cell_type": "code",
   "execution_count": 30,
   "id": "3bca35e1",
   "metadata": {},
   "outputs": [
    {
     "name": "stdout",
     "output_type": "stream",
     "text": [
      "rauf\n",
      "hadeed\n",
      "mujahid\n"
     ]
    }
   ],
   "source": [
    "list1 =['rauf', 'arif', 'hadeed', 'mujahid']\n",
    " \n",
    "for i in list1:\n",
    "    if(i =='arif'):\n",
    "        pass\n",
    "    else:\n",
    "        print(i)"
   ]
  },
  {
   "cell_type": "markdown",
   "id": "741dbb2a",
   "metadata": {},
   "source": [
    "### 5. Python3 input() function\n",
    "The input() function allows a user to insert a value into a program. input() returns a string value. You can convert the contents of an input using any data type. For instance, you can convert the value a user inserts to a floating-point number."
   ]
  },
  {
   "cell_type": "code",
   "execution_count": 28,
   "id": "14c50541",
   "metadata": {},
   "outputs": [
    {
     "name": "stdout",
     "output_type": "stream",
     "text": [
      "enter a number: 4\n",
      "Even\n",
      "Bye\n"
     ]
    }
   ],
   "source": [
    "# take the input from the user by using the input function\n",
    "x = input(\"enter a number: \")\n",
    "# by default the type returned by input() is string, so don't forget to type cast it\n",
    "x = int(x)\n",
    "if(x%2 == 0):\n",
    "    print(\"Even\")\n",
    "else:\n",
    "    print(\"Odd\")\n",
    "print(\"Bye\")"
   ]
  },
  {
   "cell_type": "markdown",
   "id": "029e6291",
   "metadata": {},
   "source": [
    "### 6. Nested-if statement\n",
    "Python allows us to nest if statements within if statements. i.e, we can place an if statement inside another if statement."
   ]
  },
  {
   "cell_type": "code",
   "execution_count": 26,
   "id": "16d01ecd",
   "metadata": {},
   "outputs": [
    {
     "name": "stdout",
     "output_type": "stream",
     "text": [
      "Enter your age: 32\n",
      "Do you have National ID card? Y/N: n\n",
      "Since you donot have CNIC, so you cannot vote.\n"
     ]
    }
   ],
   "source": [
    "# Example\n",
    "age = float(input(\"Enter your age: \"))\n",
    "if (age >= 18):\n",
    "    rv = input(\"Do you have National ID card? Y/N: \")\n",
    "    if ((rv == 'Y') or (rv == 'y')):\n",
    "        print(\"Welcome, you can vote\")\n",
    "    else:\n",
    "        print(\"Since you donot have CNIC, so you cannot vote.\")\n",
    "else:\n",
    "    print(\"You are too young to vote\")"
   ]
  },
  {
   "cell_type": "markdown",
   "id": "5e1ebc20",
   "metadata": {},
   "source": [
    "### 7. if-elif Ladder\n",
    "The if-elif statement is shoutcut of if..else chain. While using if-elif statement at the end else block is added which is performed if none of the above if-elif statement is true."
   ]
  },
  {
   "cell_type": "code",
   "execution_count": 36,
   "id": "5b7deacb",
   "metadata": {},
   "outputs": [
    {
     "name": "stdout",
     "output_type": "stream",
     "text": [
      "Enter your subject marks: 21\n",
      "Bad Grade\n"
     ]
    }
   ],
   "source": [
    "# Example\n",
    "y = input(\"Enter your subject marks: \")\n",
    "# by default the type is string, so we need to convert the type first\n",
    "y = int(y)\n",
    "if  (y >= 85):\n",
    "    print(\"Letter Grade A\")\n",
    "elif((y >= 80) and (y<85)):\n",
    "    print(\"Letter Grade A-\")\n",
    "elif((y >= 77) and (y<80)):\n",
    "    print(\"Letter Grade B+\")\n",
    "elif((y >= 73) and (y<77)):\n",
    "    print(\"Letter Grade B\")\n",
    "else:\n",
    "    print(\"Bad Grade\")"
   ]
  },
  {
   "cell_type": "code",
   "execution_count": null,
   "id": "c8485be3",
   "metadata": {},
   "outputs": [],
   "source": []
  },
  {
   "cell_type": "code",
   "execution_count": null,
   "id": "2409fc3b",
   "metadata": {},
   "outputs": [],
   "source": []
  }
 ],
 "metadata": {
  "kernelspec": {
   "display_name": "Python 3 (ipykernel)",
   "language": "python",
   "name": "python3"
  },
  "language_info": {
   "codemirror_mode": {
    "name": "ipython",
    "version": 3
   },
   "file_extension": ".py",
   "mimetype": "text/x-python",
   "name": "python",
   "nbconvert_exporter": "python",
   "pygments_lexer": "ipython3",
   "version": "3.8.10"
  }
 },
 "nbformat": 4,
 "nbformat_minor": 5
}
