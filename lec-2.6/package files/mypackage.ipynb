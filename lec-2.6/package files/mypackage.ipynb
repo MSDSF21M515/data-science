{
 "cells": [
  {
   "cell_type": "markdown",
   "id": "fe036a61",
   "metadata": {},
   "source": [
    "---   \n",
    " <img align=\"left\" width=\"75\" height=\"75\"  src=\"https://upload.wikimedia.org/wikipedia/en/c/c8/University_of_the_Punjab_logo.png\"> \n",
    "\n",
    "<h1 align=\"center\">Department of Data Science</h1>\n",
    "<h1 align=\"center\">Course: Tools and Techniques for Data Science</h1>\n",
    "\n",
    "---\n",
    "<h3><div align=\"right\">Instructor: Muhammad Arif Butt, Ph.D.</div></h3>    "
   ]
  },
  {
   "cell_type": "markdown",
   "id": "441220c1",
   "metadata": {},
   "source": [
    "<h1 align=\"center\">Lecture 2.6</h1>"
   ]
  },
  {
   "cell_type": "markdown",
   "id": "c6429b8f",
   "metadata": {},
   "source": [
    "## _mypackage.ipynb_\n",
    "#### [Click me to learn more about Python Modules](https://www.python-course.eu/python3_packages.php)"
   ]
  },
  {
   "cell_type": "markdown",
   "id": "5ee358ad",
   "metadata": {},
   "source": [
    "### Learning agenda of this notebook\n",
    "1. What are packages?\n",
    "2. Package Creation\n",
    "3. How to import modules from the package?"
   ]
  },
  {
   "cell_type": "markdown",
   "id": "b2e59821",
   "metadata": {},
   "source": [
    "### 1- What are packages\n",
    "- In our computer systems, we store our files in well-organized hierarchies. We don’t store them all in one location. Likewise, when our s/w application grow, we divide it into packages. In real-life projects, programs are much larger than what we deal with in our journey of learning Python. A package lets us hold similar modules in one place.\n",
    "\n",
    "\n",
    "     - A package is basically a directory having .py file(s) and an additional file with the name _ _ init _ _.py. In Python a directory inside the Python path having a file named _ _ init _ _.py, will be treated as a package by Python\n",
    "\n",
    "- The way a directory can contain subdirectories and files, a Python package can have sub-packages and modules. As our application program grows larger in size with a lot of modules, we place similar modules in one package and different modules in different packages. This makes a project (program) easy to manage and conceptually clear.\n",
    "\n",
    "- Last but not the least, we can place some initialization code for the package in the _ _init_ _.py file. However, being beginners leaving _ _ init _ _.py empty is indeed good practice\n"
   ]
  },
  {
   "cell_type": "markdown",
   "id": "0fde6a6a",
   "metadata": {},
   "source": [
    "### 2- Package Creation\n",
    "#### **Let us create a package:**\n",
    "\n",
    "- First of all, remember a package is a directory and the name of the package is the name of the directory. \n",
    "- We create our directory with the name \"_packageDemo_\". \n",
    "- Inside this we create sub-directories \"_package1_\" and \"_package2_\".\n",
    "- The packageDemo, package1, and package2 directory needs to contain a file with the name '_ _ init _ _.py'. To keep things simple, we left these file empty.\n",
    "- Now we can put all of the Python files which will be the modules into these directory. We create 3 different modules named arithmetic, comparison and bitcompare, containing our function definitions.\n",
    "- We put arithmetic module in package1(sub-package), and place the comparison and bitcompare module in package2 (sub-package)\n",
    "\n",
    "### Hierarchy:\n",
    " - **packageDemo**\n",
    "     - **_ _ init _ _ .py**\n",
    " \n",
    "     - **package1**    \n",
    "         - **_ _ init _ _ .py**    \n",
    "         - **arithmetic.py** \n",
    "     \n",
    "     - **package2**    \n",
    "         - **_ _ init _ _ .py**\n",
    "         - **comparison.py**\n",
    "         - **bitcompare.py**"
   ]
  },
  {
   "cell_type": "markdown",
   "id": "a7009883",
   "metadata": {},
   "source": [
    "### 3- How to import modules from the Package"
   ]
  },
  {
   "cell_type": "code",
   "execution_count": null,
   "id": "87a99c61",
   "metadata": {},
   "outputs": [],
   "source": [
    "# We can import modules from packages using the dot (.) operator. \n",
    "# For example, if we want to import the arithmetic module, it can be done as follows: \n",
    "  \n",
    "import packageDemo.package1.arithmetic\n",
    "\n",
    "packageDemo.package1.arithmetic.mymul(12,5)\n",
    "\n",
    "#import packageDemo.package1.arithmetic as abc\n",
    "#abc.mymul(12,5)"
   ]
  },
  {
   "cell_type": "code",
   "execution_count": null,
   "id": "7969a6d8",
   "metadata": {},
   "outputs": [],
   "source": [
    "# If a package has lot of modules you can import a specific module using the from keyword.\n",
    "# This also avoid long construct as done above\n",
    "\n",
    "from packageDemo.package2 import comparison\n",
    "\n",
    "comparison.comparison(5,5)"
   ]
  },
  {
   "cell_type": "code",
   "execution_count": null,
   "id": "aa942629",
   "metadata": {},
   "outputs": [],
   "source": [
    "# We can even import just the required function from module\n",
    "# This way you can directly use the function without the dot operator as done above\n",
    "\n",
    "from packageDemo.package2.bitcompare import bitand\n",
    "\n",
    "bitand(12,13)"
   ]
  },
  {
   "cell_type": "code",
   "execution_count": null,
   "id": "d7a65549",
   "metadata": {},
   "outputs": [],
   "source": []
  }
 ],
 "metadata": {
  "kernelspec": {
   "display_name": "Python 3 (ipykernel)",
   "language": "python",
   "name": "python3"
  },
  "language_info": {
   "codemirror_mode": {
    "name": "ipython",
    "version": 3
   },
   "file_extension": ".py",
   "mimetype": "text/x-python",
   "name": "python",
   "nbconvert_exporter": "python",
   "pygments_lexer": "ipython3",
   "version": "3.8.10"
  }
 },
 "nbformat": 4,
 "nbformat_minor": 5
}
