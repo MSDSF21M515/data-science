{
 "cells": [
  {
   "cell_type": "markdown",
   "id": "ed455b47",
   "metadata": {},
   "source": [
    "<div style=\"background-color:rgba(50, 81, 100, .9); font-family: 'Bebas Neue'; padding:10px 0;  margin-top:2px; margin-bottom:2px\">\n",
    "\n",
    "   \n",
    " <img align=\"left\" width=\"75\" height=\"75\"  src=\"https://upload.wikimedia.org/wikipedia/en/c/c8/University_of_the_Punjab_logo.png\"  > \n",
    "\n",
    "   \n",
    "<h1><div style=\"text-align: center\"> Department of Data Science</div>\n",
    "<div style=\"text-align: center\"> University of the Punjab, Lahore</div></h1>\n",
    "\n",
    "\n",
    "<h1><div style=\"text-align: center\">Course Title: Tools and Techniques for Data Science</div></h1>\n",
    "\n",
    "   <div style=\"text-align: right; margin-right: 5px; font-size:18px\"> <em><strong>Muhammad Arif Butt, Ph.D.</strong></em></div>\n",
    "    \n",
    "    \n",
    "  "
   ]
  },
  {
   "cell_type": "markdown",
   "id": "453283b9",
   "metadata": {},
   "source": [
    "<h2><div style=\"text-align: center\"> \" <u>Lecture 2.6</u> \"</div></h2>\n",
    "\n"
   ]
  },
  {
   "cell_type": "markdown",
   "id": "c041eac7",
   "metadata": {},
   "source": [
    "## _creating_module.ipynb_\n",
    "#### [Click me to learn more about Python Modules](https://www.w3schools.com/python/python_modules.asp)"
   ]
  },
  {
   "cell_type": "markdown",
   "id": "c84d6cd1",
   "metadata": {},
   "source": [
    "### Learning agenda of this notebook\n",
    "Modular Programming is a design technique to Break your code into different parts. These parts in which we are breaking code into are called modules.\n",
    "1. How to create a Python module?\n",
    "2. How to call a module in python?\n",
    "    - using _import_ keyword\n",
    "    - using _from_ keyword\n",
    "3. How to locate a module?\n",
    "    - The current directory\n",
    "    - PYTHONPATH (an environment variable with a list of directories)\n",
    "    - The installation-dependent default directory\n",
    "4. Reloading a module\n",
    "5. _dir()_ function"
   ]
  },
  {
   "cell_type": "markdown",
   "id": "abf2e255",
   "metadata": {},
   "source": [
    "### 1. How to create a module?\n",
    "#### Module:\n",
    "A module is a file containing variables, functions, and classes. A file containing Python code, for example: **_mymath.py_**, is called a module, and its module name would be _mymath_.\n",
    "   - We use modules to break down large programs into small manageable and organized files. \n",
    "   - Modules provide reusability of code.\n",
    "   - We can define our most used functions in a module and import it, instead of copying their definitions into different programs.\n",
    "   \n",
    "#### Let us create a module named _mymath_: \n",
    "Create a file named _mymath_.py, Write down the code of your interest in that file (as i have written some basic functions that perfrom addition, subtraction, multiplication, and division) and save it. Thus, a module is created. You can use it anywhere using the name _mymath_. "
   ]
  },
  {
   "cell_type": "markdown",
   "id": "0607638d",
   "metadata": {},
   "source": [
    "### 2. How to use a module?\n",
    "- We can use the **_import_** keyword to import an already defined module, and later using the module name we can access its functions using the dot . operator, like mymath.add()  \n",
    "```\n",
    "import mymath\n",
    "```\n",
    "- We can import a module by using a short alias, thus saving typing time in some cases. Note that in this case, the name mymath will not be recognized in our scope. Hence, mymath.add() is invalid and m.add() is the correct implementation.\n",
    "```\n",
    "import math as m\n",
    "```\n",
    "- We can use the **_from_** keyword to import specific name(s) from a module instead of importing the entire contents of a module. This way we don't have to use the dot operator and can access the function directly by its name\n",
    "```\n",
    "from mymath import mysub        OR       from mymath import mymul, mydiv\n",
    "```\n",
    "- We can import all the attributes from a module using asterik * construct. The difference between import mymath and from mymath import * is that in the later case you can don't have to use the dot operator and can directly use the functions, e.g., add()\n",
    "```\n",
    "from mymath import *\n",
    "```"
   ]
  },
  {
   "cell_type": "markdown",
   "id": "a33dca0f",
   "metadata": {},
   "source": [
    "### - Using import method"
   ]
  },
  {
   "cell_type": "code",
   "execution_count": 1,
   "id": "c407e715",
   "metadata": {},
   "outputs": [
    {
     "name": "stdout",
     "output_type": "stream",
     "text": [
      "10 + 20 = 30\n"
     ]
    }
   ],
   "source": [
    "# Example of using import method to call a module named mymath\n",
    "import mymath\n",
    "\n",
    "a = 10\n",
    "b = 20\n",
    "rv = mymath.myadd(a, b) \n",
    "print(\"%s + %s = %s\" %(a, b, rv))"
   ]
  },
  {
   "cell_type": "markdown",
   "id": "13394522",
   "metadata": {},
   "source": [
    "### - Using module alias"
   ]
  },
  {
   "cell_type": "code",
   "execution_count": 2,
   "id": "7e292828",
   "metadata": {},
   "outputs": [
    {
     "name": "stdout",
     "output_type": "stream",
     "text": [
      "25.3 x 33.9 = 857.67\n"
     ]
    }
   ],
   "source": [
    "# Example of using alias to access module\n",
    "\n",
    "import mymath as m\n",
    "\n",
    "a = 25.3\n",
    "b = 33.9\n",
    "rv = m.mymul(a, b) \n",
    "print(\"%s x %s = %s\" %(a, b, rv))"
   ]
  },
  {
   "cell_type": "markdown",
   "id": "00d7f5bd",
   "metadata": {},
   "source": [
    "### - Point to remember when using alias"
   ]
  },
  {
   "cell_type": "code",
   "execution_count": 3,
   "id": "3b7b821e",
   "metadata": {},
   "outputs": [
    {
     "data": {
      "text/plain": [
       "25"
      ]
     },
     "execution_count": 3,
     "metadata": {},
     "output_type": "execute_result"
    }
   ],
   "source": [
    "# When you use alias of a module, you will not able to access module's function using the actual module name\n",
    "# Restart the Kernel (if this works)\n",
    "import mymath as m\n",
    "\n",
    "mymath.myadd(10,15)"
   ]
  },
  {
   "cell_type": "markdown",
   "id": "0973c0f9",
   "metadata": {},
   "source": [
    "### - Using from keyword"
   ]
  },
  {
   "cell_type": "code",
   "execution_count": 4,
   "id": "251e984f",
   "metadata": {},
   "outputs": [
    {
     "name": "stdout",
     "output_type": "stream",
     "text": [
      "The difference is:  1\n",
      "Division result:  12.0\n"
     ]
    }
   ],
   "source": [
    "# We can use the from keyword to import specific name(s) from a module instead of importing the entire contents of a module. \n",
    "# This way we don't have to use the dot operator and can access the function directly by its name\n",
    "\n",
    "from mymath import mysub, mydiv\n",
    "\n",
    "print(\"The difference is: \", mysub(3,2))\n",
    "\n",
    "print(\"Division result: \", mydiv(144,12))"
   ]
  },
  {
   "cell_type": "markdown",
   "id": "2970779e",
   "metadata": {},
   "source": [
    "### - Using * to import all functions"
   ]
  },
  {
   "cell_type": "code",
   "execution_count": 5,
   "id": "6e28b1d0",
   "metadata": {},
   "outputs": [
    {
     "name": "stdout",
     "output_type": "stream",
     "text": [
      "Performing Multiplication:  4200\n",
      "Calculating 940 + 230 =  1170\n"
     ]
    }
   ],
   "source": [
    "# use * to import all the function, you can call the functions without . operator\n",
    "from mymath import *\n",
    "\n",
    "rv = mymul(210,20)\n",
    "print(\"Performing Multiplication: \", rv)\n",
    "\n",
    "print(\"Calculating 940 + 230 = \", myadd(940,230))\n"
   ]
  },
  {
   "cell_type": "markdown",
   "id": "d880daa8",
   "metadata": {},
   "source": [
    "### 3. How Python locates a module?\n",
    "While importing a module, Python looks for the module at several places: \n",
    "- Interpreter first looks for a **_built-in module_**. If there is no built-in module of that name, Python looks into a list of directories defined in **_sys.path_** variable, which normally contains following locations:\n",
    "    - The current working directory\n",
    "    - PYTHONPATH (an environment variable with a list of directories).\n",
    "    - The installation-dependent default directory  \n",
    "- If your module's path is not included in the above mentioned locations, you can update the sys.path variable using  a built-in function of sys module name **_append()_**\n",
    "    \n",
    "    \n",
    "#### [Click me to learn more about PYTHONPATH variable](https://www.geeksforgeeks.org/pythonpath-environment-variable-in-python/)"
   ]
  },
  {
   "cell_type": "code",
   "execution_count": 6,
   "id": "fe7fc091",
   "metadata": {},
   "outputs": [
    {
     "name": "stdout",
     "output_type": "stream",
     "text": [
      "List of directories: \n",
      "\n",
      " ['/Users/arif/Documents/DS-522/Demo-Files/Section-2/Lec-2.6/module files', '/Library/Frameworks/Python.framework/Versions/3.8/lib/python38.zip', '/Library/Frameworks/Python.framework/Versions/3.8/lib/python3.8', '/Library/Frameworks/Python.framework/Versions/3.8/lib/python3.8/lib-dynload', '', '/Library/Frameworks/Python.framework/Versions/3.8/lib/python3.8/site-packages', '/Library/Frameworks/Python.framework/Versions/3.8/lib/python3.8/site-packages/IPython/extensions', '/Users/arif/.ipython']\n"
     ]
    }
   ],
   "source": [
    "# TO check sys.path variable, first we need to import sys module\n",
    "import sys\n",
    "\n",
    "print(\"List of directories: \\n\\n\", sys.path)"
   ]
  },
  {
   "cell_type": "code",
   "execution_count": 7,
   "id": "dce49f56",
   "metadata": {},
   "outputs": [
    {
     "ename": "ModuleNotFoundError",
     "evalue": "No module named 'a_module_not_in_syspath_dir'",
     "output_type": "error",
     "traceback": [
      "\u001b[0;31m---------------------------------------------------------------------------\u001b[0m",
      "\u001b[0;31mModuleNotFoundError\u001b[0m                       Traceback (most recent call last)",
      "\u001b[0;32m/var/folders/1t/g3ylw8h50cjdqmk5d6jh1qmm0000gn/T/ipykernel_93666/473792541.py\u001b[0m in \u001b[0;36m<module>\u001b[0;34m\u001b[0m\n\u001b[0;32m----> 1\u001b[0;31m \u001b[0;32mimport\u001b[0m \u001b[0ma_module_not_in_syspath_dir\u001b[0m\u001b[0;34m\u001b[0m\u001b[0;34m\u001b[0m\u001b[0m\n\u001b[0m",
      "\u001b[0;31mModuleNotFoundError\u001b[0m: No module named 'a_module_not_in_syspath_dir'"
     ]
    }
   ],
   "source": [
    "\n",
    "import a_module_not_in_syspath_dir\n"
   ]
  },
  {
   "cell_type": "code",
   "execution_count": 8,
   "id": "cdaa6259",
   "metadata": {},
   "outputs": [
    {
     "name": "stdout",
     "output_type": "stream",
     "text": [
      "This module is located in '/Users/arif/Documents/DS-522/Demo-Files/Section-2/Lec-2.6/module files/pathissue' directory\n"
     ]
    }
   ],
   "source": [
    "# append() method can be used, if your current directory path is not included in the list\n",
    "# pass your directory path where your module resides as argument to the append() function\n",
    "\n",
    "import sys\n",
    "sys.path.append('/Users/arif/Documents/DS-522/Demo-Files/Section-2/Lec-2.6/module files/pathissue')\n",
    "import a_module_not_in_syspath_dir\n"
   ]
  },
  {
   "cell_type": "markdown",
   "id": "c100e05f",
   "metadata": {},
   "source": [
    "### 4. Reload a module\n",
    "The Python interpreter imports a module only once during a session. This makes things more efficient. \n",
    "However, if our module changed during the course of the program, we would have to reload it. One way to do this is to restart the interpreter. Python provides a more efficient way of doing this. We can use the **_reload()_** function inside the imp module to reload a module."
   ]
  },
  {
   "cell_type": "code",
   "execution_count": 9,
   "id": "8fc71033",
   "metadata": {},
   "outputs": [
    {
     "name": "stdout",
     "output_type": "stream",
     "text": [
      "The code is executed only once ..!!\n"
     ]
    }
   ],
   "source": [
    "# import the module for the first time\n",
    "import demomodule"
   ]
  },
  {
   "cell_type": "code",
   "execution_count": 10,
   "id": "08d97c4c",
   "metadata": {},
   "outputs": [],
   "source": [
    "# now again import the module\n",
    "import demomodule\n",
    "import demomodule\n",
    "\n",
    "# you can note that python imports the module only once"
   ]
  },
  {
   "cell_type": "code",
   "execution_count": 11,
   "id": "55a6631b",
   "metadata": {},
   "outputs": [
    {
     "name": "stdout",
     "output_type": "stream",
     "text": [
      "The code is executed only once ..!!\n"
     ]
    },
    {
     "data": {
      "text/plain": [
       "<module 'demomodule' from '/Users/arif/Documents/DS-522/Demo-Files/Section-2/Lec-2.6/module files/demomodule.py'>"
      ]
     },
     "execution_count": 11,
     "metadata": {},
     "output_type": "execute_result"
    }
   ],
   "source": [
    "# if you made some changes in the module and want to reload the module, \n",
    "# you need to call the reload() method of imp module\n",
    "\n",
    "import imp\n",
    "imp.reload(demomodule)\n"
   ]
  },
  {
   "cell_type": "markdown",
   "id": "f97cbb7f",
   "metadata": {},
   "source": [
    "### 5. Usage of dir() function\n",
    "We can use the dir() function to find out names that are defined inside a module.\n",
    "For example, we have defined a functions add(), sub(), mul(), div() in mymath module.\n",
    "\n",
    "Other than function names, all names that begin with an underscore are default Python attributes associated with the module."
   ]
  },
  {
   "cell_type": "code",
   "execution_count": 12,
   "id": "7a68cf54",
   "metadata": {},
   "outputs": [
    {
     "name": "stdout",
     "output_type": "stream",
     "text": [
      "Available names in mymath module \n",
      "\n",
      " ['GRAVITY', 'PI', '__builtins__', '__cached__', '__doc__', '__file__', '__loader__', '__name__', '__package__', '__spec__', 'myadd', 'mydiv', 'mymul', 'mypow', 'mysub']\n"
     ]
    }
   ],
   "source": [
    "#dir() function is used to list down the available names in a specific module\n",
    "import mymath\n",
    "print(\"Available names in mymath module \\n\\n\", dir(mymath))"
   ]
  },
  {
   "cell_type": "code",
   "execution_count": 13,
   "id": "7f2282e0",
   "metadata": {},
   "outputs": [],
   "source": [
    "# the __name__ attribute contains the name of the module.\n",
    "# accessing __name__ attribute of the mymath module \n",
    "import mymath\n",
    "mymath.GRAVITY\n",
    "mymath.PI\n",
    "mymath.__builtins__\n",
    "mymath.__cached__       # contains the compiled version of the file with the extension .pyc containing byte code\n",
    "mymath.__doc__\n",
    "#mymath.__loader__\n",
    "#mymath.__name__        # contains the name of the module\n",
    "#mymath.__package__     # contains the package name if any"
   ]
  },
  {
   "cell_type": "code",
   "execution_count": null,
   "id": "084a3baa",
   "metadata": {},
   "outputs": [],
   "source": []
  },
  {
   "cell_type": "code",
   "execution_count": null,
   "id": "07719f51",
   "metadata": {},
   "outputs": [],
   "source": []
  }
 ],
 "metadata": {
  "kernelspec": {
   "display_name": "Python 3 (ipykernel)",
   "language": "python",
   "name": "python3"
  },
  "language_info": {
   "codemirror_mode": {
    "name": "ipython",
    "version": 3
   },
   "file_extension": ".py",
   "mimetype": "text/x-python",
   "name": "python",
   "nbconvert_exporter": "python",
   "pygments_lexer": "ipython3",
   "version": "3.8.10"
  }
 },
 "nbformat": 4,
 "nbformat_minor": 5
}
