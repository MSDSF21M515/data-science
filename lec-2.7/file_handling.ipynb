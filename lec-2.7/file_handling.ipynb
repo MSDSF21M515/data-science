{
 "cells": [
  {
   "cell_type": "markdown",
   "id": "4a87b5ef",
   "metadata": {},
   "source": [
    "<div style=\"background-color:rgba(50, 81, 100, .9); font-family: 'Bebas Neue'; padding:10px 0;  margin-top:2px; margin-bottom:2px\">\n",
    "\n",
    "   \n",
    " <img align=\"left\" width=\"75\" height=\"75\"  src=\"https://upload.wikimedia.org/wikipedia/en/c/c8/University_of_the_Punjab_logo.png\"  > \n",
    "\n",
    "   \n",
    "<h1><div style=\"text-align: center\"> Department of Data Science</div>\n",
    "<div style=\"text-align: center\"> University of the Punjab, Lahore</div></h1>\n",
    "\n",
    "\n",
    "<h1><div style=\"text-align: center\">Course Title: Tools and Techniques for Data Science</div></h1>\n",
    "\n",
    "   <div style=\"text-align: right; margin-right: 5px; font-size:18px\"> <em><strong>Muhammad Arif Butt, Ph.D.</strong></em></div>\n",
    "    \n",
    "    \n",
    "  "
   ]
  },
  {
   "cell_type": "markdown",
   "id": "ab0dc25c",
   "metadata": {},
   "source": [
    "<h2><div style=\"text-align: center\"> \" <u>Lecture 2.7</u> \"</div></h2>"
   ]
  },
  {
   "cell_type": "markdown",
   "id": "19f82705",
   "metadata": {},
   "source": [
    "## _file_handling.ipynb_"
   ]
  },
  {
   "cell_type": "markdown",
   "id": "9727124d",
   "metadata": {},
   "source": [
    "### Learning agenda of this notebook\n",
    "\n",
    "1. Open a text file\n",
    "2. Reading from a file\n",
    "    - using read()\n",
    "    - using seek()\n",
    "    - using readlines()\n",
    "    - using readline()\n",
    "    - Iterating a file object\n",
    "3. Writing in a file\n",
    "    - using write()\n",
    "    - using append()\n",
    "4. Close a file\n",
    "5. Delete a file\n",
    "6. Rename a file\n",
    "7. Get file attributes using stat()\n",
    "8. Checking file types\n",
    "9. Directory handling\n",
    "    - Create a directory\n",
    "    - Delete a directory\n",
    "    - Rename a directory\n",
    "    - Changing a process cwd\n",
    "    "
   ]
  },
  {
   "cell_type": "markdown",
   "id": "263d8d43",
   "metadata": {},
   "source": [
    "### What are Files, and Why we need them?\n",
    "An important component of an operating system is its files and directories. A file is a location on disk that stores related information and has a name. We use files to organize our data in different directories on a hard-disk.\n",
    "\n",
    "The RAM (Random Access Memory) is volatile; it holds data only as long as it is up. So, we use files to store data permanently.\n",
    "\n",
    "### File Types\n",
    "There are different types of files exist including **image**, **audio**, **video**, **text**, **exectuables**. However, python supports only two file types:\n",
    "- **_Text File_** structured as a sequence of lines, where each line includes a sequence of characters may be called code or syntax. Every line in a file terminates with a special character known as EOL or end of line.\n",
    "     \n",
    "- **_Binary File_** in pyhton is any type of file which is not a text file and contains data in the form of 0's and 1's.\n",
    "   \n",
    "   \n",
    "### File Handling in python\n",
    "File handling is an important part of any web application. In python, file handling is basically **CRUD** operations. CRUD operations include:\n",
    " - Create\n",
    " - Read\n",
    " - Update\n",
    " - Delete\n",
    " \n",
    "There are other file operations as well e.g., copying a file, changing properties of file. However, CRUD operations are basic file handling operations."
   ]
  },
  {
   "cell_type": "markdown",
   "id": "799564e5",
   "metadata": {},
   "source": [
    "### 1. Opening a file\n",
    "Python has a built-in **_open()_** function to open a file. This function returns a file object,whose type depends on the mode, and through which the standard file operations such as reading and writing are performed. \n",
    "```\n",
    "open(file,  mode='r',  buffering=-1, encoding=None, errors=None, newline=None, closefd=True, opener=None)\n",
    "```\n",
    "Where,\n",
    "- file is the only required argument, which is the name of the file to be opende\n",
    "- mode is for the file access modes described below\n",
    "- buffering for text file is line buffering by default (0: no buffering, 1: line buffering)\n",
    "- encoding is the name of the encoding used to decode or encode the file. (See codecs module for supported encodings)\n",
    "- errors is an optional string that specifies how encoding errors are to be handled\n",
    "- newline controls how universal newlines works (it only applies to text mode). It can be None, '', '\\n', '\\r', and '\\r\\n'. \n",
    "- closefd is by default True, which closes the underlying file descriptor, when file is closed\n",
    "- opener is by default None, however, advance users can pass a custom opener to obtain the underlying file descriptor\n",
    "\n",
    "**FILE ACCESS MODES**\n",
    "\n",
    " * ***`Read Only (‘r’)`*** : It opens the text file for reading. If the file does not exist, raises I/O error.\n",
    " * ***`Read and Write (‘r+’)`*** : It opens the file for reading and writing. Raises I/O error if the file does not exists.\n",
    " * ***`Write Only (‘w’)`*** : It opens the file for writing only. For existing file, data is truncated. Creates the file if the file does not exists.\n",
    " * ***`Write and Read (‘w+’)`*** : It opens the file for reading and writing. For existing file, data is truncated. Creates the file if the file does not exists.\n",
    " * ***`Append Only (‘a’)`*** : It opens the file for writing, appending to the end off the file if it exists. The file is created if it does not exist.\n",
    " * ***`Append and Read (‘a+’)`*** : It opens the file for reading and writing. The file is created if it does not exist. The data being written will be inserted at the end, after the existing data.\n",
    " * ***`Exclusive creation (‘x’)`*** : It Opens a file for exclusive creation. If the file already exists, the operation fails.\n",
    " \n",
    "Along with above file access modes, you can also specify how file should be handled as text or binary (rt is default mode)\n",
    "  * ***`Text file (‘t’)`*** : (By default) Opens a file in text mode\n",
    "  * ***`Binary file (‘b’)`*** : Opens a file in binary mode\n"
   ]
  },
  {
   "cell_type": "code",
   "execution_count": null,
   "id": "056aceec",
   "metadata": {},
   "outputs": [],
   "source": [
    "# Open a file named f1.txt in current working directory (giving relative or absolute path)\n",
    "# # In Microsoft OSs, the path may look a bit different e.g., \"C:\\\\Users\\\\Kakamanna\\\\f1.txt\"\n",
    "fd = open(\"f1.txt\")\n",
    "fd = open(\"/Users/arif/Documents/DS-522/Demo-Files/Section-2/Lec-2.7/f1.txt\")\n",
    "\n",
    "#fd = fd1 =open('nofile.txt') # In case file does not exist, the interpreter will throw a FileNotFoundError.\n",
    "fd"
   ]
  },
  {
   "cell_type": "markdown",
   "id": "3a2e45f2",
   "metadata": {},
   "source": [
    "### 2. Reading Contents of a file\n",
    "In Python once you have a file opened, there are three ways to read from that file:\n",
    "- read([n])\n",
    "- readline([n])\n",
    "- readlines()\n",
    "    - In case of read() and readline(), n specifies the number of bytes/characters to read from stream. If n is negative or omitted, it will read till the EOF\n",
    "    - The readlines() function, return a list of lines from the stream (read entire file)\n",
    "\n"
   ]
  },
  {
   "cell_type": "markdown",
   "id": "70101033",
   "metadata": {},
   "source": [
    "### a.  Using read() method"
   ]
  },
  {
   "cell_type": "code",
   "execution_count": null,
   "id": "3023dbbc",
   "metadata": {},
   "outputs": [],
   "source": [
    "# By default a file opens in read-only mode, However we can specify its mode \"r\"\n",
    "fd = open(\"f1.txt\",\"r\")  # or fd=open(\"f1.txt\"), or fd=open(\"f1.txt\", \"rt\") are all equivalent\n",
    "\n",
    "# read first 5 characters from f1.txt\n",
    "rv = fd.read(5)\n",
    "rv"
   ]
  },
  {
   "cell_type": "code",
   "execution_count": null,
   "id": "6af297ed",
   "metadata": {},
   "outputs": [],
   "source": [
    "# reading the complete file till EOF character\n",
    "fd.read()"
   ]
  },
  {
   "cell_type": "code",
   "execution_count": null,
   "id": "701d3dce",
   "metadata": {},
   "outputs": [],
   "source": [
    "# try to read again, and notice what will happen?\n",
    "fd.read()"
   ]
  },
  {
   "cell_type": "code",
   "execution_count": null,
   "id": "de8e5e43",
   "metadata": {},
   "outputs": [],
   "source": [
    "'''\n",
    "As you can see we got an empty string. This is because the file is already opened  and the file pointer was already \n",
    "pointing at the end of the file so one way is to close the file first to read it again.\n",
    "'''\n",
    "# close the file\n",
    "fd.close()"
   ]
  },
  {
   "cell_type": "code",
   "execution_count": null,
   "id": "a262d64b",
   "metadata": {},
   "outputs": [],
   "source": [
    "# now open and read the file again\n",
    "fd = open(\"f1.txt\",\"r\")\n",
    "print(fd.read())\n",
    "\n",
    "# close the file\n",
    "fd.close()"
   ]
  },
  {
   "cell_type": "markdown",
   "id": "f1040bab",
   "metadata": {},
   "source": [
    "### - Change File Offset using seek() method\n",
    "In Python, seek() function is used to change the position of the File Handle to a given specific position, from where the data has to be read or written in the file. It returns the new absolute position.\n",
    "```\n",
    "seek(offset, whence)\n",
    "```\n",
    "Where,\n",
    " - offset means the number of positions to move forward/backward. It is interpreted relative to the position indicated by whence\n",
    " - whence can take following values: \n",
    "     - 0:  start of stream (the default); offset should be zero or positive \n",
    "     - 1:  current stream position; offset may be negative\n",
    "     - 2:  end of stream; offset is usually negative\n",
    "     \n",
    "**Note:** \n",
    "- Reference point at current position / end of file cannot be set in text mode except when offset is equal to 0.\n",
    "- Seek() function with negative offset only works when file is opened in Binary mode."
   ]
  },
  {
   "cell_type": "code",
   "execution_count": null,
   "id": "e77fd658",
   "metadata": {},
   "outputs": [],
   "source": [
    "# open a file in read mode and check the position of file offset\n",
    "fd = open(\"f1.txt\",\"r\")\n",
    "# check the position of file offset\n",
    "fd.seek(0, 1)\n",
    "print(\"Cursor is pointing at the location: \", fd.seek(0, 1))\n",
    "\n",
    "\n",
    "# Let us read five characters and check the position of file offset\n",
    "fd.read(5)\n",
    "print(\"Cursor is pointing at the location: \", fd.seek(0, 1))\n",
    "\n",
    "\n",
    "# Let us read remaining portion of file and check the position of file offset\n",
    "fd.read()\n",
    "print(\"Cursor is pointing at the location: \", fd.seek(0, 1))\n",
    "\n",
    "\n",
    "# close the file\n",
    "fd.close()\n",
    "# fd.seek(0, 1) is equivalent to  fd.tell()"
   ]
  },
  {
   "cell_type": "code",
   "execution_count": null,
   "id": "f8055f38",
   "metadata": {},
   "outputs": [],
   "source": [
    "# Let us do some more practice with the seek() function\n",
    "# open a file in append mode\n",
    "fd = open(\"f1.txt\",\"a\")\n",
    "print(\"Cursor is pointing at the location: \", fd.seek(0, 1))\n",
    "\n",
    "# set the cursor to beginning\n",
    "cur = fd.seek(0)   # equivalent to fd.seek(0, 0)\n",
    "print(\"Cursor is pointing at the location: \", cur)\n",
    "\n",
    "# set the cursor to 100 position from beginning\n",
    "cur = fd.seek(100)   # equivalent to fd.seek(100, 0)\n",
    "print(\"Cursor is pointing at the location: \", cur)\n",
    "\n",
    "\n",
    "# let us move the cursor 50 bytes back from current position\n",
    "cur = fd.seek(50, 0)   \n",
    "print(\"Cursor is pointing at the location: \", cur)\n",
    "\n",
    "#close the file\n",
    "fd.close()"
   ]
  },
  {
   "cell_type": "code",
   "execution_count": null,
   "id": "15ab0f04",
   "metadata": {
    "scrolled": true
   },
   "outputs": [],
   "source": [
    "# You can read data from binary file as well\n",
    "# To open a file in binary mode, the mode parameter contains a 'b' character.\n",
    "# The stream object you get from opening a file in binary mode has many of the same attributes\n",
    "# One difference is a binary stream object has no encoding attribute, so you're reading/writing bytes (not strings), \n",
    "# so there's no conversion for Python to do. \n",
    "# What you get out of a binary file is exactly what you put into it, no conversion necessary.\n",
    "f = open(\"image.png\",\"rb\")\n",
    "\n",
    "\n",
    "# reading the image file\n",
    "print(f.read())\n",
    "\n",
    "#close the file\n",
    "f.close()"
   ]
  },
  {
   "cell_type": "markdown",
   "id": "91121e45",
   "metadata": {},
   "source": [
    "### c. Using readline() method"
   ]
  },
  {
   "cell_type": "code",
   "execution_count": null,
   "id": "e0122d39",
   "metadata": {},
   "outputs": [],
   "source": [
    "# If you want to read a file line by line use readline() method\n",
    "fd = open(\"f1.txt\",\"r\")\n",
    "print(fd.readline())\n",
    "print(fd.readline())\n",
    "print(fd.readline())\n",
    "\n",
    "# close the file\n",
    "fd.close()"
   ]
  },
  {
   "cell_type": "markdown",
   "id": "5a9addca",
   "metadata": {},
   "source": [
    "### d. Using readlines() method\n"
   ]
  },
  {
   "cell_type": "code",
   "execution_count": null,
   "id": "5aa498e6",
   "metadata": {},
   "outputs": [],
   "source": [
    "#You can read the file lines separately, using readlines() method\n",
    "\n",
    "fd = open(\"f1.txt\",\"r\")\n",
    "rd = fd.readlines()\n",
    "\n",
    "print(rd)\n",
    "\n",
    "# close the file\n",
    "fd.close()"
   ]
  },
  {
   "cell_type": "markdown",
   "id": "cd573f06",
   "metadata": {},
   "source": [
    "### e. Iterating Contents of a File (Line by Line)\n",
    "\n",
    "The above functionality can be achieved using a for loop on the file object"
   ]
  },
  {
   "cell_type": "code",
   "execution_count": null,
   "id": "15dbedc2",
   "metadata": {},
   "outputs": [],
   "source": [
    "# open a file in read mode\n",
    "fd = open(\"f1.txt\",\"r\")\n",
    "\n",
    "# use for loop to print all the lines one by one\n",
    "for line in fd:\n",
    "    print(line)\n",
    "\n",
    "# close the file\n",
    "fd.close()"
   ]
  },
  {
   "cell_type": "markdown",
   "id": "fca239ed",
   "metadata": {},
   "source": [
    "####  Count the words in the file using **split()** method"
   ]
  },
  {
   "cell_type": "code",
   "execution_count": null,
   "id": "17270b6d",
   "metadata": {},
   "outputs": [],
   "source": [
    "# We know that words are separated by spaces in a file\n",
    "# The str.split(sep) function returns a list of the words in the string, using sep as the delimiter\n",
    "# Let us use , split() method to count words in each line of a file\n",
    "\n",
    "fd = open(\"f1.txt\",\"r\")\n",
    "totalwords = 0\n",
    "for line in fd:\n",
    "    listoftokens = line.split(' ')\n",
    "    print(line, \"Number of words in the line: \", len(listoftokens))\n",
    "    totalwords = totalwords + len(listoftokens)\n",
    "fd.close()\n",
    "print(\"Total words in this file are: \", totalwords)"
   ]
  },
  {
   "cell_type": "markdown",
   "id": "e5435465",
   "metadata": {},
   "source": [
    "### 3. Writing in a File"
   ]
  },
  {
   "cell_type": "markdown",
   "id": "41789820",
   "metadata": {},
   "source": [
    "### a. Using write() method\n",
    "write() method is used to write data in a file. It overwrites the existing data. If the file doesn't exist, it will create the file. "
   ]
  },
  {
   "cell_type": "code",
   "execution_count": null,
   "id": "eb78e860",
   "metadata": {},
   "outputs": [],
   "source": [
    "# let's open a file in write only mode\n",
    "fd1 = open('out.txt','w')\n",
    "# write function will return the length of text written in the file.\n",
    "rv = fd1.write('Python is Awesome!')\n",
    "print(\"Number of bytes written in the file: \", rv)\n",
    "#close the file\n",
    "fd1.close()\n",
    "\n",
    "# Let us open the file in read mode and read its contents\n",
    "fd1 = open('out.txt')\n",
    "print(fd1.read())\n",
    "fd1.close()\n"
   ]
  },
  {
   "cell_type": "code",
   "execution_count": null,
   "id": "b961d227",
   "metadata": {},
   "outputs": [],
   "source": [
    "# let's open a file in read-write mode\n",
    "fd1 = open('out.txt','w+') # Due to w+ all the data is truncated\n",
    "\n",
    "\n",
    "# write function will return the length of text written in the file.\n",
    "rv = fd1.write('Writing again in the out.txt file')\n",
    "print(\"Number of bytes written in the file: \", rv)\n",
    "\n",
    "# take the pointer to the initial position, and read the file. Note due to w+ the previous data is truncated\n",
    "fd1.seek(0)\n",
    "print(fd1.read())\n",
    "\n",
    "#close the file\n",
    "fd1.close()"
   ]
  },
  {
   "cell_type": "markdown",
   "id": "533e706b",
   "metadata": {},
   "source": [
    "### b. How to append data to a file\n",
    "Open the file in append mode"
   ]
  },
  {
   "cell_type": "code",
   "execution_count": null,
   "id": "51fbc79c",
   "metadata": {},
   "outputs": [],
   "source": [
    "# let's open a file in append mode\n",
    "fd1 = open('out.txt','a+') # The '+' sign after 'a' means you can append as well read\n",
    "# write function will return the length of text written in the file.\n",
    "rv = fd1.write('\\nPython is Awesome!')\n",
    "print(\"Number of bytes written in the file: \", rv)\n",
    "\n",
    "#Confirm\n",
    "fd1.seek(0)\n",
    "print(fd1.read())\n",
    "\n",
    "#close the file\n",
    "fd1.close()"
   ]
  },
  {
   "cell_type": "code",
   "execution_count": null,
   "id": "9a0fdb6f",
   "metadata": {},
   "outputs": [],
   "source": [
    "# creating a list\n",
    "fruits = [\"\\nApple\",\"\\nBanana\\n\",\"\\nOranges\"]\n",
    "\n",
    "# open a file in read-append mode\n",
    "fd =open(\"out.txt\",mode=\"a+\")\n",
    "\n",
    "#Copying the list content in file\n",
    "for fruit in fruits:\n",
    "    fd.write(fruit)\n",
    "    \n",
    "# set the cursor to the beginning\n",
    "fd.seek(0)\n",
    "\n",
    "#reading the data from file\n",
    "for line in fd:\n",
    "    print(line)\n",
    "    \n",
    "# close the file\n",
    "fd.close()"
   ]
  },
  {
   "cell_type": "markdown",
   "id": "5e7315be",
   "metadata": {},
   "source": [
    "### 4. Closing a File"
   ]
  },
  {
   "cell_type": "markdown",
   "id": "25f02832",
   "metadata": {},
   "source": [
    "### a. Using close() method\n",
    "Closing a file will free up the resources that were tied with the file. Python has a garbage collector to clean up unreferenced objects but we must not rely on it to close the file.\n",
    "It is done using the close() method available in Python."
   ]
  },
  {
   "cell_type": "code",
   "execution_count": null,
   "id": "93262e79",
   "metadata": {},
   "outputs": [],
   "source": [
    "# open a file\n",
    "f = open(\"f1.txt\", \"r\")\n",
    "\n",
    "# perform some file operations\n",
    "\n",
    "#close the file\n",
    "f.close()"
   ]
  },
  {
   "cell_type": "markdown",
   "id": "f7352ee2",
   "metadata": {},
   "source": [
    "### b. Use close() in try...finally Block\n",
    "The close() method is not entirely safe. If an exception occurs when we are performing some operation \n",
    "with the file, the code exits without closing the file.\n",
    "\n",
    "A safer way is to use a try...finally block."
   ]
  },
  {
   "cell_type": "code",
   "execution_count": null,
   "id": "2fc7d4c3",
   "metadata": {},
   "outputs": [],
   "source": [
    "# Put the entire code in try block\n",
    "try:\n",
    "    fd = open(\"f1.txt\", \"r\")\n",
    "   # perform file operations\n",
    "    \n",
    "finally:\n",
    "    fd.close()"
   ]
  },
  {
   "cell_type": "markdown",
   "id": "80bd17db",
   "metadata": {},
   "source": [
    "### c- Open-Read-Write-Close Using with Statement\n",
    "The best way to close a file is by using the with statement. This ensures that the file is closed when the block inside the with statement is exited.\n",
    "\n",
    "We don't need to explicitly call the close() method. It is done internally."
   ]
  },
  {
   "cell_type": "code",
   "execution_count": null,
   "id": "dbb86693",
   "metadata": {},
   "outputs": [],
   "source": [
    "# open the file in read mode using with statement\n",
    "with open(\"f1.txt\", \"r\") as f:\n",
    "    # perform file operations\n",
    "    print(f.read())\n",
    "   "
   ]
  },
  {
   "cell_type": "markdown",
   "id": "3d93d3b6",
   "metadata": {},
   "source": [
    "### 5 Delete a file"
   ]
  },
  {
   "cell_type": "code",
   "execution_count": null,
   "id": "294dbde5",
   "metadata": {},
   "outputs": [],
   "source": [
    "# you can delete the file using remove() method of \"os\" module\n",
    "# first import the os module\n",
    "import os\n",
    "\n",
    "# first check whether the file exist or not\n",
    "if os.path.exists(\"temp.txt\"):\n",
    "    os.remove(\"temp.txt\")\n",
    "    print(\"File removed\")\n",
    "    \n",
    "else:\n",
    "    print(\"file doesn't exist\")"
   ]
  },
  {
   "cell_type": "markdown",
   "id": "959709cf",
   "metadata": {},
   "source": [
    "### 6. Rename a file"
   ]
  },
  {
   "cell_type": "code",
   "execution_count": null,
   "id": "8cf0beb8",
   "metadata": {},
   "outputs": [],
   "source": [
    "# you can rename the file as well using rename() method of \"os\" module\n",
    "# For renaming a file, rename() method takes in two arguments: \n",
    "# rename(oldname,newname)\n",
    "!touch temp.txt\n",
    "!ls\n",
    "os.rename('temp.txt','newtemp.txt')\n",
    "print(\"\\n\\n\")\n",
    "!ls"
   ]
  },
  {
   "cell_type": "markdown",
   "id": "fd9b1f81",
   "metadata": {},
   "source": [
    "### 7. Reading Attributes of a File using stat() method\n",
    "This method is used to get status of the specified path\n",
    "\n",
    "**os.stat(path)**\n",
    "\n",
    "Path is a string or bytes object representing a valid path. Stat() method represents the status of specified path having attributes incluing _file mode_, _inode number_, _file owner_, _group owner_, number of _hard links_, _file size_ etc."
   ]
  },
  {
   "cell_type": "code",
   "execution_count": null,
   "id": "fa985552",
   "metadata": {},
   "outputs": [],
   "source": [
    "import os\n",
    "# providing path\n",
    "path =  'f1.txt' \n",
    "  \n",
    "# Get the status of the specified path\n",
    "status = os.stat(path)\n",
    "\n",
    "status\n"
   ]
  },
  {
   "cell_type": "code",
   "execution_count": null,
   "id": "ae20ffa8",
   "metadata": {},
   "outputs": [],
   "source": [
    "# You can extract the information individually\n",
    "import os\n",
    "# providing path\n",
    "path = 'f1.txt'\n",
    "  \n",
    "# Get the status of the specified path\n",
    "status = os.stat(path)\n",
    "\n",
    "# extract the file size\n",
    "print(\"file size: \", status.st_size)\n",
    "\n",
    "# extract the file type and file mode bits (permissions)\n",
    "print(\"file type: \", status.st_mode)\n",
    "\n",
    "# user identifier of the file owner\n",
    "print(\"file ID: \", status.st_uid)\n",
    "\n",
    "# recent access time in seconds\n",
    "print(\"Last access time: \", status.st_atime)\n",
    "\n",
    "# recent modification time in seconds\n",
    "print(\"Last modification time: \", status.st_mtime)\n",
    "\n",
    "# recent metadata change on Unix and creation time on Windows\n",
    "print(\"Last status change time: \", status.st_ctime)"
   ]
  },
  {
   "cell_type": "markdown",
   "id": "ff4037c7",
   "metadata": {},
   "source": [
    "### 8. Identifying Type of File"
   ]
  },
  {
   "cell_type": "code",
   "execution_count": null,
   "id": "5b8ae957",
   "metadata": {},
   "outputs": [],
   "source": [
    "import os\n",
    "!ls\n",
    "path = input(\"Enter name of the file/directory: \")\n",
    "\n",
    "if os.path.isfile(path):\n",
    "    print(\"Provided path is a file\")\n",
    "elif os.path.isdir(path):\n",
    "    print(\"Provided path is a directory\")\n",
    "\n",
    "else:\n",
    "    print(\"Unknown file type\")"
   ]
  },
  {
   "cell_type": "markdown",
   "id": "e1a83a02",
   "metadata": {},
   "source": [
    "## Python Directories\n",
    "If there are a large number of files to handle in our Python program, we can arrange our code \n",
    "within different directories to make things more manageable.A directory or folder is a collection of files and subdirectories."
   ]
  },
  {
   "cell_type": "markdown",
   "id": "e9243538",
   "metadata": {},
   "source": [
    "### 1. Some Basic Functions on Directories\n",
    "\n",
    "`os.listdir([path])`: Return a list containing the names of the files in the directory (default is cwd). <br>\n",
    "`os.getcwd()`:        Return a unicode string representing absolute path ofcurrent working directory. <br>\n",
    "`os.mkdir([path])`:   Create a new directory. <br>\n",
    "`os.rmdir('path')`:   Removes a directory. <br>\n",
    "`os.rename('oldname', 'newname')`: Renames a directory <br>\n",
    "`os.chdir(path)`:     Change the current working directory to the specified path. <br>\n"
   ]
  },
  {
   "cell_type": "markdown",
   "id": "173f50f0",
   "metadata": {},
   "source": [
    "### Example Code Snippets\n"
   ]
  },
  {
   "cell_type": "code",
   "execution_count": null,
   "id": "98ac549d",
   "metadata": {},
   "outputs": [],
   "source": [
    "# Example Create new directory\n",
    "import os\n",
    "os.chdir\n",
    "# check absolute pathe of your current working directory\n",
    "print(\"Current working directory is: \", os.getcwd())\n",
    "\n",
    "# check the contents of cwd\n",
    "print(\"\\nContents:\\n\", os.listdir()) # you can give path of a directory in listdir() function\n",
    "\n",
    "# create a new directory named test\n",
    "!rmdir test\n",
    "os.mkdir('test') #Will raise an error if already exist (!rmdir test)\n",
    "\n",
    "# check the contents of cwd again\n",
    "print(\"\\nContents:\\n\", os.listdir())"
   ]
  },
  {
   "cell_type": "code",
   "execution_count": null,
   "id": "63f13cf7",
   "metadata": {},
   "outputs": [],
   "source": [
    "# Example Removing an empty directory (You cannot remove a non-empty directory using rmdir())\n",
    "\n",
    "os.rmdir('test')\n",
    "# check the contents of cwd again\n",
    "print(\"\\nContents:\\n\", os.listdir())\n"
   ]
  },
  {
   "cell_type": "code",
   "execution_count": null,
   "id": "8e74f98b",
   "metadata": {},
   "outputs": [],
   "source": [
    "# Example: Renaming a directory\n",
    "\n",
    "import os\n",
    "\n",
    "!mkdir aaa\n",
    "print(\"Contents of CWD:\\n\", os.listdir())\n",
    "os.rename('aaa','aaanew')\n",
    "print(\"\\nContents of CWD:\\n\",os.listdir())\n"
   ]
  },
  {
   "cell_type": "code",
   "execution_count": null,
   "id": "306a8059",
   "metadata": {},
   "outputs": [],
   "source": [
    "# you can change the current working directory by using the chdir() method.\n",
    "# The new path that we want to change into must be supplied as a string \n",
    "import os\n",
    "print(os.getcwd())\n",
    "os.chdir('../')\n",
    "\n",
    "print(os.getcwd())"
   ]
  },
  {
   "cell_type": "code",
   "execution_count": null,
   "id": "a7a04ebc",
   "metadata": {},
   "outputs": [],
   "source": []
  }
 ],
 "metadata": {
  "kernelspec": {
   "display_name": "Python 3 (ipykernel)",
   "language": "python",
   "name": "python3"
  },
  "language_info": {
   "codemirror_mode": {
    "name": "ipython",
    "version": 3
   },
   "file_extension": ".py",
   "mimetype": "text/x-python",
   "name": "python",
   "nbconvert_exporter": "python",
   "pygments_lexer": "ipython3",
   "version": "3.8.10"
  }
 },
 "nbformat": 4,
 "nbformat_minor": 5
}
