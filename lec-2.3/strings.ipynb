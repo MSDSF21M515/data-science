{
 "cells": [
  {
   "cell_type": "markdown",
   "id": "b0cf17d5",
   "metadata": {},
   "source": [
    "<div style=\"background-color:rgba(50, 81, 100, .9); font-family: 'Bebas Neue'; padding:10px 0;  margin-top:2px; margin-bottom:2px\">\n",
    "\n",
    "   \n",
    " <img align=\"left\" width=\"75\" height=\"75\"  src=\"https://upload.wikimedia.org/wikipedia/en/c/c8/University_of_the_Punjab_logo.png\"  > \n",
    "\n",
    "   \n",
    "<h1><div style=\"text-align: center\"> Department of Data Science</div>\n",
    "<div style=\"text-align: center\"> University of the Punjab, Lahore</div></h1>\n",
    "\n",
    "\n",
    "<h1><div style=\"text-align: center\">Course Title: Tools and Techniques for Data Science</div></h1>\n",
    "\n",
    "   <div style=\"text-align: right; margin-right: 5px; font-size:18px\"> <em><strong>Muhammad Arif Butt, Ph.D.</strong></em></div>\n",
    "    \n",
    "    "
   ]
  },
  {
   "cell_type": "markdown",
   "id": "351c3150",
   "metadata": {},
   "source": [
    "<h2><div style=\"text-align: center\"> \" <u>Strings</u> \"</div></h2>"
   ]
  },
  {
   "cell_type": "markdown",
   "id": "9f811f89",
   "metadata": {},
   "source": [
    "### 1- Defining strings in Python"
   ]
  },
  {
   "cell_type": "code",
   "execution_count": 1,
   "id": "e360d31b",
   "metadata": {},
   "outputs": [
    {
     "name": "stdout",
     "output_type": "stream",
     "text": [
      "Hello\n",
      "World\n"
     ]
    }
   ],
   "source": [
    "# Both are equivalent\n",
    "\n",
    "string1 = 'Hello'\n",
    "print(string1)\n",
    "\n",
    "string2 = \"World\"\n",
    "print(string2)"
   ]
  },
  {
   "cell_type": "code",
   "execution_count": 2,
   "id": "30ceb2f2",
   "metadata": {},
   "outputs": [
    {
     "name": "stdout",
     "output_type": "stream",
     "text": [
      "Hello, This is\n",
      "            multi-line string\n",
      "Hello, This is\n",
      "            multi-line string\n"
     ]
    }
   ],
   "source": [
    "# triple quotes string can extend multiple lines\n",
    "\n",
    "string3 = \"\"\"Hello, This is\n",
    "            multi-line string\"\"\"\n",
    "print(string3)\n",
    "\n",
    "string3 = '''Hello, This is\n",
    "            multi-line string'''\n",
    "print(string3)"
   ]
  },
  {
   "cell_type": "markdown",
   "id": "d3e111e1",
   "metadata": {},
   "source": [
    "### 2- Accessing string elements in Python"
   ]
  },
  {
   "cell_type": "code",
   "execution_count": 3,
   "id": "b99f10c5",
   "metadata": {},
   "outputs": [
    {
     "name": "stdout",
     "output_type": "stream",
     "text": [
      "str =  PythonProgramming\n",
      "str[0] =  P\n",
      "str[-1] =  g\n",
      "str[-2] =  n\n"
     ]
    }
   ],
   "source": [
    "str = 'PythonProgramming'\n",
    "print('str = ', str)\n",
    "\n",
    "#access first index\n",
    "print('str[0] = ', str[0])\n",
    "\n",
    "#access last index\n",
    "print('str[-1] = ', str[-1])\n",
    "\n",
    "#access second last index\n",
    "print('str[-2] = ', str[-2])"
   ]
  },
  {
   "cell_type": "code",
   "execution_count": null,
   "id": "14a46b12",
   "metadata": {},
   "outputs": [],
   "source": [
    "#access an index out of the range, will get error\n",
    "print(str[15])\n",
    "\n",
    "#use numbers other than an integer,will get error\n",
    "print(str[1.5])"
   ]
  },
  {
   "cell_type": "markdown",
   "id": "5cbf1435",
   "metadata": {},
   "source": [
    "### 3- Immutable Data Type"
   ]
  },
  {
   "cell_type": "code",
   "execution_count": null,
   "id": "d0771648",
   "metadata": {},
   "outputs": [],
   "source": [
    "#strings are immutable\n",
    "str1 = 'ArifButt'\n",
    "str1[5] = c\n",
    "\n",
    "#assigning a new value is valid\n",
    "#str1 = 'python'"
   ]
  },
  {
   "cell_type": "markdown",
   "id": "e8c7221e",
   "metadata": {},
   "source": [
    "### 4- Slicing\n",
    "<p> A segment of string is called a slice. <b>str[x:y]</b> <br>\n",
    "Slicing from xth to yth character: includes xth but excludes yth </p>"
   ]
  },
  {
   "cell_type": "code",
   "execution_count": null,
   "id": "a45eb434",
   "metadata": {},
   "outputs": [],
   "source": [
    "str = 'DataScienceToolsAndTechniques'\n",
    "\n",
    "#slicing 2nd to 5th character\n",
    "print('str[1:5] = ', str[1:5])\n",
    "\n",
    "#slicing 6th to 2nd last character\n",
    "print('str[6:-2] = ', str[6:-2])\n",
    "\n"
   ]
  },
  {
   "cell_type": "code",
   "execution_count": null,
   "id": "51502eac",
   "metadata": {},
   "outputs": [],
   "source": [
    "#if omit the xth part (before colon), slicing starts from the beginning\n",
    "print(str[:-2])\n",
    "\n",
    "#if omit the yth part (after colon), slicing goes till the end of the string\n",
    "print(str[5:])\n",
    "\n",
    "#if x is greater than y, it will return empty string\n",
    "print(str[5:2])"
   ]
  },
  {
   "cell_type": "code",
   "execution_count": null,
   "id": "0081d99c",
   "metadata": {},
   "outputs": [],
   "source": [
    "#Step argument is optional, and indicates strides b/w elements, \n",
    "#step of 3 takes every 3rd element\n",
    "\n",
    "str = 'DataScienceToolsAndTechniques'\n",
    "print(str[0:-1:3])"
   ]
  },
  {
   "cell_type": "markdown",
   "id": "2603ff7c",
   "metadata": {},
   "source": [
    "### 5- Concatenation"
   ]
  },
  {
   "cell_type": "code",
   "execution_count": null,
   "id": "44dc0a9d",
   "metadata": {},
   "outputs": [],
   "source": [
    "# Concate two strings\n",
    "str1 = 'Hello'\n",
    "str2 ='World!'\n",
    "\n",
    "# using +\n",
    "print('str1 + str2 = ', str1 + str2)"
   ]
  },
  {
   "cell_type": "markdown",
   "id": "f4bdee54",
   "metadata": {},
   "source": [
    "### 6- Creating Large strings"
   ]
  },
  {
   "cell_type": "code",
   "execution_count": null,
   "id": "5fcc181e",
   "metadata": {},
   "outputs": [],
   "source": [
    "# using *\n",
    "str1 = 'Hello'\n",
    "print('str1 * 3 =', str1 * 3)\n",
    "\n",
    "buffer = 'A'*100\n",
    "print(buffer)"
   ]
  },
  {
   "cell_type": "code",
   "execution_count": null,
   "id": "38256c61",
   "metadata": {},
   "outputs": [],
   "source": [
    "str3 = \"Hello World\"\n",
    "\n",
    "print(\"Y\" + str3[1:])"
   ]
  },
  {
   "cell_type": "markdown",
   "id": "3f759ac2",
   "metadata": {},
   "source": [
    "### 7- Find and Replace"
   ]
  },
  {
   "cell_type": "code",
   "execution_count": null,
   "id": "58ce5dc1",
   "metadata": {},
   "outputs": [],
   "source": [
    "str = 'DataScienceToolsAndTechniques'\n",
    "print(str.find('ata'))\n",
    "\n",
    "\n",
    "print(str.find('and'))"
   ]
  },
  {
   "cell_type": "code",
   "execution_count": null,
   "id": "b6be2b4a",
   "metadata": {},
   "outputs": [],
   "source": [
    "#find l after 4th index\n",
    "st1 ='Hello World'\n",
    "print(str.find('l',4))"
   ]
  },
  {
   "cell_type": "code",
   "execution_count": null,
   "id": "93b57ec8",
   "metadata": {},
   "outputs": [],
   "source": [
    "print(str.replace('ToolsAndTechniques', 'Python'))\n",
    "\n",
    "print(\"hello\".replace(\"e\",\"a\"))"
   ]
  },
  {
   "cell_type": "markdown",
   "id": "85f7b8a7",
   "metadata": {},
   "source": [
    "### 8- Split and Join"
   ]
  },
  {
   "cell_type": "code",
   "execution_count": null,
   "id": "ec111ec7",
   "metadata": {},
   "outputs": [],
   "source": [
    "buffer = 'Learning is fun with Arif Butt'\n",
    "print(buffer.split())\n",
    "\n",
    "print(buffer.split('i'))"
   ]
  },
  {
   "cell_type": "code",
   "execution_count": null,
   "id": "2fc9dece",
   "metadata": {},
   "outputs": [],
   "source": [
    "' '.join(['Learning', 'is', 'fun', 'with', 'Arif'])\n",
    "\n"
   ]
  },
  {
   "cell_type": "markdown",
   "id": "db4dd60b",
   "metadata": {},
   "source": [
    "### 9- String Membership test"
   ]
  },
  {
   "cell_type": "code",
   "execution_count": null,
   "id": "ad151253",
   "metadata": {},
   "outputs": [],
   "source": [
    "'a' in 'DataScience'"
   ]
  },
  {
   "cell_type": "code",
   "execution_count": null,
   "id": "7dacbbf5",
   "metadata": {},
   "outputs": [],
   "source": [
    "'th' not in 'python'"
   ]
  },
  {
   "cell_type": "markdown",
   "id": "a37b6a03",
   "metadata": {},
   "source": [
    "### 10- Built-in string functions"
   ]
  },
  {
   "cell_type": "code",
   "execution_count": 6,
   "id": "3f201280",
   "metadata": {},
   "outputs": [
    {
     "name": "stdout",
     "output_type": "stream",
     "text": [
      "len(str) =  25\n",
      "Learning is fun with arif\n",
      "arifbutt\n",
      "ARIFBUTT\n"
     ]
    }
   ],
   "source": [
    "# Similarly, len() returns the length (number of characters) of the string.\n",
    "str = 'learning is fun with arif'\n",
    "print('len(str) = ', len(str))\n",
    "print(str.capitalize())\n",
    "\n",
    "\n",
    "print(\"ArifBUtt\".lower())\n",
    "\n",
    "print(\"ArifBUtt\".upper())"
   ]
  },
  {
   "cell_type": "code",
   "execution_count": null,
   "id": "2ec66201",
   "metadata": {},
   "outputs": [],
   "source": [
    "#to remove extra spaces from string\n",
    "buffer =' hello world '\n",
    "buffer.strip()"
   ]
  },
  {
   "cell_type": "code",
   "execution_count": null,
   "id": "cafc44b9",
   "metadata": {},
   "outputs": [],
   "source": [
    "#startswith method return boolean value\n",
    "buffer = \"Please, help me\"\n",
    "buffer.startswith('Please')\n",
    "\n",
    "#in this case, will return false(case sensitive)\n",
    "buffer.startswith('please')\n",
    "\n",
    "#to convert\n",
    "buffer.lower.startswith('please')"
   ]
  },
  {
   "cell_type": "markdown",
   "id": "0b091d0e",
   "metadata": {},
   "source": [
    "### 11- String Formatting "
   ]
  },
  {
   "cell_type": "code",
   "execution_count": null,
   "id": "83140342",
   "metadata": {},
   "outputs": [],
   "source": [
    "name = 'Asim'\n",
    "age = 50\n",
    "msg = 'Welcome Mr %s you are %d years old' %(name, age)\n",
    "print(msg)\n",
    "\n",
    "\n",
    "#backslash\n",
    "print(\"To print backslash: C:\\\\\")\n",
    "\n",
    "#Newline\n",
    "print(\"It prints\\nin two lines\")\n",
    "\n",
    "#HEX Representation\n",
    "print(\"This is \\x48\\x45\\x58 representation\")"
   ]
  }
 ],
 "metadata": {
  "kernelspec": {
   "display_name": "Python 3 (ipykernel)",
   "language": "python",
   "name": "python3"
  },
  "language_info": {
   "codemirror_mode": {
    "name": "ipython",
    "version": 3
   },
   "file_extension": ".py",
   "mimetype": "text/x-python",
   "name": "python",
   "nbconvert_exporter": "python",
   "pygments_lexer": "ipython3",
   "version": "3.8.10"
  }
 },
 "nbformat": 4,
 "nbformat_minor": 5
}
