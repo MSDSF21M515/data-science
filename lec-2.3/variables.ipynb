{
 "cells": [
  {
   "cell_type": "markdown",
   "id": "14894adf",
   "metadata": {},
   "source": [
    "<div style=\"background-color:rgba(50, 81, 100, .9); font-family: 'Bebas Neue'; padding:10px 0;  margin-top:2px; margin-bottom:2px\">\n",
    "\n",
    "   \n",
    " <img align=\"left\" width=\"75\" height=\"75\"  src=\"https://upload.wikimedia.org/wikipedia/en/c/c8/University_of_the_Punjab_logo.png\"  > \n",
    "\n",
    "   \n",
    "<h1><div style=\"text-align: center\"> Department of Data Science</div>\n",
    "<div style=\"text-align: center\"> University of the Punjab, Lahore</div></h1>\n",
    "\n",
    "\n",
    "<h1><div style=\"text-align: center\">Course Title: Tools and Techniques for Data Science</div></h1>\n",
    "\n",
    "   <div style=\"text-align: right; margin-right: 5px; font-size:18px\"> <em><strong>Muhammad Arif Butt, Ph.D.</strong></em></div>\n",
    "    \n",
    "    "
   ]
  },
  {
   "cell_type": "markdown",
   "id": "8a0b5128",
   "metadata": {},
   "source": [
    "<h2><div style=\"text-align: center\"> \" <u>Variables</u> \"</div></h2>"
   ]
  },
  {
   "cell_type": "code",
   "execution_count": null,
   "id": "cc9091ad",
   "metadata": {},
   "outputs": [],
   "source": [
    "print(2+3)\n",
    "print(5*7)"
   ]
  },
  {
   "cell_type": "code",
   "execution_count": null,
   "id": "518a55a9",
   "metadata": {},
   "outputs": [],
   "source": [
    "name = \"Arif Butt\"\n",
    "print(name)"
   ]
  },
  {
   "cell_type": "code",
   "execution_count": null,
   "id": "401c5e99",
   "metadata": {},
   "outputs": [],
   "source": [
    "name = 1234\n",
    "print(name)"
   ]
  },
  {
   "cell_type": "code",
   "execution_count": null,
   "id": "35ab7da4",
   "metadata": {},
   "outputs": [],
   "source": [
    "# True is a keyword, can't be used as variable name\n",
    "\n",
    "True = 100"
   ]
  },
  {
   "cell_type": "code",
   "execution_count": 1,
   "id": "d791c813",
   "metadata": {},
   "outputs": [
    {
     "ename": "SyntaxError",
     "evalue": "invalid syntax (<ipython-input-1-52ce92afbe20>, line 1)",
     "output_type": "error",
     "traceback": [
      "\u001b[1;36m  File \u001b[1;32m\"<ipython-input-1-52ce92afbe20>\"\u001b[1;36m, line \u001b[1;32m1\u001b[0m\n\u001b[1;33m    1var = 530\u001b[0m\n\u001b[1;37m     ^\u001b[0m\n\u001b[1;31mSyntaxError\u001b[0m\u001b[1;31m:\u001b[0m invalid syntax\n"
     ]
    }
   ],
   "source": [
    "1var = 530"
   ]
  },
  {
   "cell_type": "code",
   "execution_count": null,
   "id": "55bb8e60",
   "metadata": {},
   "outputs": [],
   "source": [
    "@i = 980"
   ]
  },
  {
   "cell_type": "code",
   "execution_count": null,
   "id": "87bc5c37",
   "metadata": {},
   "outputs": [],
   "source": [
    "# to check the type of variable\n",
    "type(name)"
   ]
  },
  {
   "cell_type": "code",
   "execution_count": null,
   "id": "25a3f57b",
   "metadata": {},
   "outputs": [],
   "source": [
    "#Assigning multiple values to multiple variables\n",
    "a, b, c = 5, 3.2, \"Hello\"\n",
    "\n",
    "print ('a:',a,' b:',b,' c:',c)"
   ]
  }
 ],
 "metadata": {
  "kernelspec": {
   "display_name": "Python 3 (ipykernel)",
   "language": "python",
   "name": "python3"
  },
  "language_info": {
   "codemirror_mode": {
    "name": "ipython",
    "version": 3
   },
   "file_extension": ".py",
   "mimetype": "text/x-python",
   "name": "python",
   "nbconvert_exporter": "python",
   "pygments_lexer": "ipython3",
   "version": "3.8.10"
  }
 },
 "nbformat": 4,
 "nbformat_minor": 5
}
