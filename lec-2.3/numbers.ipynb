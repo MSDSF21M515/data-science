{
 "cells": [
  {
   "cell_type": "markdown",
   "id": "3265955d",
   "metadata": {},
   "source": [
    "<div style=\"background-color:rgba(50, 81, 100, .9); font-family: 'Bebas Neue'; padding:10px 0;  margin-top:2px; margin-bottom:2px\">\n",
    "\n",
    "   \n",
    " <img align=\"left\" width=\"75\" height=\"75\"  src=\"https://upload.wikimedia.org/wikipedia/en/c/c8/University_of_the_Punjab_logo.png\"  > \n",
    "\n",
    "   \n",
    "<h1><div style=\"text-align: center\"> Department of Data Science</div>\n",
    "<div style=\"text-align: center\"> University of the Punjab, Lahore</div></h1>\n",
    "\n",
    "\n",
    "<h1><div style=\"text-align: center\">Course Title: Tools and Techniques for Data Science</div></h1>\n",
    "\n",
    "   <div style=\"text-align: right; margin-right: 5px; font-size:18px\"> <em><strong>Muhammad Arif Butt, Ph.D.</strong></em></div>\n",
    "    \n",
    "    "
   ]
  },
  {
   "cell_type": "markdown",
   "id": "2736825d",
   "metadata": {},
   "source": [
    "<h2><div style=\"text-align: center\"> \" <u>Numbers</u> \"</div></h2>"
   ]
  },
  {
   "cell_type": "markdown",
   "id": "f8938a24",
   "metadata": {},
   "source": [
    "### 1- Types"
   ]
  },
  {
   "cell_type": "code",
   "execution_count": null,
   "id": "6c0e10f7",
   "metadata": {},
   "outputs": [],
   "source": [
    "x = 10\n",
    "y = 20.5\n",
    "z = 3 + 3j\n",
    "\n",
    "print(type(x))\n",
    "print(type(y))\n",
    "print(type(z))"
   ]
  },
  {
   "cell_type": "code",
   "execution_count": null,
   "id": "21aa6467",
   "metadata": {},
   "outputs": [],
   "source": [
    "# Example of Boolean data type \n",
    "y = 10 < 100\n",
    "print(y)\n",
    "print(type(y))"
   ]
  },
  {
   "cell_type": "markdown",
   "id": "02b616e8",
   "metadata": {},
   "source": [
    "### 2- Range"
   ]
  },
  {
   "cell_type": "code",
   "execution_count": null,
   "id": "b185e69e",
   "metadata": {},
   "outputs": [],
   "source": [
    "#Range\n",
    "i = 1234567890123456789\n",
    "j = 0.1234567890123456789\n",
    "print(i)\n",
    "print(j)\n",
    "#Notice that the float variable j got round after 16 decimal places."
   ]
  },
  {
   "cell_type": "markdown",
   "id": "10f47a7e",
   "metadata": {},
   "source": [
    "### 3- Different operations and Data Types"
   ]
  },
  {
   "cell_type": "code",
   "execution_count": null,
   "id": "d360580a",
   "metadata": {},
   "outputs": [],
   "source": [
    "#addition operation on complex variables\n",
    "c = 4 + 3j\n",
    "print(c * 3)\n",
    "print(type(c))\n",
    "\n",
    "#Comparison operator b/w complex numbers (doesn't support)\n",
    "d = 5 + 3j < 8 +3j\n",
    "print(d)"
   ]
  },
  {
   "cell_type": "code",
   "execution_count": null,
   "id": "16d3f182",
   "metadata": {},
   "outputs": [],
   "source": [
    "#boolean data type in Python?\n",
    "\"\"\" In the above program, we use boolean literal True and False. \n",
    "In Python, True represents the value as 1 and False as 0. The value \n",
    "of x is True because 1 is equal to True. And, the value of y is False \n",
    "because 1 is not equal to False. \"\"\"\n",
    "\n",
    "x = (-1 == True)\n",
    "y = (1 == False)\n",
    "a = True + 9\n",
    "b = False + 15\n",
    "\n",
    "print(\"x is\", x)\n",
    "print(\"y is\", y)\n",
    "print(\"a:\", a)\n",
    "print(\"b:\", b)"
   ]
  },
  {
   "cell_type": "code",
   "execution_count": null,
   "id": "d20c1eea",
   "metadata": {},
   "outputs": [],
   "source": [
    "(1.1 + 2.2) == 3.3\n",
    "\n",
    "# It turns out that floating-point numbers are implemented \n",
    "# in computer hardware as binary fractions as the computer \n",
    "# only understands binary (0 and 1). Due to this reason, \n",
    "# most of the decimal fractions we know, cannot be accurately \n",
    "# stored in our computer."
   ]
  },
  {
   "cell_type": "code",
   "execution_count": null,
   "id": "6a6948af",
   "metadata": {},
   "outputs": [],
   "source": [
    "1.1 + 2.2"
   ]
  },
  {
   "cell_type": "markdown",
   "id": "9af36f0d",
   "metadata": {},
   "source": [
    "### 4- Conversion Functions"
   ]
  },
  {
   "cell_type": "code",
   "execution_count": null,
   "id": "20756391",
   "metadata": {},
   "outputs": [],
   "source": [
    "print(float('2.5'))\n",
    "print(str(25))\n",
    "print(complex(3))\n",
    "print(complex(3+5))\n",
    "print(complex(4+7j))\n",
    "print(int('33m'))\n"
   ]
  },
  {
   "cell_type": "markdown",
   "id": "f13ecdd2",
   "metadata": {},
   "source": [
    "### 5- Mathematical Functions"
   ]
  },
  {
   "cell_type": "code",
   "execution_count": null,
   "id": "0a231c40",
   "metadata": {},
   "outputs": [],
   "source": [
    "print(pow(2,3))\n",
    "\n",
    "print(pow(2+0j,3))\n",
    "\n",
    "print(pow(2+1j,3))\n",
    "print(pow(2+2j,3))"
   ]
  },
  {
   "cell_type": "code",
   "execution_count": null,
   "id": "8fe542a7",
   "metadata": {},
   "outputs": [],
   "source": [
    "import math\n",
    "\n",
    "math.ceil(2.5678)\n",
    "math.floor(2.5678)\n",
    "math.sqrt(144)\n",
    "\n",
    "#math.cmp(10,10)   #Need to check\n",
    "#math.ceil(float(2+1j))"
   ]
  },
  {
   "cell_type": "markdown",
   "id": "dd16b6e2",
   "metadata": {},
   "source": [
    "### 6- Number System"
   ]
  },
  {
   "cell_type": "code",
   "execution_count": null,
   "id": "a4342a5f",
   "metadata": {},
   "outputs": [],
   "source": [
    "#Number System\n",
    "\n",
    "#binary\n",
    "print(0b1101011)\n",
    "\n",
    "#hex + binary\n",
    "print(0xFD + 0b11)\n",
    "\n",
    "#octal\n",
    "print(0o15)"
   ]
  },
  {
   "cell_type": "code",
   "execution_count": null,
   "id": "035dded0",
   "metadata": {},
   "outputs": [],
   "source": []
  }
 ],
 "metadata": {
  "kernelspec": {
   "display_name": "Python 3 (ipykernel)",
   "language": "python",
   "name": "python3"
  },
  "language_info": {
   "codemirror_mode": {
    "name": "ipython",
    "version": 3
   },
   "file_extension": ".py",
   "mimetype": "text/x-python",
   "name": "python",
   "nbconvert_exporter": "python",
   "pygments_lexer": "ipython3",
   "version": "3.8.10"
  }
 },
 "nbformat": 4,
 "nbformat_minor": 5
}
