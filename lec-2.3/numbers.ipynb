{
 "cells": [
  {
   "cell_type": "markdown",
   "id": "3265955d",
   "metadata": {},
   "source": [
    "<div style=\"background-color:rgba(50, 81, 100, .9); font-family: 'Bebas Neue'; padding:10px 0;  margin-top:2px; margin-bottom:2px\">\n",
    "\n",
    "   \n",
    " <img align=\"left\" width=\"75\" height=\"75\"  src=\"https://upload.wikimedia.org/wikipedia/en/c/c8/University_of_the_Punjab_logo.png\"  > \n",
    "\n",
    "   \n",
    "<h1><div style=\"text-align: center\"> Department of Data Science</div>\n",
    "<div style=\"text-align: center\"> University of the Punjab, Lahore</div></h1>\n",
    "\n",
    "\n",
    "<h1><div style=\"text-align: center\">Course Title: Tools and Techniques for Data Science</div></h1>\n",
    "\n",
    "   <div style=\"text-align: right; margin-right: 5px; font-size:18px\"> <em><strong>Muhammad Arif Butt, Ph.D.</strong></em></div>\n",
    "    \n",
    "    "
   ]
  },
  {
   "cell_type": "markdown",
   "id": "2736825d",
   "metadata": {},
   "source": [
    "<h2><div style=\"text-align: center\"> \" <u>Lecture 2.2</u> \"</div></h2>"
   ]
  },
  {
   "cell_type": "markdown",
   "id": "3cd521f2",
   "metadata": {},
   "source": [
    "## _numbers.ipynb_\n",
    "#### [Click me to learn more about Python numbers](https://www.w3schools.com/python/python_numbers.asp)"
   ]
  },
  {
   "cell_type": "markdown",
   "id": "f8938a24",
   "metadata": {},
   "source": [
    "### 1. Numberic data types can take four different types of values"
   ]
  },
  {
   "cell_type": "code",
   "execution_count": 1,
   "id": "6c0e10f7",
   "metadata": {},
   "outputs": [
    {
     "name": "stdout",
     "output_type": "stream",
     "text": [
      "<class 'int'>\n",
      "<class 'float'>\n",
      "<class 'complex'>\n",
      "<class 'bool'>\n"
     ]
    }
   ],
   "source": [
    "w = 10\n",
    "x = 20.5\n",
    "y = 3 + 3j\n",
    "z = True\n",
    "print(type(w))\n",
    "print(type(x))\n",
    "print(type(y))\n",
    "print(type(z))"
   ]
  },
  {
   "cell_type": "code",
   "execution_count": 2,
   "id": "21aa6467",
   "metadata": {},
   "outputs": [
    {
     "name": "stdout",
     "output_type": "stream",
     "text": [
      "True\n",
      "<class 'bool'>\n"
     ]
    }
   ],
   "source": [
    "# Example of Boolean data type \n",
    "y = 10 < 100\n",
    "print(y)\n",
    "print(type(y))"
   ]
  },
  {
   "cell_type": "code",
   "execution_count": 3,
   "id": "16d3f182",
   "metadata": {},
   "outputs": [
    {
     "name": "stdout",
     "output_type": "stream",
     "text": [
      "x is False\n",
      "y is False\n",
      "a: 10\n",
      "b: 15\n"
     ]
    }
   ],
   "source": [
    "\"\"\"\n",
    "boolean data type in Python?\n",
    "In Python, True represents the value as 1 and False as 0. \n",
    "\"\"\"\n",
    "\n",
    "x = (-1 == True)\n",
    "y = (1 == False)\n",
    "a = True + 9\n",
    "b = False + 15\n",
    "\n",
    "print(\"x is\", x)\n",
    "print(\"y is\", y)\n",
    "print(\"a:\", a)\n",
    "print(\"b:\", b)"
   ]
  },
  {
   "cell_type": "markdown",
   "id": "02b616e8",
   "metadata": {},
   "source": [
    "### 2. Range"
   ]
  },
  {
   "cell_type": "code",
   "execution_count": 4,
   "id": "b185e69e",
   "metadata": {},
   "outputs": [
    {
     "name": "stdout",
     "output_type": "stream",
     "text": [
      "12345678901234567890123456789012345678901234567890\n",
      "0.12345678901234568\n"
     ]
    }
   ],
   "source": [
    "#Range\n",
    "i = 12345678901234567890123456789012345678901234567890\n",
    "j = 0.1234567890123456711\n",
    "print(i)\n",
    "print(j)\n",
    "#Notice that the float variable j is rounded up after 16 decimal places."
   ]
  },
  {
   "cell_type": "markdown",
   "id": "10f47a7e",
   "metadata": {},
   "source": [
    "### 3. Different operations and Data Types"
   ]
  },
  {
   "cell_type": "code",
   "execution_count": 5,
   "id": "d360580a",
   "metadata": {},
   "outputs": [
    {
     "name": "stdout",
     "output_type": "stream",
     "text": [
      "<class 'complex'>\n",
      "(7+6j)\n",
      "(1+6j)\n",
      "(12+18j)\n",
      "(1.3333333333333333+2j)\n"
     ]
    }
   ],
   "source": [
    "#addition operation on complex variables\n",
    "c = 4 + 6j\n",
    "print(type(c))\n",
    "print(c + 3)\n",
    "print(c - 3)\n",
    "print(c * 3)\n",
    "print(c / 3)\n",
    "\n",
    "#Comparison operator b/w complex numbers (doesn't support)\n",
    "#d = 5 + 3j < 8 +3j\n",
    "#print(d)"
   ]
  },
  {
   "cell_type": "code",
   "execution_count": 6,
   "id": "d20c1eea",
   "metadata": {},
   "outputs": [
    {
     "name": "stdout",
     "output_type": "stream",
     "text": [
      "False\n"
     ]
    }
   ],
   "source": [
    "'''\n",
    "Floating-point numbers are stored in computer hardware in IEEE-754 format\n",
    "Due to this reason, most of the decimal fractions we know, cannot be accurately stored in our computer.\n",
    "'''\n",
    "a = 1.1 + 2.2\n",
    "b = (a == 3.3)\n",
    "print(b)\n",
    "#print(a)"
   ]
  },
  {
   "cell_type": "code",
   "execution_count": 7,
   "id": "6a6948af",
   "metadata": {},
   "outputs": [
    {
     "data": {
      "text/plain": [
       "3.3000000000000003"
      ]
     },
     "execution_count": 7,
     "metadata": {},
     "output_type": "execute_result"
    }
   ],
   "source": [
    "1.1 + 2.2"
   ]
  },
  {
   "cell_type": "markdown",
   "id": "9af36f0d",
   "metadata": {},
   "source": [
    "### 4. Conversion Functions"
   ]
  },
  {
   "cell_type": "code",
   "execution_count": 8,
   "id": "20756391",
   "metadata": {},
   "outputs": [
    {
     "name": "stdout",
     "output_type": "stream",
     "text": [
      "2.5\n",
      "25\n",
      "(3+0j)\n",
      "(8+0j)\n",
      "(4+7j)\n"
     ]
    }
   ],
   "source": [
    "print(float('2.5'))\n",
    "print(str(25))\n",
    "print(complex(3))\n",
    "print(complex(3+5))\n",
    "print(complex(4+7j))\n",
    "#print(int('33m'))"
   ]
  },
  {
   "cell_type": "markdown",
   "id": "f13ecdd2",
   "metadata": {},
   "source": [
    "### 5. Some built-in Mathematical Functions"
   ]
  },
  {
   "cell_type": "code",
   "execution_count": 9,
   "id": "0a231c40",
   "metadata": {},
   "outputs": [
    {
     "name": "stdout",
     "output_type": "stream",
     "text": [
      "1024\n",
      "3\n",
      "2.7\n",
      "0b11011\n",
      "0x1b\n",
      "0o33\n"
     ]
    }
   ],
   "source": [
    "# pow() Return 2^10 in this case\n",
    "print(pow(2,10))\n",
    "\n",
    "# abs() Return the absolute value of a number.\n",
    "a = abs(-3)\n",
    "print(a)\n",
    "b = abs(-2.7)\n",
    "print(b)\n",
    "\n",
    "# bin() converts an integer number to a binary string prefixed with 0b\n",
    "print(bin(27))\n",
    "\n",
    "# hex() converts an integer number to a lower case hex string prefixed with 0x\n",
    "print(hex(27))\n",
    "\n",
    "# oct() converts an integer number to a octal string prefixed with 0o\n",
    "print(oct(27))"
   ]
  },
  {
   "cell_type": "markdown",
   "id": "a8646ad2",
   "metadata": {},
   "source": [
    "### 6. Some Mathematical Functions for which you have to import the math library\n",
    "#### [Click me to learn more](https://docs.python.org/3/library/)"
   ]
  },
  {
   "cell_type": "code",
   "execution_count": 10,
   "id": "c70b6d77",
   "metadata": {},
   "outputs": [
    {
     "name": "stdout",
     "output_type": "stream",
     "text": [
      "3\n",
      "2\n",
      "12.0\n",
      "120\n"
     ]
    }
   ],
   "source": [
    "import math\n",
    "print(math.ceil(2.1678))\n",
    "print(math.floor(2.9678))\n",
    "print(math.sqrt(144))\n",
    "print(math.factorial(5))"
   ]
  }
 ],
 "metadata": {
  "kernelspec": {
   "display_name": "Python 3 (ipykernel)",
   "language": "python",
   "name": "python3"
  },
  "language_info": {
   "codemirror_mode": {
    "name": "ipython",
    "version": 3
   },
   "file_extension": ".py",
   "mimetype": "text/x-python",
   "name": "python",
   "nbconvert_exporter": "python",
   "pygments_lexer": "ipython3",
   "version": "3.8.10"
  }
 },
 "nbformat": 4,
 "nbformat_minor": 5
}
