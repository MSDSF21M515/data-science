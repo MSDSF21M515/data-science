{
 "cells": [
  {
   "cell_type": "markdown",
   "id": "ca09f7e7",
   "metadata": {},
   "source": [
    "<div style=\"background-color:rgba(50, 81, 100, .9); font-family: 'Bebas Neue'; padding:10px 0;  margin-top:2px; margin-bottom:2px\">\n",
    "\n",
    "   \n",
    " <img align=\"left\" width=\"75\" height=\"75\"  src=\"https://upload.wikimedia.org/wikipedia/en/c/c8/University_of_the_Punjab_logo.png\"  > \n",
    "\n",
    "   \n",
    "<h1><div style=\"text-align: center\"> Department of Data Science</div>\n",
    "<div style=\"text-align: center\"> University of the Punjab, Lahore</div></h1>\n",
    "\n",
    "\n",
    "<h1><div style=\"text-align: center\">Course Title: Tools and Techniques for Data Science</div></h1>\n",
    "\n",
    "   <div style=\"text-align: right; margin-right: 5px; font-size:18px\"> <em><strong>Muhammad Arif Butt, Ph.D.</strong></em></div>\n",
    "    \n",
    "    \n",
    "  "
   ]
  },
  {
   "cell_type": "markdown",
   "id": "19663b8b",
   "metadata": {},
   "source": [
    "<h2><div style=\"text-align: center\"> \" <u>Lecture 2.3</u> \"</div></h2>"
   ]
  },
  {
   "cell_type": "markdown",
   "id": "037b9831",
   "metadata": {},
   "source": [
    "## _printfunction.ipynb_"
   ]
  },
  {
   "cell_type": "markdown",
   "id": "27711bd2",
   "metadata": {},
   "source": [
    "### Learning agenda of this notebook\n",
    "\n",
    "1. Arguments to Python print() function\n",
    "2. Using sep keyword in Python print() function\n",
    "2. Using end keyword in Python print() function\n",
    "4. Formatting using Python print() function\n",
    "5. Using Intellisense in Jupyter Notebook"
   ]
  },
  {
   "cell_type": "markdown",
   "id": "78f5914d",
   "metadata": {},
   "source": [
    "### 1. Arguments to Python print() Function\n",
    "* Python print() function receives vriable number of comma separated values and all the comma separated elements/variables get printed on the output separated by spaces (by default)"
   ]
  },
  {
   "cell_type": "code",
   "execution_count": null,
   "id": "350f4af0",
   "metadata": {},
   "outputs": [],
   "source": [
    "print()\n",
    "# initialize 1st variable\n",
    "var1 = 1\n",
    "\n",
    "# initialize 2nd variable\n",
    "var2 = 'string-2'\n",
    "\n",
    "# initialize 3rd variable\n",
    "var3 = float(23.42)\n",
    "\n",
    "print(var1, var2, var3)\n",
    "print(var1, sep=)"
   ]
  },
  {
   "cell_type": "markdown",
   "id": "ea326a8a",
   "metadata": {},
   "source": [
    "### 2. Using sep keyword in python print() function\n",
    "* If you want multiple values to be printed on output separated by some character other than space, use sep keyword and assign it the separater character you want to use"
   ]
  },
  {
   "cell_type": "code",
   "execution_count": null,
   "id": "32e9af8f",
   "metadata": {},
   "outputs": [],
   "source": [
    "# initiaze 1st variable\n",
    "var1 = 1\n",
    "\n",
    "# initialize 2nd variable\n",
    "var2 = 'string-2'\n",
    "\n",
    "# initialize 3rd variable\n",
    "var3 = float(23.42)\n",
    "\n",
    "print(var1, var2, var3)\n",
    "print(var1, var2, var3, sep='_')\n",
    "print(var1, var2, var3, sep=', ')"
   ]
  },
  {
   "cell_type": "markdown",
   "id": "9536a60a",
   "metadata": {},
   "source": [
    "### 3. Using end keyword in python print() function\n",
    "* By default when print() statement is done printing the output, it appends a newline character at the end. Hence, we get the output of each print statement in different line.\n",
    "* You can change this default behavior using the end keyword and assign it the character you want to use instead of newline character "
   ]
  },
  {
   "cell_type": "code",
   "execution_count": null,
   "id": "fa0c5da5",
   "metadata": {},
   "outputs": [],
   "source": [
    "ser = 1\n",
    "item = 'apple'\n",
    "price = float(23.42)\n",
    "\n",
    "# Three print statements, each implicitly using the newline character at the end\n",
    "print(ser)\n",
    "print(item)\n",
    "print(price)\n",
    "\n",
    "# Three print statements, each using end keyword and using the ' : ' instead of newline character\n",
    "print(ser, end=' : ')\n",
    "print(item, end=' : ')\n",
    "print(price, end=' : ')\n"
   ]
  },
  {
   "cell_type": "markdown",
   "id": "b3478296",
   "metadata": {},
   "source": [
    "### 4. Formatting using Python print() function\n",
    "* You can use the **% operator** to format a string to contain text as well as values of identifiers. Use %s inside the string where you want a value to appear. After the string, put a % operator and mention the identifiers in parenthesis.\n",
    "* You can also use the **format() method**. Place the index (0, 1, 2, ...) in curly braces inside the string where you want a value to appear. Call the format() method on the string using the dot operator and mention the identifiers in parenthesis"
   ]
  },
  {
   "cell_type": "code",
   "execution_count": 14,
   "id": "2b235c4c",
   "metadata": {},
   "outputs": [
    {
     "name": "stdout",
     "output_type": "stream",
     "text": [
      "Hello Mr. Arif Butt.\n",
      "Mr. Arif Butt, you are 51 years old.\n",
      "Mr. Arif Butt, you are 51 years old.\n"
     ]
    }
   ],
   "source": [
    "age = 51;    name=\"Arif Butt\"\n",
    "\n",
    "# Use % operator\n",
    "print(\"Hello Mr. %s.\" % (name))\n",
    "print(\"Mr. %s, you are %s years old.\" % (name, age))\n",
    "\n",
    "# Use % operator\n",
    "print(\"Mr. {0}, you are {1} years old.\" .format(name, age))"
   ]
  },
  {
   "cell_type": "code",
   "execution_count": 1,
   "id": "695e6e91",
   "metadata": {},
   "outputs": [
    {
     "name": "stdout",
     "output_type": "stream",
     "text": [
      "To print backslash: C:\\\n",
      "It prints\n",
      "in two lines\n",
      "This is HEX representation\n"
     ]
    }
   ],
   "source": [
    "#backslash\n",
    "print(\"To print backslash: C:\\\\\")\n",
    "\n",
    "#Newline\n",
    "print(\"It prints\\nin two lines\")\n",
    "\n",
    "#HEX Representation\n",
    "print(\"This is \\x48\\x45\\x58 representation\")"
   ]
  },
  {
   "cell_type": "markdown",
   "id": "237b69e2",
   "metadata": {},
   "source": [
    "### 5. Using Intellisense / Code Completion in Jupyter Notebook\n",
    "* Intellisense/Code Completion: A general term for various code editing features including: code completion, parameter info, quick info, and member lists. \n",
    "    * Autocompletion: Type few characters of a variable or function name and then press tab to get a list, press enter to complete\n",
    "    * Intellisense: After the name of an object, put a dot, then press <tab> to get a list of all the attributes and methods of that object\n",
    "    * Tooltip: With the cursor on the name of the method, press <shift+tab> to get a tool tip, that describes what the method does, and what parameters it takes"
   ]
  },
  {
   "cell_type": "code",
   "execution_count": 17,
   "id": "d9d89258",
   "metadata": {},
   "outputs": [
    {
     "name": "stdout",
     "output_type": "stream",
     "text": [
      "hello\n",
      "25.3\n"
     ]
    }
   ],
   "source": [
    "thisisvariablename1 = \"hello\"\n",
    "thisisvariablename2 = \"Bye\"\n",
    "anothervariable = 25.3\n",
    "stringvariable = \"This is long string having names of my friends like Waqas, Khurram, Jamil, Farhan, Shahid. That is GR8\"\n",
    "print(thisisvariablename1)\n",
    "print(anothervariable)"
   ]
  },
  {
   "cell_type": "code",
   "execution_count": null,
   "id": "2921ae06",
   "metadata": {},
   "outputs": [],
   "source": []
  },
  {
   "cell_type": "code",
   "execution_count": null,
   "id": "5fdb53d8",
   "metadata": {},
   "outputs": [],
   "source": []
  },
  {
   "cell_type": "code",
   "execution_count": null,
   "id": "79d17e29",
   "metadata": {},
   "outputs": [],
   "source": []
  },
  {
   "cell_type": "code",
   "execution_count": null,
   "id": "22e3067e",
   "metadata": {},
   "outputs": [],
   "source": []
  },
  {
   "cell_type": "code",
   "execution_count": null,
   "id": "973ca76d",
   "metadata": {},
   "outputs": [],
   "source": []
  },
  {
   "cell_type": "markdown",
   "id": "0ab50385",
   "metadata": {},
   "source": [
    "### 6. Python print to file\n",
    "In this section we will learn about file keyword. Actually file keyword is used for extracting output to a specified file. If you read our previous tutorial Python file operation, then you should know about basic file operation.\n",
    "So, you have to open a file in writable mode first, then use the file pointer as the value of file keyword in print() function. See the following code to understand the python print file usage."
   ]
  },
  {
   "cell_type": "code",
   "execution_count": null,
   "id": "c742cd16",
   "metadata": {},
   "outputs": [],
   "source": [
    "# open a file in writable mood\n",
    "fi = open('output.txt', 'w')\n",
    "\n",
    "# initialize a list\n",
    "initList = ['camel', 'case', 'stop']\n",
    "\n",
    "# print each words using loop\n",
    "print('Printing using default print function')\n",
    "for item in initList:\n",
    "    print(item, file=fi)  # use file keyword\n",
    "\n",
    "print(file=fi)\n",
    "\n",
    "# print each words using modified print function\n",
    "print('Printing using modified print function')\n",
    "for item in initList:\n",
    "    print(item, end='-', file=fi)  # use file keyword\n",
    "\n",
    "# close the file\n",
    "fi.close()\n"
   ]
  }
 ],
 "metadata": {
  "kernelspec": {
   "display_name": "Python 3 (ipykernel)",
   "language": "python",
   "name": "python3"
  },
  "language_info": {
   "codemirror_mode": {
    "name": "ipython",
    "version": 3
   },
   "file_extension": ".py",
   "mimetype": "text/x-python",
   "name": "python",
   "nbconvert_exporter": "python",
   "pygments_lexer": "ipython3",
   "version": "3.8.10"
  }
 },
 "nbformat": 4,
 "nbformat_minor": 5
}
